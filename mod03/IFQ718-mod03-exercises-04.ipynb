{
 "cells": [
  {
   "cell_type": "markdown",
   "id": "e4fd0742-5923-471d-ab28-99ae0922d6d4",
   "metadata": {},
   "source": [
    "# 🛠 IFQ718 Module 03 Exercises-04\n",
    "\n",
    "## 🔍  Context: File input and output\n",
    "\n",
    "The file system on your computer provides long-term storage that is retained even after the machine has been powered down. This is unlike main memory, that is intended to be short-term with fast read-write capabilities. When executing Python code, the functions and variables that you create persist in memory until the kernel/interpreter exits. This may be as short as milliseconds, or up to hours if you keep the kernel sitting idle while you are working through these Notebooks (not that this is a problem). The data that we create in memory can be transfered to the file system by *writing* the data, then restored later, by *reading* it again. This is called file Input-Output (IO); i.e., the data that is read from a file is *input* to our program, and the program generates *output* when writing to disk.\n",
    "\n",
    "In this Notebook, we will introduce you to reading from and writing to the file system. "
   ]
  },
  {
   "cell_type": "markdown",
   "id": "5c452e75-b686-4f66-a8a9-b8cc6f6c43f6",
   "metadata": {},
   "source": [
    "### Writing to file\n",
    "\n",
    "Lets begin by creating some files that we can later read.\n",
    "\n",
    "To do this, we need to open a *file handler* that has a specified *path* and *mode*.\n",
    "\n",
    "The *path* is determined by you. It could be:\n",
    "* an absolute path\n",
    "   * i.e., a path that begins at the root of your file system\n",
    "   * On Windows, an absolute path may look like `C:\\Users\\Jake\\Documents\\myfile.txt`\n",
    "   * On Mac or Linux, an absolute path may look like `/usr/Jake/Documents/myfile.txt`\n",
    "   \n",
    "* a relative path\n",
    "   * i.e., a path that is relative to your current working directory\n",
    "   * a relative path may look like `myfile.txt` (as the file is within the current working directory)\n",
    "   * or, a relative path may look like `../myfile.txt` (as the file is in the directory that is up one level to the current working directory)\n",
    "   * or, a relative path may look like `../../myfile.txt` (as the file is in the directory that is up two levels to the current working directory)\n",
    "   * or, a relative path may look like `data/myfile.txt` (as the file is in the `data` directory that is within the current working directory)\n",
    "   \n",
    "There are a finite set of options for the *mode*:\n",
    "\n",
    "| Mode |                               Description                              |\n",
    "|:----:|:----------------------------------------------------------------------:|\n",
    "| r    |                                                       For reading only |\n",
    "| w    |             For writing, and overwriting the file if it already exists |\n",
    "| a    |                             For writing to the end of an existing file (i.e., \"appending\") |\n",
    "\n",
    "\n",
    "**Write some text to file**"
   ]
  },
  {
   "cell_type": "code",
   "execution_count": null,
   "id": "c0725d2d-9f9c-4b29-b0b1-f2d9e445e7e2",
   "metadata": {},
   "outputs": [],
   "source": [
    "fp = open('message.txt', 'w')\n",
    "\n",
    "message = \"Hello, World!\"\n",
    "\n",
    "fp.write(message)\n",
    "    \n",
    "fp.close()"
   ]
  },
  {
   "cell_type": "markdown",
   "id": "6741ede1-3422-4b09-9d0b-f9fd634961cb",
   "metadata": {},
   "source": [
    "**Read the file**"
   ]
  },
  {
   "cell_type": "code",
   "execution_count": null,
   "id": "eb0dcd86-b0af-4f32-aca2-733541c4901a",
   "metadata": {},
   "outputs": [],
   "source": [
    "fp = open('message.txt', 'r')\n",
    "\n",
    "print(fp.readlines())\n",
    "    \n",
    "fp.close()"
   ]
  },
  {
   "cell_type": "markdown",
   "id": "fdc85110-189f-4028-981a-46929412e3a6",
   "metadata": {},
   "source": [
    "**Write multiple lines to a file**"
   ]
  },
  {
   "cell_type": "code",
   "execution_count": null,
   "id": "fc4f5e7f-b65e-4b03-9f0d-c85d0037a24c",
   "metadata": {},
   "outputs": [],
   "source": [
    "fp = open('messages.txt', 'w')\n",
    "\n",
    "message = \"Hello, World!\"\n",
    "\n",
    "for i in range(5):\n",
    "    fp.write(message)\n",
    "    \n",
    "fp.close()"
   ]
  },
  {
   "cell_type": "markdown",
   "id": "798c0592-12f3-48bd-8b5d-eb3f72fab1de",
   "metadata": {},
   "source": [
    "**Again, read the file**"
   ]
  },
  {
   "cell_type": "code",
   "execution_count": null,
   "id": "9a336879-2326-4820-a4a8-ed61b5393c66",
   "metadata": {},
   "outputs": [],
   "source": [
    "fp = open('messages.txt', 'r')\n",
    "\n",
    "print(fp.readlines())\n",
    "    \n",
    "fp.close()"
   ]
  },
  {
   "cell_type": "markdown",
   "id": "0b2651a0-ae28-4964-87db-78619ec6e1fb",
   "metadata": {},
   "source": [
    "Oh dear, what has happened here? \n",
    "\n",
    "There is only one line in the `messages.txt` file. Open the file in the text editor, from the Jupyter file explorer.\n",
    "\n",
    "Let's fix the code to achieve what I intended."
   ]
  },
  {
   "cell_type": "markdown",
   "id": "7ca02033-21fa-4644-9ee9-77136cebc029",
   "metadata": {},
   "source": [
    "**Attempt 2, write multiple lines to a file**"
   ]
  },
  {
   "cell_type": "code",
   "execution_count": null,
   "id": "aad053d1-bea2-4efc-9e89-e36090877284",
   "metadata": {},
   "outputs": [],
   "source": [
    "fp = open('messages.txt', 'w')\n",
    "\n",
    "message = \"Hello, World!\"\n",
    "\n",
    "for i in range(5):\n",
    "    fp.write(f'{message}\\n')\n",
    "    \n",
    "fp.close()"
   ]
  },
  {
   "cell_type": "markdown",
   "id": "43df35e9-6ea6-4a6a-9cd6-986917a1e908",
   "metadata": {},
   "source": [
    "**Read...**"
   ]
  },
  {
   "cell_type": "code",
   "execution_count": null,
   "id": "914d8c49-fcfc-4812-8df6-f206f4faf4a9",
   "metadata": {},
   "outputs": [],
   "source": [
    "fp = open('messages.txt', 'r')\n",
    "\n",
    "print(fp.readlines())\n",
    "    \n",
    "fp.close()"
   ]
  },
  {
   "cell_type": "markdown",
   "id": "7891a61d-1df1-4ef9-9cf6-deb0d91d445e",
   "metadata": {},
   "source": [
    "Hmm, but the new line character `\\n` is still on the line. \n",
    "\n",
    "I will remove that using `.strip()`"
   ]
  },
  {
   "cell_type": "code",
   "execution_count": null,
   "id": "74493860-3241-4470-b116-389c1a15f176",
   "metadata": {},
   "outputs": [],
   "source": [
    "fp = open('messages.txt', 'r')\n",
    "\n",
    "lines = fp.readlines()\n",
    "lines_stripped = []\n",
    "\n",
    "for line in lines:\n",
    "    lines_stripped.append(line.strip())\n",
    "    \n",
    "print(lines_stripped)\n",
    "    \n",
    "fp.close()"
   ]
  },
  {
   "cell_type": "markdown",
   "id": "a00f2ac4-0c23-4e8c-9793-359f915ba42e",
   "metadata": {},
   "source": [
    "Great!\n",
    "\n",
    "But, here is an even tidier way:"
   ]
  },
  {
   "cell_type": "code",
   "execution_count": null,
   "id": "69e02085-6509-48d8-b645-ee00dcee0a0f",
   "metadata": {},
   "outputs": [],
   "source": [
    "fp = open('messages.txt', 'r')\n",
    "\n",
    "lines = []\n",
    "\n",
    "# I am able to read the file line by line using a for-loop and the file handler\n",
    "for line in fp:\n",
    "    lines.append(line.strip())\n",
    "    \n",
    "print(lines)\n",
    "    \n",
    "fp.close()"
   ]
  },
  {
   "cell_type": "markdown",
   "id": "2a470e28-c104-4ce1-9199-3104050f0544",
   "metadata": {},
   "source": [
    "Okay, that is the same output, and the code is a bit shorter."
   ]
  },
  {
   "cell_type": "markdown",
   "id": "5c341939-913e-46b5-b0e8-e274ec7915d6",
   "metadata": {},
   "source": [
    "### Context managers\n",
    "\n",
    "Speaking of making code shorter... this is a good opportunity to introduce the *context manager*. It is particularly useful for reading and writing files.\n",
    "\n",
    "In the context of file IO, a context manager will handle opening and closing the file for us. \n",
    "\n",
    "The code within the context of the manager will be able to access the file. Any code that is not a part of the managers context will not be able to read the file.\n",
    "\n",
    "To create a context manager, use the `with` clause:"
   ]
  },
  {
   "cell_type": "code",
   "execution_count": null,
   "id": "ed49a7a5-57ac-416a-8900-c589f7acb664",
   "metadata": {},
   "outputs": [],
   "source": [
    "with open('messages.txt', 'r') as fp:\n",
    "    lines = []\n",
    "    for line in fp:\n",
    "        lines.append(line.strip())\n",
    "        \n",
    "print(lines)"
   ]
  },
  {
   "cell_type": "markdown",
   "id": "dd0772ef-f449-45d1-b6a3-bf5d23b3acac",
   "metadata": {},
   "source": [
    "Notice the lack of `fp.close()`, and that even fewer lines are needed to achieve the same result."
   ]
  },
  {
   "cell_type": "markdown",
   "id": "7b9f8b16-a101-4eca-bfcd-5460f9efaa2d",
   "metadata": {},
   "source": [
    "### ✍ Activity 1: Parse a FASTA-formatted file\n",
    "\n",
    "> In bioinformatics and biochemistry, the FASTA format is a text-based format for representing either nucleotide sequences or amino acid (protein) sequences, in which nucleotides or amino acids are represented using single-letter codes. The format also allows for sequence names and comments to precede the sequences. The format originates from the FASTA software package, but has now become a near universal standard in the field of bioinformatics.\n",
    ">\n",
    "> Source [Wikipedia](https://en.wikipedia.org/wiki/FASTA_format)\n",
    "\n",
    "Your task in this activity is to read the FASTA formatted file and print the headers within the file.\n",
    "\n",
    "Headers are the lines beginning with `>`. Other lines contain the genetic sequences, and can be ignored.\n",
    "\n",
    "The next code cell will download the FASTA file from GitHub for you, if you don't have it already."
   ]
  },
  {
   "cell_type": "code",
   "execution_count": null,
   "id": "ebd5ab42-d45b-416a-9383-b617605e88ee",
   "metadata": {},
   "outputs": [],
   "source": [
    "import urllib.request\n",
    "urllib.request.urlretrieve('https://raw.githubusercontent.com/jupyterlab/jupyterlab-demo/master/data/zika_assembled_genomes.fasta', 'data/zika_assembled_genomes.fasta')"
   ]
  },
  {
   "cell_type": "code",
   "execution_count": null,
   "id": "1b798abe-483a-42e9-8f6c-a912c94f25bc",
   "metadata": {},
   "outputs": [],
   "source": [
    "# Write your code in this cell\n",
    "\n",
    "with open('data/zika_assembled_genomes.fasta', 'r') as fp:\n",
    "    # ..."
   ]
  },
  {
   "cell_type": "markdown",
   "id": "c43c9b3f-7394-4f62-9755-f4073b510e3e",
   "metadata": {},
   "source": [
    "### ✍ Activity 2: Separate the FASTA file into multiple files\n",
    "\n",
    "As you discovered, the FASTA file that you downloaded in the previous activity contains multiple assembled genomes. \n",
    "\n",
    "Here, your task is to separate each genome into its own file.\n",
    "\n",
    "Hints:\n",
    "   * Remember that the name of the file you are creating/writing to is a Python `string`. \n",
    "      * Update the `string` representing the file name for each genome.\n",
    "   * Try naming the new files appropriately, based on the FASTA header"
   ]
  },
  {
   "cell_type": "code",
   "execution_count": null,
   "id": "fbba6b08-82a8-432d-ad40-a2c953235b94",
   "metadata": {},
   "outputs": [],
   "source": [
    "# Write your code here"
   ]
  }
 ],
 "metadata": {
  "kernelspec": {
   "display_name": "Python 3 (ipykernel)",
   "language": "python",
   "name": "python3"
  },
  "language_info": {
   "codemirror_mode": {
    "name": "ipython",
    "version": 3
   },
   "file_extension": ".py",
   "mimetype": "text/x-python",
   "name": "python",
   "nbconvert_exporter": "python",
   "pygments_lexer": "ipython3",
   "version": "3.10.4"
  }
 },
 "nbformat": 4,
 "nbformat_minor": 5
}
