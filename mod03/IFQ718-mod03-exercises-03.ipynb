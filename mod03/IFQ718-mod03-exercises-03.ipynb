{
 "cells": [
  {
   "cell_type": "markdown",
   "id": "e4fd0742-5923-471d-ab28-99ae0922d6d4",
   "metadata": {},
   "source": [
    "# 🛠 IFQ718 Module 03 Exercises-03\n",
    "\n",
    "## 🔍  Context: Nested objects\n",
    "\n",
    "The objects `list` and `dictionary` are very flexible as to what type of data can be stored in them. This includes a `list` containing another `list`, or a `dictionary` containing another `dictionary`:"
   ]
  },
  {
   "cell_type": "code",
   "execution_count": null,
   "id": "ccd1f7a4-6cc5-46fd-a7af-62479b6cb087",
   "metadata": {},
   "outputs": [],
   "source": [
    "sub_lists = [[\"Hello, World!\", 1], [\"How are you?\", 2]]\n",
    "\n",
    "print(sub_lists[1][0])"
   ]
  },
  {
   "cell_type": "code",
   "execution_count": null,
   "id": "153adc44-2e48-4b6b-bee6-e171295048b8",
   "metadata": {},
   "outputs": [],
   "source": [
    "sub_dictionaries = {\n",
    "    'Alex' : {\n",
    "        'age' : 32\n",
    "    },\n",
    "    'Jordan' : {\n",
    "        'age' : 31\n",
    "    }    \n",
    "}\n",
    "\n",
    "print(sub_dictionaries['Alex']['age'])"
   ]
  },
  {
   "cell_type": "markdown",
   "id": "c8af1c5c-ad67-457c-b433-80e7db2ea6a8",
   "metadata": {},
   "source": [
    "### ✍ Activity 1: Representing Matrices as Lists of Lists"
   ]
  },
  {
   "cell_type": "markdown",
   "id": "fe520a9f-ee52-4df5-bd1b-57eb44439de3",
   "metadata": {},
   "source": [
    "Represent the following matrices in Python code as lists of lists:\n",
    "\n",
    "$$\n",
    "a = \\begin{bmatrix} \n",
    "1 & 2 & 3 \\\\\n",
    "4 & 5 & 6 \n",
    "\\end{bmatrix},\n",
    "b = \\begin{bmatrix} \n",
    "10 & 11 & 12 \\\\\n",
    "13 & 14 & 15 \n",
    "\\end{bmatrix}\n",
    "$$"
   ]
  },
  {
   "cell_type": "code",
   "execution_count": null,
   "id": "ddcb2942-b475-4a0d-a023-68d8162cf2cb",
   "metadata": {},
   "outputs": [],
   "source": [
    "a = [[1,2,3], [4,5,6]]\n",
    "b = [[10,11,12],[13,14,15]]"
   ]
  },
  {
   "cell_type": "markdown",
   "id": "7c2006cd-e23a-418b-b901-80488571780a",
   "metadata": {},
   "source": [
    "Write a function to compute the dimensions of a matrix represented as a list of lists.\n",
    "\n",
    "The function should return a <i>tuple</i> that contains the number of rows and number of columns.\n",
    "\n",
    "A tuple is similar to a list, but is immutable, meaning that any changes to the tuple will cause it to be entirely recreated.\n",
    "\n",
    "The syntax is similar to a `list`, too. Instead of square brackets, use parentheses: `(1, 2)`, `('hello', 'world')`.\n",
    "\n",
    "So the above examples should return dim(a) = (2, 3)"
   ]
  },
  {
   "cell_type": "code",
   "execution_count": null,
   "id": "1fb9f26e-53ab-457e-b3d9-d6e0a63addbd",
   "metadata": {},
   "outputs": [],
   "source": [
    "def dim(matrix) :\n",
    "    x = 0 # Insert your code here\n",
    "    y = 0 # Insert your code here\n",
    "    return (x, y)"
   ]
  },
  {
   "cell_type": "code",
   "execution_count": null,
   "id": "7cb025b5-96ec-4eeb-be21-b7c4f4cbf797",
   "metadata": {},
   "outputs": [],
   "source": [
    "dim(a)"
   ]
  },
  {
   "cell_type": "markdown",
   "id": "85f575ab-8f32-491e-baaf-2883f60e6129",
   "metadata": {},
   "source": [
    "Write a function that adds together two matrices.\n",
    "\n",
    "The result for the above two matrices should be:\n",
    "\n",
    "$$\\begin{bmatrix} \n",
    "11 & 13 & 15 \\\\\n",
    "17 & 19 & 21 \n",
    "\\end{bmatrix}\n",
    "$$\n",
    "\n",
    "Use the <code>dim</code> function above in your solution.\n",
    "\n",
    "You can also assume that the two matrices provided as input have the same dimensions."
   ]
  },
  {
   "cell_type": "code",
   "execution_count": null,
   "id": "25bd3639-16d0-49f0-8fbf-9f2ca66eaf33",
   "metadata": {},
   "outputs": [],
   "source": [
    "def matrix_add(matrix_a, matrix_b) :\n",
    "    \n",
    "    # Insert your code here\n",
    "    \n",
    "    return result_matrix"
   ]
  },
  {
   "cell_type": "code",
   "execution_count": null,
   "id": "4a7994a0-865a-45c2-81e7-3b3f0e46dfe5",
   "metadata": {},
   "outputs": [],
   "source": [
    "matrix_add(a, b) # result should be as above"
   ]
  },
  {
   "cell_type": "markdown",
   "id": "55076598-3781-447c-9e26-bf2176e53b54",
   "metadata": {},
   "source": [
    "### ✍ Activity 2: Parse the following text into a nested data structure\n",
    "\n",
    "Use nesting where appropriate.\n",
    "\n",
    "<pre>\n",
    "Dear Evelyn Madison,\n",
    "\n",
    "Thank you for your submission of the ABC123 Assignment A.\n",
    "\n",
    "Your submission has been marked against the criteria provided in the assignment specification. You should refer to the specification to understand how the marks were allocated. The marker has provided additional comments as they reviewed your work. \n",
    "\n",
    "Your total marks:      15      / 18\n",
    "\n",
    "Question 1: \n",
    "    Algorithm design:   3      /  3\n",
    "    Implementation:     3      /  3\n",
    "    Description:        3      /  3\n",
    "\n",
    "Question 2:                       \n",
    "    Algorithm design:   2.5    /  3\n",
    "    Implementation:     2      /  3\n",
    "    Description:        1.5    /  3\n",
    "    \n",
    "Additional comments:\n",
    "    - Q1: fantastic\n",
    "    - Q2: how will you check if the input number is odd or even?\n",
    "\n",
    "If you have any questions, please direct them to Dr John Doe (jd@uni.edu)\n",
    "\n",
    "Kind regards,\n",
    "The ABC123 Teaching Team.\n",
    "</pre>\n",
    "\n",
    "\n",
    "Your task is to automate generating the data structure. \n",
    "\n",
    "Your data strucutre should match the following:\n",
    "\n",
    "```python\n",
    "feedback = {\n",
    "    'student' : 'Evelyn Madison',\n",
    "    'unit' : 'ABC123'\n",
    "    'assignment' : 'Assignment A',\n",
    "    'total_marks' : [15.0, 18.0],\n",
    "    'marks' : {\n",
    "        'Question 1' : {\n",
    "            'Algorithm design' : [3.0, 3.0],\n",
    "            'Implementation' : [3.0, 3.0],\n",
    "            'Description' : [3.0, 3.0],\n",
    "        },\n",
    "        'Question 2' : {\n",
    "            'Algorithm design' : [2.5, 3.0],\n",
    "            'Implementation' : [2, 3.0],\n",
    "            'Description' : [1.5, 3.0],\n",
    "        }\n",
    "    },\n",
    "    'comments' : ['Q1: fantastic', 'Q2: how will you check if the input number is odd or even?']\n",
    "}\n",
    "```\n",
    "\n",
    "This activity requires using many features of the Python programming language that you have learnt so far, including: \n",
    "* `for`\n",
    "* `split`\n",
    "* `int`\n",
    "* `float`\n",
    "* `list`\n",
    "* `dictionary`\n",
    "* `in`\n",
    "* etc."
   ]
  },
  {
   "cell_type": "code",
   "execution_count": null,
   "id": "54ccf05e-ab25-415f-ac76-db57a7dc8f12",
   "metadata": {},
   "outputs": [],
   "source": [
    "feedback = {}\n",
    "\n",
    "message = '''Dear Evelyn Madison,\n",
    "\n",
    "Thank you for your submission of the ABC123 Assignment A.\n",
    "\n",
    "Your submission has been marked against the criteria provided in the assignment specification. You should refer to the specification to understand how the marks were allocated. The marker has provided additional comments as they reviewed your work. \n",
    "\n",
    "Your total marks:      15      / 18\n",
    "\n",
    "Question 1: \n",
    "    Algorithm design:   3      /  3\n",
    "    Implementation:     3      /  3\n",
    "    Description:        3      /  3\n",
    "\n",
    "Question 2:                       \n",
    "    Algorithm design:   2.5    /  3\n",
    "    Implementation:     2      /  3\n",
    "    Description:        1.5    /  3\n",
    "    \n",
    "Additional comments:\n",
    "    - Q1: fantastic\n",
    "    - Q2: how will you check if the input number is odd or even?\n",
    "\n",
    "If you have any questions, please direct them to Dr John Doe (jd@uni.edu)\n",
    "\n",
    "Kind regards,\n",
    "The ABC123 Teaching Team.\n",
    "'''\n",
    "\n",
    "\n",
    "# write your code here"
   ]
  }
 ],
 "metadata": {
  "kernelspec": {
   "display_name": "Python 3 (ipykernel)",
   "language": "python",
   "name": "python3"
  },
  "language_info": {
   "codemirror_mode": {
    "name": "ipython",
    "version": 3
   },
   "file_extension": ".py",
   "mimetype": "text/x-python",
   "name": "python",
   "nbconvert_exporter": "python",
   "pygments_lexer": "ipython3",
   "version": "3.10.4"
  }
 },
 "nbformat": 4,
 "nbformat_minor": 5
}
