{
 "cells": [
  {
   "cell_type": "markdown",
   "id": "e4fd0742-5923-471d-ab28-99ae0922d6d4",
   "metadata": {},
   "source": [
    "# 🛠 IFQ718 Module 03 Exercises-01\n",
    "\n",
    "## 🔍  Context: Lists\n",
    "\n",
    "In previous modules, you have been introduced to various atomic data types (including `int`, `float`, `string`, `boolean`), but we have not yet introduced you to any data types that can containerise many instances of these atomic types. \n",
    "\n",
    "Refering to a previously used example: *the height of a tree*. We previously used a variable to specify the height of one tree. What if you have recorded the heights of a forest of trees? Would you create many variables, like `height_of_tree_1`, `height_of_tree_2`, `height_of_tree_3`, ... `height_of_tree_n`? You could... but you shouldn't. This would be considered poor practice. What if you needed to add an extra record for the height of a tree that you missed? \n",
    "\n",
    "Here is an example of the approach that you should avoid:\n",
    "\n",
    "```python\n",
    "\n",
    "# a very small forest, heights in meters\n",
    "height_of_tree_1 = 12.0\n",
    "height_of_tree_2 = 13.4\n",
    "height_of_tree_3 = 11.7\n",
    "height_of_tree_4 = 8.9\n",
    "height_of_tree_5 = 10.2\n",
    "\n",
    "total_height = (height_of_tree_1 + height_of_tree_2 + height_of_tree_3 + height_of_tree_4 + height_of_tree_5)\n",
    "number_of_trees = 5\n",
    "average_height = total_height / number_of_trees\n",
    "\n",
    "print(f'The average tree height in the forest is {average_height} m.')\n",
    "```\n",
    "\n",
    "Wow. That was a lot of work.\n",
    "\n",
    "Let me show you how I could rewrite this using a list. Importantly, **a list is composed of many comma-separated items, collectively surrounded by square brackets:**\n",
    "\n",
    "```python\n",
    "\n",
    "# a list of heights of trees, in meters\n",
    "heights_of_trees = [12.0, 13.4, 11.7, 8.9, 10.2]\n",
    "\n",
    "# The in-built `sum()` function will sum all items in the list together\n",
    "total_height = sum(heights_of_trees)\n",
    "\n",
    "# The in-built `len()` function will count how many items there are in the list\n",
    "number_of_trees = len(heights_of_trees)\n",
    "\n",
    "average_height = total_height / number_of_trees\n",
    "\n",
    "print(f'The average tree height in the forest is {average_height} m.')\n",
    "```\n",
    "\n",
    "This is satisfying to read. Now, I can add and remove tree heights without having to update how `total_height` is calculated, nor do I have to update `number_of_trees`. Both are automatically calculated using functions that can operate on a list of items.\n",
    "\n",
    "Take note that a list may also be empty,\n",
    "\n",
    "```python\n",
    "heights_of_trees = []\n",
    "```\n",
    "\n",
    "or, may only contain one item\n",
    "\n",
    "```python\n",
    "heights_of_trees = [12.0]\n",
    "```\n",
    "\n",
    "or, contain items of different types\n",
    "\n",
    "```python\n",
    "uncommon_list_of_items = [12.0, 5, True, \"Hello there\", False]\n",
    "\n",
    "```\n",
    "\n",
    "Run the examples below"
   ]
  },
  {
   "cell_type": "code",
   "execution_count": null,
   "id": "7f459b28-3de9-4a43-a12b-339f36523a4d",
   "metadata": {},
   "outputs": [],
   "source": [
    "type(12.0)"
   ]
  },
  {
   "cell_type": "code",
   "execution_count": null,
   "id": "13a4272a-1475-4c38-a84d-010813b42523",
   "metadata": {},
   "outputs": [],
   "source": [
    "type([12.0])"
   ]
  },
  {
   "cell_type": "code",
   "execution_count": null,
   "id": "b6ed4c29-c504-416d-8e3e-a9494843c25f",
   "metadata": {},
   "outputs": [],
   "source": [
    "type([])"
   ]
  },
  {
   "cell_type": "code",
   "execution_count": null,
   "id": "a697f454-d9db-4f89-b912-cd0706f9baae",
   "metadata": {},
   "outputs": [],
   "source": [
    "type([12, True, \"Nice\"])"
   ]
  },
  {
   "cell_type": "code",
   "execution_count": null,
   "id": "b2bce256-29d6-43d1-8a64-d8a91b0a2eff",
   "metadata": {},
   "outputs": [],
   "source": [
    "sum([1, 2, 3, 4, 5])"
   ]
  },
  {
   "cell_type": "markdown",
   "id": "316f35a0-060e-49f3-a8ed-80a1809fddfc",
   "metadata": {},
   "source": [
    "### Lists are iterable objects\n",
    "\n",
    "An *iterable object* is one that can be broken down into smaller pieces. You may have already discovered that `string` is an iterable object, as we can loop through the string by visiting one character at a time:"
   ]
  },
  {
   "cell_type": "code",
   "execution_count": null,
   "id": "d6d8e0d6-cf81-4748-a0ff-fdc8542b8a96",
   "metadata": {},
   "outputs": [],
   "source": [
    "message = \"Hello, World!\"\n",
    "\n",
    "for character in message:\n",
    "    print(f\"`character` is currently: {character}\")"
   ]
  },
  {
   "cell_type": "markdown",
   "id": "fb1ad9b4-7224-4ee0-acf3-11ce0e00dcd1",
   "metadata": {},
   "source": [
    "Conveniently, the `for` loop allows us to visit each item in an iterable object very easily.\n",
    "\n",
    "We can repeat this for `list`, too, as it is also an iterable object:"
   ]
  },
  {
   "cell_type": "code",
   "execution_count": null,
   "id": "ee632b63-5f25-44b6-9385-8f216e9d87e1",
   "metadata": {},
   "outputs": [],
   "source": [
    "heights_of_trees = [12.0, 13.4, 11.7, 8.9, 10.2]\n",
    "\n",
    "for height_of_tree in heights_of_trees:\n",
    "    print(f'There is a tree {height_of_tree} m tall.')"
   ]
  },
  {
   "cell_type": "markdown",
   "id": "f6a8e784-0b57-4c5c-b387-d36260821589",
   "metadata": {},
   "source": [
    "What if the list contained strings?"
   ]
  },
  {
   "cell_type": "code",
   "execution_count": null,
   "id": "ba0aa1b7-669a-4d42-825d-42ed15c0706d",
   "metadata": {},
   "outputs": [],
   "source": [
    "messages = [\"Hello, World!\", \"How are you?\", \"What are you doing today?\", \"Have a great day.\"]\n",
    "\n",
    "for message in messages:\n",
    "    print(f'The message says: {message}')"
   ]
  },
  {
   "cell_type": "markdown",
   "id": "10caefa5-8c33-4bb9-b867-c4243b1fc8ad",
   "metadata": {},
   "source": [
    "Have you noticed that I am using plurals when naming the variable that contains a list? To a programmer, the plural suggests that the variable contains any number (0 or more) of items within the context of the variable name. \n",
    "\n",
    "As another example, if you reviewed some code that contained the variable `people`, what would this suggest? \n",
    "\n",
    "How about `pet_names`, or `ages`? \n",
    "\n",
    "This one is trickier: `loyalty_points`? What are your thoughts?"
   ]
  },
  {
   "cell_type": "markdown",
   "id": "4f356c15-7d58-469b-a2b7-dd1a368f1476",
   "metadata": {},
   "source": [
    "Okay, enough on that. Let's take a look at how else we could iterate through a list; by exchanging the `for` loop for a `while` loop:"
   ]
  },
  {
   "cell_type": "code",
   "execution_count": null,
   "id": "17630a92-23bd-415e-b713-44133eb08e00",
   "metadata": {},
   "outputs": [],
   "source": [
    "heights_of_trees = [12.0, 13.4, 11.7, 8.9, 10.2]\n",
    "\n",
    "tree_idx = 0\n",
    "\n",
    "while tree_idx < len(heights_of_trees):\n",
    "    print(f'The tree in position {tree_idx} is {heights_of_trees[tree_idx]} m tall.')\n",
    "    \n",
    "    tree_idx += 1"
   ]
  },
  {
   "cell_type": "markdown",
   "id": "333cbe15-fcc0-4256-b629-12b31c24d274",
   "metadata": {},
   "source": [
    "This syntax is probably new to you: `heights_of_trees[tree_idx]`. What does it mean?\n",
    "\n",
    "Given that `heights_of_trees` is an iterable object, we can access individual items via their *index position*. Importantly, indexes in Python, and in many other programming languages, start at zero. \n",
    "\n",
    "Interestingly, negative index values can also be used.\n",
    "\n",
    "To access the first item of the list, we would use the syntax `heights_of_trees[0]`."
   ]
  },
  {
   "cell_type": "code",
   "execution_count": null,
   "id": "1ca694e9-607e-4178-afc3-aa0d79b2d5a3",
   "metadata": {},
   "outputs": [],
   "source": [
    "people = [\"Maria\", \"Clara\", \"Sam\", \"Peta\", \"Ajay\"]\n",
    "\n",
    "print(f'The first person is {people[0]}')\n",
    "\n",
    "print(f'The second person is {people[1]}')\n",
    "\n",
    "print(f'The last person is {people[-1]}')\n",
    "\n",
    "print(f'The second last person is {people[-2]}')"
   ]
  },
  {
   "cell_type": "markdown",
   "id": "2807743f-86b2-4ebb-85a8-870b739c8ed2",
   "metadata": {},
   "source": [
    "### Revisiting `range()`\n",
    "\n",
    "In a previous notebook, we showed you that `range(start, stop, step)` includes the `start` value but excludes the `stop` value:"
   ]
  },
  {
   "cell_type": "code",
   "execution_count": null,
   "id": "611285de-c13f-47f2-9a82-fd23f2b704ea",
   "metadata": {},
   "outputs": [],
   "source": [
    "for i in range(0, 10, 1):\n",
    "    print(f'The value of i is {i}')\n",
    "    \n",
    "print('---')\n",
    "    \n",
    "for j in range(0, 10, 2):\n",
    "    print(f'The value of j is {j}')"
   ]
  },
  {
   "cell_type": "markdown",
   "id": "8d23dbe9-31ca-49c7-8ad6-90a5e4b7b160",
   "metadata": {},
   "source": [
    "This becomes particularly useful when \"looping\" through iterable objects. i.e., combining the use of `range()` and `len()`.\n",
    "\n",
    "Reminder that `len()`, produces the *human readable length*. i.e., if you can manually count five items in the list, then `len()` will provide `5`:"
   ]
  },
  {
   "cell_type": "code",
   "execution_count": null,
   "id": "0e95cd19-c427-46d2-b983-36e7e942f2dc",
   "metadata": {},
   "outputs": [],
   "source": [
    "heights_of_trees = [12.0, 13.4, 11.7, 8.9, 10.2]\n",
    "\n",
    "print(f'The function `len(heights_of_trees)` says there are {len(heights_of_trees)} items in the list.')\n",
    "\n",
    "for tree_idx in range(0, len(heights_of_trees)):\n",
    "    print(f'There is a tree {heights_of_trees[tree_idx]} m tall.')"
   ]
  },
  {
   "cell_type": "markdown",
   "id": "c05e8109-9d91-4fa8-b2fe-d83645c3bac6",
   "metadata": {},
   "source": [
    "Which previous example does this remind you of? \n",
    "\n",
    "<span style=\"color: #ccc\">Answer: the previous example where 'for' was swapped for 'while'</span>\n",
    "\n",
    "What would happen if `range()` did not exclude the `stop` value? Let's try it out using our own implementation of `range()`."
   ]
  },
  {
   "cell_type": "code",
   "execution_count": null,
   "id": "bbe388d8-85a3-434c-9e7e-220d0a5acd3b",
   "metadata": {},
   "outputs": [],
   "source": [
    "def my_range(start, stop, step=1):\n",
    "    values = []\n",
    "    \n",
    "    while start <= stop:\n",
    "        values.append(start)\n",
    "        start += step\n",
    "        \n",
    "    return values\n",
    "\n",
    "for idx in my_range(0, 10):\n",
    "    print(idx)"
   ]
  },
  {
   "cell_type": "markdown",
   "id": "1acd26e0-498a-4bf1-a761-350614c06aa6",
   "metadata": {},
   "source": [
    "Okay, `my_range()` is including the `stop` value. Also, I have used a new function that you probably don't know: `.append()`!\n",
    "\n",
    "The `append()` function will add a new item to the end of the specified list.\n",
    "\n",
    "Let's finish the example:"
   ]
  },
  {
   "cell_type": "code",
   "execution_count": null,
   "id": "b168924f-bdde-43bd-9dcc-0f5101480a11",
   "metadata": {},
   "outputs": [],
   "source": [
    "heights_of_trees = [12.0, 13.4, 11.7, 8.9, 10.2]\n",
    "\n",
    "for tree_idx in my_range(0, len(heights_of_trees)):\n",
    "    print(f'The tree at position {tree_idx} is: ', end='')\n",
    "    print(f'{heights_of_trees[tree_idx]} m tall.')"
   ]
  },
  {
   "cell_type": "markdown",
   "id": "81d62a3c-ade2-4297-8521-ade626ab9304",
   "metadata": {},
   "source": [
    "Oh dear, we have hit a `list index out of range` error. That is because there is no tree at index position five.\n",
    "\n",
    "Importantly: there are five tree heights in the list, but Python starts counting from zero, meaning the trees are in position zero, one, two, three and four."
   ]
  },
  {
   "cell_type": "markdown",
   "id": "d23709cc-af89-4e51-b6aa-3d9fb703be80",
   "metadata": {},
   "source": [
    "Let's try accessing characters of a string using `range()`:"
   ]
  },
  {
   "cell_type": "code",
   "execution_count": null,
   "id": "60d7fd49-3c7b-4fd0-9259-32934647b6be",
   "metadata": {},
   "outputs": [],
   "source": [
    "people = [\"Maria\", \"Clara\", \"Sam\", \"Peta\", \"Ajay\"]\n",
    "\n",
    "for person in people:\n",
    "    for character_idx in range(len(person)):\n",
    "        print(f'The character in position {character_idx} of {person} is: `{person[character_idx]}`')\n",
    "    print('---')"
   ]
  },
  {
   "cell_type": "markdown",
   "id": "e9dd86a6-8de8-461b-9843-6b62fe9c2af2",
   "metadata": {},
   "source": [
    "### Revisiting `string`\n",
    "\n",
    "**and learning `.split()` and `.join()`**\n",
    "\n",
    "As you have probably gathered, `string` is somewhat like a list of characters. We can perform some more string-based operations that are useful.\n",
    "\n",
    "Try out `.split()`:"
   ]
  },
  {
   "cell_type": "code",
   "execution_count": null,
   "id": "d48f8177-dced-466b-b04f-24c5c8b04e2c",
   "metadata": {},
   "outputs": [],
   "source": [
    "sentence = 'The quick brown fox jumps over the lazy dog'\n",
    "\n",
    "# separate the sentence into a list by splitting on any whitespace character\n",
    "words = sentence.split(' ')\n",
    "\n",
    "print(f'There are {len(words)} words in the sentence, they are: {words}')"
   ]
  },
  {
   "cell_type": "markdown",
   "id": "cb2b74a0-4101-4dcf-8d93-0558f7ffc87d",
   "metadata": {},
   "source": [
    "Back to tree heights..."
   ]
  },
  {
   "cell_type": "code",
   "execution_count": null,
   "id": "73fa9d4e-bcef-442f-a34c-9275b1b494aa",
   "metadata": {},
   "outputs": [],
   "source": [
    "heights_of_trees_string = '12.0,13.4,11.7,8.9,10.2'\n",
    "\n",
    "heights_of_trees = heights_of_trees_string.split('.')\n",
    "\n",
    "print(f'Is this correct? {heights_of_trees}')"
   ]
  },
  {
   "cell_type": "markdown",
   "id": "783b21e3-3a58-42e0-b7f0-7128b5cdb5cb",
   "metadata": {},
   "source": [
    "**My example is incorrect - please fix it.** What is the [*delimiter*](https://en.wikipedia.org/wiki/Delimiter)?"
   ]
  },
  {
   "cell_type": "markdown",
   "id": "c1343212-ffb5-42a0-b659-3db90a986894",
   "metadata": {},
   "source": [
    "However, when the string of numbers is split, the items created in the \"explosion\" remain to be strings. In the following example, we convert them to `int`:"
   ]
  },
  {
   "cell_type": "code",
   "execution_count": null,
   "id": "795fca1f-68a3-435c-97b6-af466ad39b1a",
   "metadata": {},
   "outputs": [],
   "source": [
    "ages = \"32|28|45|19\"\n",
    "ages = ages.split('|')\n",
    "\n",
    "for age_idx in range(len(ages)):\n",
    "    print(f'The age in position {age_idx} is of type {type(ages[age_idx])}.')\n",
    "    ages[age_idx] = int(ages[age_idx])\n",
    "    print(f'    After updating, it is of type {type(ages[age_idx])}.')    "
   ]
  },
  {
   "cell_type": "markdown",
   "id": "4bb928c4-2ce3-4b8b-91d4-03f8c5f2ab17",
   "metadata": {},
   "source": [
    "Now, glue a set of words back together:"
   ]
  },
  {
   "cell_type": "code",
   "execution_count": null,
   "id": "4947dadb-ea54-4bdc-b399-5a165b759c22",
   "metadata": {},
   "outputs": [],
   "source": [
    "message = [\"H\", \"e\", \"l\", \"l\", \"o\", \",\", \" \", \"W\", \"o\", \"r\", \"l\", \"d\", \"!\"]\n",
    "print(''.join(message))\n",
    "print(' '.join(message))\n",
    "print('-'.join(message))"
   ]
  },
  {
   "cell_type": "markdown",
   "id": "645b2100-5955-46a4-a3d3-137c73719747",
   "metadata": {},
   "source": [
    "### Checking an item is in a list"
   ]
  },
  {
   "cell_type": "markdown",
   "id": "922a5ec9-e384-49d6-8d8e-4912347705f2",
   "metadata": {},
   "source": [
    "The Python `in` operator will return `True` or `False` if an item exists in a list.\n",
    "\n",
    "Be careful not to confuse `in` as a membership test versus `in` as a looping operator. \n",
    "i.e., there is an important difference between `'Apple' in fruits` versus `for fruit in fruits`."
   ]
  },
  {
   "cell_type": "code",
   "execution_count": null,
   "id": "c7ce9fcf-a0b6-4da3-a558-d45b9b31f149",
   "metadata": {},
   "outputs": [],
   "source": [
    "people = [\"Maria\", \"Clara\", \"Sam\", \"Peta\", \"Ajay\"]\n",
    "\n",
    "if \"Sam\" in people:\n",
    "    print('Yes, Sam is in the list')"
   ]
  },
  {
   "cell_type": "code",
   "execution_count": null,
   "id": "108649ae-fa00-4e04-a6e5-aa38beb97c5e",
   "metadata": {},
   "outputs": [],
   "source": [
    "people = [\"Maria\", \"Clara\", \"Sam\", \"Peta\", \"Ajay\"]\n",
    "\n",
    "if \"Ayush\" not in people:\n",
    "    print('Correct, Ayush is not in the list')"
   ]
  },
  {
   "cell_type": "code",
   "execution_count": null,
   "id": "31d36537-621c-4fd3-b35c-447bdfaf27eb",
   "metadata": {},
   "outputs": [],
   "source": [
    "if \"a\" in \"Sam\":\n",
    "    print(\"Sam does contain the letter `a`\")"
   ]
  },
  {
   "cell_type": "markdown",
   "id": "499c7de8-5344-4807-8681-acdacc4d6f21",
   "metadata": {
    "tags": []
   },
   "source": [
    "### ✍ Activity 1: Filling lists\n",
    "\n",
    "We wish to fill a list to contain the first 100 square numbers: `[0, 1, 2, 4, 9, 16, 25 ...]`\n",
    "\n",
    "It's too long to create manually, so we want to write a loop to create the list.\n",
    "\n",
    "**Why does the following code not work?**"
   ]
  },
  {
   "cell_type": "code",
   "execution_count": null,
   "id": "3b256346-5921-4e7f-b40d-8827c3f29179",
   "metadata": {},
   "outputs": [],
   "source": [
    "list = []\n",
    "for i in range(100) :\n",
    "    list[i] = i * i\n",
    "print(list)"
   ]
  },
  {
   "cell_type": "markdown",
   "id": "1cd6bf49-dd2f-45ca-a112-439edd5ae396",
   "metadata": {},
   "source": [
    "**Rewrite the above code to incrementally append each element to the list, one by one**"
   ]
  },
  {
   "cell_type": "code",
   "execution_count": null,
   "id": "1866990a-2f83-4b45-87e6-c3905b6c6967",
   "metadata": {},
   "outputs": [],
   "source": [
    "# insert your code here"
   ]
  },
  {
   "cell_type": "markdown",
   "id": "f59476c5-b305-4ba6-be35-a25c3790b13e",
   "metadata": {},
   "source": [
    "**Rewrite the above code to create a list of size 100 where each element is 0**"
   ]
  },
  {
   "cell_type": "code",
   "execution_count": null,
   "id": "f1d1c6d3-e939-4614-ab0d-7ad185dc4391",
   "metadata": {},
   "outputs": [],
   "source": [
    "# insert your code here"
   ]
  },
  {
   "cell_type": "markdown",
   "id": "fe4d8068-5a64-4b93-8dbc-3fae1a149706",
   "metadata": {},
   "source": [
    "**Rewrite your code to compute the first 100 square numbers, but this time first create a list of 100 elements that all have the value `None`**\n",
    "\n",
    "\n",
    "**And then update the elements to their correct value inside the loop**\n"
   ]
  },
  {
   "cell_type": "code",
   "execution_count": null,
   "id": "eae528f3-be77-4315-bd5e-046e10df1a65",
   "metadata": {},
   "outputs": [],
   "source": [
    "# insert your code here"
   ]
  },
  {
   "cell_type": "markdown",
   "id": "c410d9c5-6165-4787-8cde-69e85c1a3121",
   "metadata": {},
   "source": [
    "### ✍ Activity 2: Find the maximum value in a list\n",
    "\n",
    "Write a function that, given a list of numeric values, returns the maximum value in that list.\n",
    "\n",
    "You must not use the built-in function `max`, but rather, iterate over the list of values to find the biggest one."
   ]
  },
  {
   "cell_type": "code",
   "execution_count": null,
   "id": "ca944a85-35de-41dd-bd21-6c5182825a34",
   "metadata": {},
   "outputs": [],
   "source": [
    "def find_maximum(list) :\n",
    "\n",
    "    # write your code here\n",
    "\n",
    "    return largest"
   ]
  },
  {
   "cell_type": "code",
   "execution_count": null,
   "id": "1b90f216-655e-479d-90bf-ae01862a0ade",
   "metadata": {},
   "outputs": [],
   "source": [
    "# test your function ...\n",
    "find_maximum([3, 4, 2]) # should be 4"
   ]
  },
  {
   "cell_type": "code",
   "execution_count": null,
   "id": "45041c42-c0a0-412a-bd65-b8aa5ab31aef",
   "metadata": {},
   "outputs": [],
   "source": [
    "find_maximum([23, 44, 200, 3021, 7891]) # should be 7891"
   ]
  },
  {
   "cell_type": "code",
   "execution_count": null,
   "id": "bd58f301-7010-4f3c-bbd3-3f9d57f4a4f0",
   "metadata": {},
   "outputs": [],
   "source": [
    "find_maximum([11, 11, 11, 11, 11, 11, 11]) # should be 11"
   ]
  },
  {
   "cell_type": "code",
   "execution_count": null,
   "id": "92afc730-bfaa-46ed-9323-05bd7c71c811",
   "metadata": {},
   "outputs": [],
   "source": [
    "find_maximum([7]) # should be 7"
   ]
  },
  {
   "cell_type": "code",
   "execution_count": null,
   "id": "407f2b22-b566-401f-8a84-e88817134579",
   "metadata": {},
   "outputs": [],
   "source": [
    "find_maximum([3, 5, -77, 9]) # should be 9"
   ]
  },
  {
   "cell_type": "code",
   "execution_count": null,
   "id": "d275abaf-c712-4767-8828-9207c32ba398",
   "metadata": {},
   "outputs": [],
   "source": [
    "find_maximum([3, 3.5, 7.12376, 1.119]) # should be 7.12376"
   ]
  },
  {
   "cell_type": "code",
   "execution_count": null,
   "id": "f1a4639f-8d63-453f-903c-b8518487ac14",
   "metadata": {},
   "outputs": [],
   "source": [
    "find_maximum([]) # should raise a ValueError"
   ]
  },
  {
   "cell_type": "markdown",
   "id": "af12ad5c-05ee-436e-ae7f-22bb094e07a5",
   "metadata": {},
   "source": [
    "### ✍ Activity 3: Out of range\n",
    "\n",
    "Write a Python predicate (a function that returns a Boolean value) that expects a list of numeric values, a lower bound and an upper bound, and returns True if there are any values in the list outside the range of the upper and lower bounds, otherwise returns False.\n",
    "\n",
    "Use a FOR loop, and a RETURN statement to exit the loop early to short-circuit the iteration where appropriate."
   ]
  },
  {
   "cell_type": "code",
   "execution_count": null,
   "id": "a09ce940-a839-454b-bdef-8b3e4a420320",
   "metadata": {
    "tags": []
   },
   "outputs": [],
   "source": [
    "def out_of_range(list, lower_bound, upper_bound):\n",
    "    \n",
    "    # write your code here\n",
    "    \n",
    "    return #..."
   ]
  },
  {
   "cell_type": "code",
   "execution_count": null,
   "id": "d210d3a8-b207-4645-a7df-ad8801d07fbd",
   "metadata": {
    "tags": []
   },
   "outputs": [],
   "source": [
    "out_of_range([1, 9, 1, 9, 9, 5, 7, 7, 4], 0, 10) # should be False"
   ]
  },
  {
   "cell_type": "code",
   "execution_count": null,
   "id": "11832311-b3e4-44d3-a8d6-cdb26645fa38",
   "metadata": {
    "tags": []
   },
   "outputs": [],
   "source": [
    "out_of_range([0.1, 9.9999999, 1, 0.9, 9, 5, 7, 7, 4], 0, 10) # should be False"
   ]
  },
  {
   "cell_type": "code",
   "execution_count": null,
   "id": "cf2b9635-7432-4e1b-8797-3ac2e8a8d043",
   "metadata": {
    "tags": []
   },
   "outputs": [],
   "source": [
    "out_of_range([4, 8, 10, 23, 28, 66, 69, 77, 100], 1, 100) # should be False"
   ]
  },
  {
   "cell_type": "code",
   "execution_count": null,
   "id": "0150aebc-bad2-46b9-9c23-11ccdb5c7b29",
   "metadata": {
    "tags": []
   },
   "outputs": [],
   "source": [
    "out_of_range([4, 8, 10, 23, 0, 28, 66, 69, 77, 100], 1, 100) # should be True"
   ]
  },
  {
   "cell_type": "code",
   "execution_count": null,
   "id": "03b76753-46af-4b06-ab69-b289e25988ab",
   "metadata": {
    "tags": []
   },
   "outputs": [],
   "source": [
    "out_of_range([], 1, 100) # should be False"
   ]
  },
  {
   "cell_type": "markdown",
   "id": "4222de6a-b07a-4859-959a-2dffbe451f45",
   "metadata": {},
   "source": [
    "### ✍ Activity 4: Filter Out of Range\n",
    "\n",
    "Modify your solution to the previous exercise so that, rather than finding out if there are any values in the list outside the range of the upper and lower bounds, returning a new list of those numbers, if any."
   ]
  },
  {
   "cell_type": "code",
   "execution_count": null,
   "id": "0e27f5a5-c12f-453d-ae34-d8dea4e6b084",
   "metadata": {},
   "outputs": [],
   "source": [
    "def filter_out_of_range(list, lower_bound, upper_bound):\n",
    "    \n",
    "    # write your code here\n",
    "    \n",
    "    return #..."
   ]
  },
  {
   "cell_type": "code",
   "execution_count": null,
   "id": "c4bbdd00-5572-4759-892d-0fa9a44326cf",
   "metadata": {},
   "outputs": [],
   "source": [
    "filter_out_of_range([1, 9, 1, 9, 9, 5, 7, 7, 4], 0, 10) # Test 1\n",
    "# should be []"
   ]
  },
  {
   "cell_type": "code",
   "execution_count": null,
   "id": "088ab0d8-f144-45d1-a502-11e4d2e854b5",
   "metadata": {},
   "outputs": [],
   "source": [
    "filter_out_of_range([0.1, 9.9999999, 1, 0.9, 9, 5, 7, 7, 4], 2, 4) \n",
    "# should return [0.1, 9.9999999, 1, 0.9, 9, 5, 7, 7]"
   ]
  },
  {
   "cell_type": "code",
   "execution_count": null,
   "id": "cbace1c8-482c-4845-afc9-8fa5c5e431c8",
   "metadata": {},
   "outputs": [],
   "source": [
    "filter_out_of_range([4, 8, 10, 23, 28, 66, 69, 77, 100], 1, 50) # Test 3\n",
    "# should return [66, 69, 77, 100]"
   ]
  },
  {
   "cell_type": "code",
   "execution_count": null,
   "id": "054918c0-5fdf-4f9d-9950-40aaf522748a",
   "metadata": {},
   "outputs": [],
   "source": [
    "filter_out_of_range([4, 8, 10, 23, 0, 28, 66, 69, 77, 100], 1, 100) # Test 4\n",
    "# should return [0]"
   ]
  },
  {
   "cell_type": "code",
   "execution_count": null,
   "id": "defa307c-e68f-459e-ae45-4080e27ba073",
   "metadata": {},
   "outputs": [],
   "source": [
    "filter_out_of_range([], 1, 100) # Test 5 - empty list\n",
    "# should be []"
   ]
  },
  {
   "cell_type": "markdown",
   "id": "2da691cf-25af-4fa9-99c8-c1f30f569bb3",
   "metadata": {},
   "source": [
    "### ✍ Activity 5: In Range?\n",
    "\n",
    "Write a Python predicate (a function that returns a Boolean value) that expects a list of numeric values, a lower bound and an upper bound, and returns True if ALL values in the list are inside the range of the upper and lower bounds, otherwise returns False.\n",
    "\n",
    "Use a FOR loop, and exit the loop early to short-circuit the iteration where appropriate.\n"
   ]
  },
  {
   "cell_type": "code",
   "execution_count": null,
   "id": "399f0986-8c84-4762-9d30-6ad79e9b4392",
   "metadata": {
    "tags": []
   },
   "outputs": [],
   "source": [
    "def in_range_a(list, lower_bound, upper_bound):\n",
    "    \n",
    "    \n",
    "    # write your code here\n",
    "    \n",
    "    return #..."
   ]
  },
  {
   "cell_type": "code",
   "execution_count": null,
   "id": "400858a2-79b2-4380-9e0f-8db9f6eaa821",
   "metadata": {
    "tags": []
   },
   "outputs": [],
   "source": [
    "in_range_a([1, 9, 1, 9, 9, 5, 7, 7, 4], 0, 10) # should be True"
   ]
  },
  {
   "cell_type": "code",
   "execution_count": null,
   "id": "5df7f7b3-e6e9-4339-8a6a-6337020a828c",
   "metadata": {
    "tags": []
   },
   "outputs": [],
   "source": [
    "in_range_a([7], 7, 7) # should be True"
   ]
  },
  {
   "cell_type": "code",
   "execution_count": null,
   "id": "e86462b1-5b08-4916-b29e-a21cf1b7dd1d",
   "metadata": {
    "tags": []
   },
   "outputs": [],
   "source": [
    "in_range_a([1.1, 2.2, 3.3, 4.4, 5.5, 6.6, 7.7], 1, 7) # should be False"
   ]
  },
  {
   "cell_type": "code",
   "execution_count": null,
   "id": "2779c792-6280-401a-a271-a2afb8da04ed",
   "metadata": {
    "tags": []
   },
   "outputs": [],
   "source": [
    "in_range_a([4, 8, 10, 23, 0, 28, 66, 69, 77, 100], 1, 100) # should be False"
   ]
  },
  {
   "cell_type": "code",
   "execution_count": null,
   "id": "dd4356eb-42e0-4330-b05f-8a217a6adaaf",
   "metadata": {
    "tags": []
   },
   "outputs": [],
   "source": [
    "in_range_a([], 0, 10) # should be True"
   ]
  },
  {
   "cell_type": "markdown",
   "id": "7b035f59-d0aa-4562-a3ba-64db04721ab3",
   "metadata": {},
   "source": [
    "### ✍ Activity 6: Map Sum\n",
    "\n",
    "Given a list of lists each containing numeric values, write a function to return a new one-dimensional list containing the sum of the values in each of the sublists.\n",
    "\n",
    "Hint:\n",
    "* use the function sum to add up all numbers in a list"
   ]
  },
  {
   "cell_type": "code",
   "execution_count": null,
   "id": "e47bf533-4f22-459c-a704-95b9be96e85e",
   "metadata": {},
   "outputs": [],
   "source": [
    "def map_sum(list):\n",
    "    \n",
    "    # write your function here\n",
    "    \n",
    "    return #..."
   ]
  },
  {
   "cell_type": "code",
   "execution_count": null,
   "id": "193a05f7-754c-418d-8d59-5d39c3e6d594",
   "metadata": {},
   "outputs": [],
   "source": [
    "map_sum([[1, 3, 5]]) # Test 1 - single sublist\n",
    "# should return [9]"
   ]
  },
  {
   "cell_type": "code",
   "execution_count": null,
   "id": "63fc34eb-5b32-4caf-9d60-e652a08f1b2b",
   "metadata": {},
   "outputs": [],
   "source": [
    "map_sum([[1, 3, 5], [2, 4, 6, 8]]) # Test 2 - two sublists\n",
    "# should return [9, 20]"
   ]
  },
  {
   "cell_type": "code",
   "execution_count": null,
   "id": "37313e54-f9af-4d09-b0a5-a855d3d806e2",
   "metadata": {},
   "outputs": [],
   "source": [
    "map_sum([[1, 3, 5], [2, 4, 6, 8], [0], [9], [1]]) # Test 3 - many sublists\n",
    "# should return [9, 20, 0, 9, 1]"
   ]
  },
  {
   "cell_type": "code",
   "execution_count": null,
   "id": "c34e0d67-f9f0-409c-a98b-85cd21c2c9fa",
   "metadata": {},
   "outputs": [],
   "source": [
    "map_sum([[]]) # Test 4 - empty sublist\n",
    "# should return [0]"
   ]
  }
 ],
 "metadata": {
  "kernelspec": {
   "display_name": "Python 3 (ipykernel)",
   "language": "python",
   "name": "python3"
  },
  "language_info": {
   "codemirror_mode": {
    "name": "ipython",
    "version": 3
   },
   "file_extension": ".py",
   "mimetype": "text/x-python",
   "name": "python",
   "nbconvert_exporter": "python",
   "pygments_lexer": "ipython3",
   "version": "3.10.4"
  }
 },
 "nbformat": 4,
 "nbformat_minor": 5
}
