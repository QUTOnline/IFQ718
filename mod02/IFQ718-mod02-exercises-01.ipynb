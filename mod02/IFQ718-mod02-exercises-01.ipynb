{
 "cells": [
  {
   "cell_type": "markdown",
   "id": "ec9fa003-180c-4c23-b8fc-b7f8efcb00eb",
   "metadata": {
    "tags": []
   },
   "source": [
    "# 🛠 IFQ718 Module 02 Exercises-01\n",
    "\n",
    "## 🔍  Context: Booleans and the `if`-statement\n",
    "\n",
    "Boolean logic is a fundamental in learning computer and software systems: *True* and *False*. It stems from the transistors of the CPU, through to the Python code that you are learning to write. From an electrical perspective, a value of `True`, indicates that one transistor amongst the billions that compose the CPU is currently active, i.e., has a high electrical charge relative to those with a low electrical charge. \n",
    "\n",
    "Consider the following simple electronic circuit:\n",
    "\n",
    "<img src=\"data:image/jpeg;base64,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\">\n",
    "\n",
    "When the switch is in the *closed* position the light bulb turns on. When the switch is in the *open* position, the light bulb turns off.\n",
    "\n",
    "Image now that we wish to add a second switch to the circuit ...\n",
    "\n",
    "**How would we rearrange the wires and the switches such that the light bulb will turn on only if switch A and switch B is in the closed position?**\n",
    "\n",
    "*Answer: arrange the two switches in series.*\n",
    "\n",
    "**How would we rearrange the wires and the switches such that the light bulb will turn on only if switch A or switch B is in the closed position?**\n",
    "\n",
    "*Answer: arrange the two switches in parallel.*\n",
    "\n",
    "This demonstrates how electronic computers can perform boolean logic.\n",
    "\n",
    "Each switch can be in one of two positions, which we can think of as *on* and *off* or *1* and *0*.\n",
    "\n",
    "The position or state of a physical light switch can be changed by someone physically pressing on the switch. \n",
    "Such a switch has two terminals: an input terminal (where the current flows from) and an output terminal (where the current flows to, if the switch is closed).\n",
    "\n",
    "In a computer, the switches are electronic, i.e. the state of a switch (either open or closed) is controlled not by someone physically pressing on it, but rather by an electronic input. Such switches have three terminals: an input terminal, an output  terminal and a control terminal. \n",
    "\n",
    "<img src=\"data:image/png;base64,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\">\n",
    "\n",
    "If current flows in to the control terminal, then the switch is closed and current is able to flow from the input terminal to the output terminal. If no current flows to the control terminal then the switch remains in the open position and no current flows from the input terminal to the output terminal. Such an electronic switch is called a ***Transistor*** and is the fundamental building block of electronic computers. \n",
    "\n",
    "Note: this is a very simplified explanation of how a transistor works using non-standard terminology.\n",
    "\n",
    "https://en.wikipedia.org/wiki/Transistor\n",
    "\n",
    "\n",
    "\n",
    "In a modern computer system, this is abstracted away from the user and programmer through very convenient programming interfaces. \n",
    "\n",
    "These programming interfaces allow us to write human-readable code that can make decisions using Boolean logic. For example, if condition is True, then complete *Task A*, otherwise complete *Task B*:\n",
    "\n",
    "```python\n",
    "do_send_as_email = True\n",
    "\n",
    "if do_send_as_email:\n",
    "    send_email_to('hello@qut.edu.au') # not a real email address\n",
    "else:\n",
    "    send_post_mail_to('2 George St, Brisbane City')\n",
    "\n",
    "```\n",
    "\n",
    "In this Noteobok, you will learn to use the two Boolean constants (`True` and `False`) and the logic surrounding them."
   ]
  },
  {
   "cell_type": "markdown",
   "id": "cb605f5f-6397-413a-be50-4f9b6783f7ef",
   "metadata": {},
   "source": [
    "### ✍ Activity 1: Boolean Algebra\n",
    "\n",
    "Consider the Python logical ***and*** operator. There are two boolean operands, each of which can be either True or False. That makes a total of 4 possible combinations:"
   ]
  },
  {
   "cell_type": "code",
   "execution_count": null,
   "id": "17c6b235-84a5-48b9-b1eb-cc6249a15f46",
   "metadata": {},
   "outputs": [],
   "source": [
    "False and False"
   ]
  },
  {
   "cell_type": "code",
   "execution_count": null,
   "id": "c7f181e2-d2dc-4979-83d4-86f0159e3aa6",
   "metadata": {},
   "outputs": [],
   "source": [
    "False and True"
   ]
  },
  {
   "cell_type": "code",
   "execution_count": null,
   "id": "ea717ae0-8139-4a38-8a9d-7f42b3e744c6",
   "metadata": {},
   "outputs": [],
   "source": [
    "True and False"
   ]
  },
  {
   "cell_type": "code",
   "execution_count": null,
   "id": "1e5e5fdf-35e2-47c7-b5a7-2ca5dccfa305",
   "metadata": {},
   "outputs": [],
   "source": [
    "True and True"
   ]
  },
  {
   "cell_type": "markdown",
   "id": "b794f4a1-d76d-45ff-b3f0-7cecf905abc0",
   "metadata": {},
   "source": [
    "These results can be summarised in a ***truth table***:\n",
    "\n",
    "| A | B | A and B |\n",
    "| --- | --- | --- |\n",
    "| False | False | False |\n",
    "| False | True | False |\n",
    "| True | False | False |\n",
    "| True | True | True |"
   ]
  },
  {
   "cell_type": "markdown",
   "id": "8445b6f1-7c4c-486b-8331-b35db8c83299",
   "metadata": {},
   "source": [
    "Perform the same tests and create similar truth tables for the Python logical \"or\" and \"not\"  operators"
   ]
  },
  {
   "cell_type": "code",
   "execution_count": null,
   "id": "b9be2637-cef6-443b-9b0e-ca7bb982dc6b",
   "metadata": {},
   "outputs": [],
   "source": [
    "False or False"
   ]
  },
  {
   "cell_type": "code",
   "execution_count": null,
   "id": "a5976161-7325-4581-9e33-aa2339ee4bda",
   "metadata": {},
   "outputs": [],
   "source": [
    "False or True"
   ]
  },
  {
   "cell_type": "code",
   "execution_count": null,
   "id": "6820f2e9-3d6a-4c00-aa8d-e166e21b0715",
   "metadata": {},
   "outputs": [],
   "source": [
    "True or False"
   ]
  },
  {
   "cell_type": "code",
   "execution_count": null,
   "id": "889d64e2-b643-46a6-8ab7-664b98b4fe62",
   "metadata": {},
   "outputs": [],
   "source": [
    "True or True"
   ]
  },
  {
   "cell_type": "code",
   "execution_count": null,
   "id": "8d133b37-5f13-4b68-9baa-c07645846ece",
   "metadata": {},
   "outputs": [],
   "source": [
    "not True"
   ]
  },
  {
   "cell_type": "code",
   "execution_count": null,
   "id": "883e6986-cfab-4ba5-94d2-a71763427c8c",
   "metadata": {},
   "outputs": [],
   "source": [
    "not False"
   ]
  },
  {
   "cell_type": "markdown",
   "id": "ad16c4a0-c61f-4759-b266-58e7c51795df",
   "metadata": {},
   "source": [
    "**Replace the question marks, `?`, below. Double click the cell to edit the Markdown**\n",
    "\n",
    "| A | B | A or B |\n",
    "| --- | --- | --- |\n",
    "| False | False | ? |\n",
    "| False | True | ? |\n",
    "| True | False | ? |\n",
    "| True | True | ? |\n",
    "\n",
    "| A | not A |\n",
    "| --- | --- |\n",
    "| False | ? |\n",
    "| True | ? |"
   ]
  },
  {
   "cell_type": "markdown",
   "id": "90ea8863-41d1-4662-bff3-f45b8f67a3cb",
   "metadata": {},
   "source": [
    "### ✍ Activity 2: Boolean algebra with numbers\n",
    "Boolean values in Python are also represented internally in binary, with `0` used for `False` and `1` used for `True`.\n",
    "\n",
    "Some programming languages don't even have a Boolean type, they just use integer numbers directly to represent boolean concepts.\n",
    "\n",
    "Python also overloads the boolean operators `and`, `or` and `not` by allowing them to operate on numbers as well as boolean values. \n",
    "\n",
    "Try evaluating the following expressions:\n",
    "1. `0 and 0`\n",
    "2. `0 and 1`\n",
    "3. `1 and 0`\n",
    "4. `1 and 1`"
   ]
  },
  {
   "cell_type": "code",
   "execution_count": null,
   "id": "120d1c88-3d05-45f2-94f7-d5f1a0fcb34f",
   "metadata": {},
   "outputs": [],
   "source": [
    "# Type your response here for 1."
   ]
  },
  {
   "cell_type": "code",
   "execution_count": null,
   "id": "d7af3e88-7e73-452e-9a0f-bee660809819",
   "metadata": {},
   "outputs": [],
   "source": [
    "# Type your response here for 2."
   ]
  },
  {
   "cell_type": "code",
   "execution_count": null,
   "id": "b5378e5e-9666-48df-bbd0-08c77974f8db",
   "metadata": {},
   "outputs": [],
   "source": [
    "# Type your response here for 3."
   ]
  },
  {
   "cell_type": "code",
   "execution_count": null,
   "id": "5c02ee51-c7de-4bec-8b3f-ec631cf4ccf8",
   "metadata": {},
   "outputs": [],
   "source": [
    "# Type your response here for 4."
   ]
  },
  {
   "cell_type": "code",
   "execution_count": null,
   "id": "8bf5fecf-186a-44e6-9786-c9af2210a9a0",
   "metadata": {},
   "outputs": [],
   "source": [
    "# What pattern do you observe? \n",
    "# Answer: It is equivalent to using 0 for False and 1 for True"
   ]
  },
  {
   "cell_type": "markdown",
   "id": "15646151-e865-4170-ae43-ec9fa51a6093",
   "metadata": {},
   "source": [
    "Perform the same tests for the `or` and `not` operators."
   ]
  },
  {
   "cell_type": "code",
   "execution_count": null,
   "id": "3ae78eae-8326-424b-b82b-6a65d2d7822e",
   "metadata": {},
   "outputs": [],
   "source": [
    "# Type your response here for 1., but when using 'or'"
   ]
  },
  {
   "cell_type": "code",
   "execution_count": null,
   "id": "39ca308d-e338-4982-8117-491f7ff5eb99",
   "metadata": {},
   "outputs": [],
   "source": [
    "# Type your response here for 2., but when using 'or'"
   ]
  },
  {
   "cell_type": "code",
   "execution_count": null,
   "id": "a9ce80ef-b439-499d-8391-fa3bd206f3f0",
   "metadata": {},
   "outputs": [],
   "source": [
    "# Type your response here for 3., but when using 'or'"
   ]
  },
  {
   "cell_type": "code",
   "execution_count": null,
   "id": "e5d34daa-c292-42f1-b49f-c53b78ba5ac3",
   "metadata": {},
   "outputs": [],
   "source": [
    "# Type your response here for 4., but when using 'or'"
   ]
  },
  {
   "cell_type": "code",
   "execution_count": null,
   "id": "4f13e07e-b7a0-4ec5-80ae-78c98b8c9c4c",
   "metadata": {},
   "outputs": [],
   "source": [
    "not 0 # What does this do?"
   ]
  },
  {
   "cell_type": "code",
   "execution_count": null,
   "id": "788fe3ab-8ba4-43ae-a723-5b79e7adb611",
   "metadata": {},
   "outputs": [],
   "source": [
    "not 1 # What does this do?"
   ]
  },
  {
   "cell_type": "code",
   "execution_count": null,
   "id": "117a3ee8-60af-4b04-896a-5d72d249bdaa",
   "metadata": {},
   "outputs": [],
   "source": [
    "# What pattern do you observe? \n",
    "# Answer: It is equivalent to using 0 for False and 1 for True"
   ]
  },
  {
   "cell_type": "markdown",
   "id": "b15a975b-ee54-4040-9fc7-c2d4dc3cdd7e",
   "metadata": {
    "tags": []
   },
   "source": [
    "### ✍ Activity 3: The `if` statement\n",
    "\n",
    "The `if` statement allows our code to decisions on our behalf, and is supported by Boolean logic.\n",
    "\n",
    "The structure of the `if` control structure is complemented by `elif` and `else`:\n",
    "\n",
    "```python\n",
    "\n",
    "if <condition-1>:\n",
    "    # do task 1\n",
    "    \n",
    "elif <condition-2>:\n",
    "    # do task 2\n",
    "    \n",
    "else:\n",
    "    # do task 3\n",
    "\n",
    "```\n",
    "\n",
    "where:\n",
    "\n",
    "* `<condition-1>` and `<condition-2>` are both expressions containing Boolean logic, such that they evaluate to `True` or `False`.\n",
    "\n",
    "In the example below, a similar structure is used, where each condition is composed of a single Boolean logic operation. The program will print a different message, dependent on the height the tree:\n",
    "\n",
    "* If the tree is less than three meters tall, then the message *\"The tree is only small\"* is printed.\n",
    "\n",
    "* If the tree is taller than three meters but shorter than ten meters, then the message *\"Medium sized tree!\"* is printed.\n",
    "\n",
    "* If the tree is taller than ten meters then the message *\"Wow, that is a very tall tree\"* is printed."
   ]
  },
  {
   "cell_type": "code",
   "execution_count": null,
   "id": "b10879d3-f9c5-476f-8240-1c816fec34d3",
   "metadata": {},
   "outputs": [],
   "source": [
    "height_of_tree = 15.6\n",
    "\n",
    "if height_of_tree < 3:\n",
    "    print('The tree is only small')\n",
    "elif height_of_tree < 10:\n",
    "    print('Medium sized tree!')\n",
    "else:\n",
    "    print('Wow, that is a very tall tree')"
   ]
  },
  {
   "cell_type": "markdown",
   "id": "b9453d2d-4808-4c26-a3e4-e1bd08384705",
   "metadata": {},
   "source": [
    "**Update the value of `height_of_tree` to observe how the program behaves with different values.**\n",
    "\n",
    "Importantly, there are a set of comparative operators in all programming languages:\n",
    "\n",
    "| Symbol | Meaning |\n",
    "| --- | --- |\n",
    "| > | Greater than |\n",
    "| < | Less than |\n",
    "| == | Equal |\n",
    "| >= | Greater than or equal to |\n",
    "| <= | Less than or equal to |\n",
    "| != | Not equal |\n",
    "\n",
    "Take a look at this next example. It is a little more complex. Now, there are *nested if-statements*, with conditions composed of multiple Boolean logic expressions."
   ]
  },
  {
   "cell_type": "code",
   "execution_count": null,
   "id": "bea095ac-20c7-4b46-aaaf-90f3bb4d41c9",
   "metadata": {},
   "outputs": [],
   "source": [
    "focal_length = 90\n",
    "is_zoomable = True\n",
    "\n",
    "if is_zoomable:\n",
    "    if focal_length >= 4 and focal_length <= 14:\n",
    "        lens_type = 'fisheye'\n",
    "    elif focal_length > 14 and focal_length <= 35:\n",
    "        lens_type = 'wide angle'\n",
    "    elif focal_length > 35 and focal_length <= 85:\n",
    "        lens_type = 'standard'\n",
    "    elif focal_length > 85:\n",
    "        lens_type = 'telephoto'\n",
    "    else:\n",
    "        lens_type = 'UNKNOWN'\n",
    "    print(f'The lens is a zoomable. At {focal_length} mm, it could be a {lens_type} lens.')\n",
    "    \n",
    "    \n",
    "else:\n",
    "    if focal_length >= 4 and focal_length <= 14:\n",
    "        lens_type = 'fisheye'\n",
    "    elif focal_length > 14 and focal_length <= 35:\n",
    "        lens_type = 'wide angle'\n",
    "    elif focal_length > 35 and focal_length <= 85:\n",
    "        lens_type = 'standard'\n",
    "    elif focal_length > 85:\n",
    "        lens_type = 'telephoto'\n",
    "    else:\n",
    "        lens_type = 'UNKNOWN'\n",
    "    \n",
    "    print(f'The lens is a prime {focal_length} mm {lens_type}.')\n"
   ]
  },
  {
   "cell_type": "markdown",
   "id": "fc7cab63-8db0-4f6b-8cdf-77b8f5580310",
   "metadata": {},
   "source": [
    "### ✍ Activity 4: Exclusive or\n",
    "\n",
    "In Boolean logic, the `XOR` (Exclusive-OR) expression is `True` when only one of its operands is `True`.  \n",
    "\n",
    "If both operands are `True` or both operands are `False`, then `XOR` is `False`.  \n",
    "\n",
    "Write a function to implement the `XOR` operator.\n",
    "\n",
    "**Note: you may wish to revisit this activity after attempting Exercises Notebook #2 for this module.**"
   ]
  },
  {
   "cell_type": "code",
   "execution_count": null,
   "id": "db267f00-7de0-45a7-a920-0c606b5214c4",
   "metadata": {},
   "outputs": [],
   "source": [
    "def XOR(a, b) :\n",
    "    return ()"
   ]
  },
  {
   "cell_type": "code",
   "execution_count": null,
   "id": "20795bf0-3a59-481c-9c56-5174b35f7fd1",
   "metadata": {},
   "outputs": [],
   "source": [
    "XOR(False, False) # should return False"
   ]
  },
  {
   "cell_type": "code",
   "execution_count": null,
   "id": "cba1fd3d-3818-496b-bd50-bbab477edd0d",
   "metadata": {},
   "outputs": [],
   "source": [
    "XOR(False, True) # should return True"
   ]
  },
  {
   "cell_type": "code",
   "execution_count": null,
   "id": "9f4cfaa1-cb8f-4972-bd74-9cb82aa6416c",
   "metadata": {},
   "outputs": [],
   "source": [
    "XOR(True, False) # should return True"
   ]
  },
  {
   "cell_type": "code",
   "execution_count": null,
   "id": "82710874-fef6-44bd-8ce4-a570158870f5",
   "metadata": {},
   "outputs": [],
   "source": [
    "XOR(True, True) # should return False"
   ]
  },
  {
   "cell_type": "markdown",
   "id": "e6f9db89-4d30-41b7-bb67-76922606a097",
   "metadata": {},
   "source": [
    "**Can you write the function without using constants True or False?**"
   ]
  },
  {
   "cell_type": "code",
   "execution_count": null,
   "id": "91eba4bb-df92-410b-a1a1-9cb2b8f49dc0",
   "metadata": {},
   "outputs": [],
   "source": [
    "def XOR(a, b) :\n",
    "    return ()"
   ]
  }
 ],
 "metadata": {
  "kernelspec": {
   "display_name": "Python 3 (ipykernel)",
   "language": "python",
   "name": "python3"
  },
  "language_info": {
   "codemirror_mode": {
    "name": "ipython",
    "version": 3
   },
   "file_extension": ".py",
   "mimetype": "text/x-python",
   "name": "python",
   "nbconvert_exporter": "python",
   "pygments_lexer": "ipython3",
   "version": "3.10.4"
  }
 },
 "nbformat": 4,
 "nbformat_minor": 5
}
