{
 "cells": [
  {
   "cell_type": "markdown",
   "id": "e016e6f4-e90c-4a95-8098-8eb947c4297f",
   "metadata": {},
   "source": [
    "# 🛠 IFQ718 Module 02 Exercises-04\n",
    "\n",
    "## 🔍  Context: Recursion\n",
    "\n",
    "The looping constructs, `while` and `for`, are the most common approach to writing a program that repeats a task. There also exists an for solving a problem by breaking the task down into smaller instances of the same task (i.e., nested sub-tasks of the same type). This is called a recursive solution. When implementing a solution using a recursive approach, the function you implement will call itself, for example:"
   ]
  },
  {
   "cell_type": "code",
   "execution_count": null,
   "id": "d2492cce-65cf-4fea-bb87-ffd79be66bac",
   "metadata": {},
   "outputs": [],
   "source": [
    "def fibonacci(n):\n",
    "   if n <= 1:\n",
    "       return n\n",
    "   else:\n",
    "       return(fibonacci(n-1) + fibonacci(n-2))\n",
    "\n",
    "for n in range(10):\n",
    "    print(fibonacci(n))"
   ]
  },
  {
   "cell_type": "markdown",
   "id": "5dfa9bf1-3dfd-4d8c-a533-d98d437f9053",
   "metadata": {},
   "source": [
    "### ✍ Activity 1: Write a recursive function to print the name of each digit in a number\n",
    "\n",
    "For example, if the input was `1234` then `one two three four` would be printed."
   ]
  },
  {
   "cell_type": "code",
   "execution_count": null,
   "id": "dce702de-8afb-4513-9033-723173bf5b89",
   "metadata": {},
   "outputs": [],
   "source": [
    "def number_to_words(number):\n",
    "    return None"
   ]
  },
  {
   "cell_type": "markdown",
   "id": "f9506592-3a3d-4d02-8fd3-684cfd11e54f",
   "metadata": {},
   "source": [
    "### ✍ Activity 2: Write a recursive function to compute find all possible alternate sequences\n",
    "\n",
    "In computational biology, the DNA nucleobases are represented using `A`, `T`, `C` and `G`. \n",
    "\n",
    "Despite modern sequencing technologies using many redundant [reads](https://en.wikipedia.org/wiki/Read_(biology)) to construct a sequence, there remains the chance that some positions in the DNA are left unknown. These positions are instead filled with an `N`.\n",
    "\n",
    "Your task is to complete the recursive function, `print_possible_sequences` that prints out all possibilities of a DNA sequence where it contains N's.\n",
    "\n",
    "For example, if you were to call:\n",
    "\n",
    "`print_possible_sequences('ATN')` then it would print: `ATA`, `ATT`, `ATC`, `ATG`.\n",
    "\n",
    "`print_possible_sequences('ATNN')` then it would print: `ATAA`, `ATTA`, `ATCA`, `ATGA`, `ATAT`, `ATTT`, `ATCT`, `ATGT`, `ATAC`, `ATTC`, `ATCC`, `ATGC`, `ATAG`, `ATTG`, `ATCG`, `ATGG`.\n",
    "\n",
    "Your solution must use recursion (where the function calls itself), but may also use other looping constructs.\n",
    "\n",
    "Note: this is certainly a challenging task. Discuss with your peers if you are having trouble. Pair programming is a skill that you should develop."
   ]
  },
  {
   "cell_type": "code",
   "execution_count": null,
   "id": "670a93fd-a2c8-4489-b9fb-fb10da4d1dc8",
   "metadata": {},
   "outputs": [],
   "source": [
    "def print_possible_sequences(seq):\n",
    "    # write your code here\n",
    "            \n",
    "print_possible_sequences('AAAANNTTTT') "
   ]
  }
 ],
 "metadata": {
  "kernelspec": {
   "display_name": "Python 3 (ipykernel)",
   "language": "python",
   "name": "python3"
  },
  "language_info": {
   "codemirror_mode": {
    "name": "ipython",
    "version": 3
   },
   "file_extension": ".py",
   "mimetype": "text/x-python",
   "name": "python",
   "nbconvert_exporter": "python",
   "pygments_lexer": "ipython3",
   "version": "3.10.4"
  }
 },
 "nbformat": 4,
 "nbformat_minor": 5
}
