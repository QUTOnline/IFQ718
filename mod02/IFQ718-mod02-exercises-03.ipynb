{
 "cells": [
  {
   "cell_type": "markdown",
   "id": "e016e6f4-e90c-4a95-8098-8eb947c4297f",
   "metadata": {
    "tags": []
   },
   "source": [
    "# 🛠 IFQ718 Module 02 Exercises-03\n",
    "\n",
    "## 🔍  Context: Modules and functions\n",
    "\n",
    "As in all lines of work, reproducibility is key. This means that your methods should be descriptive enough to allow another person to reproduce the exact results that you achieved. Consider a cake recipe, or an industrial protocol for creating plastics. These methods are not designed from scratch for every flavour of cake or for every type of manufactured plastic - they are simply modified to suit.\n",
    "\n",
    "In the world of computing, a method to solve a problem is implemented using a programming language. In our case, Python is the tool, or programming language, that we use to solve the problems presented to us. Assuming the code does not change and the original raw data is still available, then we should have no issue with reproducing our results over and over again. Once we have established our method, we could package it to share with others. That way, they do not need to design and implement a solution to the same or similar problem that we had. To summarise, we do not want others, nor us, to *reinvent the wheel*.\n",
    "\n",
    "In Python, these packaged solutions offer a diverse set of capabilities for the programmer. For example, there exist packages with modules containing mathematical formula for scientific computing, through to modules containing the software systems to deliver websites on the internet. This will be our first time to learn about how we can use the in-built Python Standard Libraries, which each offer an array of extensions to make programming in the language more simple than without them. *Do not reinvent the wheel!*\n",
    "\n",
    "To get you started, let's define what a *module* and a *function* is. We have yet not been explicit in naming/defining these as we have wanted you to learn the absolute-basics before reaching this point, but it would difficult to continue without introducing them now. \n",
    "\n",
    "We will begin with functions, the smallest unit of logic:\n",
    "\n",
    "**What is a function?**\n",
    "\n",
    "A function is a small, parametised unit of work that is intended to be reused at the programmers desire. Some examples of functions that we have sprinkled throughout the unit so far include: `range()`, `len()` and `print()`. It was difficult to introduce you to Python without these, but now we will formally introduce you.\n",
    "\n",
    "<span style=\"color: #ccc\">To be precise, Python is an [interpreted language](https://en.wikipedia.org/wiki/Interpreter_(computing)), meaning that these in-built functions are not implemented in Python itself.</span>\n",
    "\n",
    "**A reimplementation of the `len()` function:**\n"
   ]
  },
  {
   "cell_type": "code",
   "execution_count": null,
   "id": "47250a84-362c-48ee-aced-5086dda18579",
   "metadata": {},
   "outputs": [],
   "source": [
    "def len(the_object):\n",
    "    counter = 0\n",
    "    for i in the_object:\n",
    "        counter += 1\n",
    "    return counter\n",
    "\n",
    "print(len('Hello, World!'))"
   ]
  },
  {
   "cell_type": "markdown",
   "id": "37a56d91-f47f-4989-a4bf-a7c12bc928d4",
   "metadata": {},
   "source": [
    "\n",
    "Take note of:\n",
    "\n",
    "* The use of `def` to indicate that the function is being defined\n",
    "* `len`, being the name of the function. You can set this to be whatever you wish. \n",
    "    * As with variables, when naming a function, follow the convention of using lowercase letters and underscores to separate words\n",
    "* The parentheses `(` and `)` are required, and surround the arguments of the function\n",
    "* The argument `the_object` is a variable that is only accessible from within the body of the function\n",
    "* The body of the function is indented\n",
    "* There is a `return` statement, which will end the execution of the function and report a value back to the line of code that called the function\n",
    "* The line `print(len('Hello, World!'))` was the line that originally called the function. It will receive the value of `counter` when the `return` statement \"returns it\". \n",
    "    * This line is not indented as it is not a part of the function body.\n",
    "\n",
    "\n",
    "\n",
    "**A reimplementation of the `range()` function:**\n",
    "\n",
    "*This is very far from the actual implementation, but demonstrates what range intends to do.*"
   ]
  },
  {
   "cell_type": "code",
   "execution_count": null,
   "id": "3e5032ef-cf4c-47b0-8c86-0e99e1fac5df",
   "metadata": {},
   "outputs": [],
   "source": [
    "def range(start, stop, step):\n",
    "    while start < stop:\n",
    "        print(start)\n",
    "        start += step\n",
    "        \n",
    "range(10, 20, 2)"
   ]
  },
  {
   "cell_type": "markdown",
   "id": "26acb006-5b81-475b-acb2-9be6e9c4bd51",
   "metadata": {},
   "source": [
    "*Importantly, `range` includes the `start` number but excludes the `stop` number. This will become apparent in the next IFQ718 module.*\n",
    "\n",
    "**What is a module?**\n",
    "\n",
    "In Python, a *module* is a `.py` file that contains many functions.\n",
    "\n",
    "Modules must be imported by the programmer when they are needed.\n",
    "\n",
    "For example, the [`math` module in Python](https://docs.python.org/3/library/math.html) has many mathematical functions, including `ceil`, `floor` and `sqrt`:"
   ]
  },
  {
   "cell_type": "code",
   "execution_count": null,
   "id": "c392e253-31b0-4a49-a991-e88990b73877",
   "metadata": {},
   "outputs": [],
   "source": [
    "import math\n",
    "\n",
    "print(math.floor(1.8))\n",
    "print(math.ceil(1.8))\n",
    "print(math.sqrt(1.8))"
   ]
  },
  {
   "cell_type": "markdown",
   "id": "4c3ec146-5244-4fa4-9415-678c6032e0e2",
   "metadata": {},
   "source": [
    "Modules and their functions can be imported in various ways. I could have written the above code cell as:"
   ]
  },
  {
   "cell_type": "code",
   "execution_count": null,
   "id": "1380d226-d557-4d56-9c12-206f093838b5",
   "metadata": {},
   "outputs": [],
   "source": [
    "from math import floor, ceil, sqrt\n",
    "\n",
    "print(floor(1.8))\n",
    "print(ceil(1.8))\n",
    "print(sqrt(1.8))"
   ]
  },
  {
   "cell_type": "markdown",
   "id": "323fe9eb-dab7-4e42-9dba-5269d515d586",
   "metadata": {},
   "source": [
    "or"
   ]
  },
  {
   "cell_type": "code",
   "execution_count": null,
   "id": "2898469d-b224-404f-b7fa-36d8583dd862",
   "metadata": {},
   "outputs": [],
   "source": [
    "from math import * # the asterisk means import everything from the math module\n",
    "\n",
    "print(floor(1.8))\n",
    "print(ceil(1.8))\n",
    "print(sqrt(1.8))"
   ]
  },
  {
   "cell_type": "markdown",
   "id": "592cf59d-d4fd-4b3b-a86c-05e908d35957",
   "metadata": {},
   "source": [
    "Please take note that because Jupyter Notebooks use **Interactive Python**, once a module has been imported, it will remain in your environment until the Kernel is restarted. However, this does not prevent other Notebooks from using the module simultaneously. \n",
    "\n",
    "To remove imported modules, restart your kernel, via the menu `Kernel -> Restart Kernel`.\n",
    "\n",
    "<hr>\n",
    "\n",
    "You will not explicitly create any of modules of your own in this unit, but instead, we will introduce you to the modules available in the Python Standard Library (IFQ718 Modules 1 - 4) then the third-party Pandas library and its modules (in IFQ718 Modules 5 - 7). "
   ]
  },
  {
   "cell_type": "markdown",
   "id": "a88c0e4a-aa24-459e-9baa-600ecbb6f25d",
   "metadata": {
    "tags": []
   },
   "source": [
    "### ✍ Activity 1: Write a function to calculate if year is a leap year\n",
    "\n",
    "The function is to return True if a given year is a leap year and False otherwise.  \n",
    "\n",
    "*Step one: research how leap years are determined!*"
   ]
  },
  {
   "cell_type": "code",
   "execution_count": null,
   "id": "689ac674-e687-47b0-89f0-5339dbfd7534",
   "metadata": {},
   "outputs": [],
   "source": [
    "def leap_year(year) :\n",
    "    is_leap_year = False\n",
    "    \n",
    "    # enter your code here\n",
    "    \n",
    "    return is_leap_year\n",
    "\n",
    "for year in range(1995, 2011):\n",
    "    if leap_year(year):\n",
    "        print(f'{year} is a leap year')\n",
    "    else:\n",
    "        print(f'{year} is not a leap year')"
   ]
  },
  {
   "cell_type": "markdown",
   "id": "62b4720e-1bb6-4090-b463-7bba7943e998",
   "metadata": {},
   "source": [
    "### ✍ Activity 2: Write a function to calculate how many digits are in a number\n",
    "\n",
    "The function should take any positive integer.\n",
    "\n",
    "Hints:\n",
    "* Dividing a number by 10 will reduce the integer part by 1 digit\n",
    "* Use a `while` loop to keep count of how many times the number can be divided by 10.\n",
    "* Use the `int()` function to determine the integer part of a number"
   ]
  },
  {
   "cell_type": "code",
   "execution_count": null,
   "id": "aee61a7b-00be-4611-8ba6-39c0041c4691",
   "metadata": {},
   "outputs": [],
   "source": [
    "def count_digits(number) :\n",
    "    digits = 0\n",
    "    \n",
    "    # enter your code here\n",
    "    \n",
    "    return digits\n",
    "\n",
    "for number in [1234567890, 10101010, 7, 724, 99]:\n",
    "    print(f'The number {number: >13,} has {count_digits(number): >2} digits.')"
   ]
  },
  {
   "cell_type": "markdown",
   "id": "e7114947-f913-41cb-9f12-feb682cc7839",
   "metadata": {
    "tags": []
   },
   "source": [
    "### ✍ Activity 3: Nested function calls\n",
    "\n",
    "This exercise is designed to illustrate the order and flow of execution of Python code that involves function calls. \n",
    "\n",
    "The code below calculates the number of carpet tiles required to completely cover a floor in a building."
   ]
  },
  {
   "cell_type": "code",
   "execution_count": null,
   "id": "4a4c9c08-befa-4b17-a16c-2f7d7424534d",
   "metadata": {},
   "outputs": [],
   "source": [
    "# This exercise is designed to illustrate the order and flow of execution\n",
    "# of Python code that involves function calls.  The code below\n",
    "# calculates the number of carpet tiles required to completely\n",
    "# cover a floor in a building. However, it contains a logical error... \n",
    "\n",
    "import math\n",
    "\n",
    "# Given a rectangular room's dimensions in metres,\n",
    "# calculate the floor area \n",
    "def get_surface_area(width, length):\n",
    "    return width * length\n",
    "\n",
    "# Given the surface area of a room and the size of a single carpet tile,\n",
    "# calculate the number of tiles required to cover the entire room (assuming\n",
    "# no space is required between the tiles).\n",
    "def get_tiles_required(surface_area, tile_area):\n",
    "    return math.ceil(surface_area / tile_area)\n",
    "\n",
    "# Here are the dimensions of the room and tiles\n",
    "room_width =  5.1\n",
    "room_length = 3.3\n",
    "tile_size = 0.9\n",
    "\n",
    "# Calculate and display the number of tiles required to completely\n",
    "# cover the floor\n",
    "get_tiles_required(get_surface_area(room_width, room_length), math.floor(tile_size))"
   ]
  },
  {
   "cell_type": "markdown",
   "id": "02f0a05a-a75d-4c18-a0c2-5130e0a6cda4",
   "metadata": {},
   "source": [
    "As you will see when you execute this code, it generates a runtime error.  \n",
    "\n",
    "Looking at the code, list the function calls in the order they would be made by Python.\n",
    "\n",
    "Now look at the traceback information that is displayed below after you run the code.\n",
    "It is obvious that an error has occurred because the output is highlighted in a striking colour!\n",
    "The traceback indicates the flow of control from top to bottom - that is, the last `--->`\n",
    "that you see in the traceback indicates the line of code where the exception (error) is generated,\n",
    "and the previous `--->` in the traceback is the call that is made prior to that.\n",
    "\n",
    "Now rectify the code where the error originated by removing an unnecessary and illogical, but aptly named function call."
   ]
  }
 ],
 "metadata": {
  "kernelspec": {
   "display_name": "Python 3 (ipykernel)",
   "language": "python",
   "name": "python3"
  },
  "language_info": {
   "codemirror_mode": {
    "name": "ipython",
    "version": 3
   },
   "file_extension": ".py",
   "mimetype": "text/x-python",
   "name": "python",
   "nbconvert_exporter": "python",
   "pygments_lexer": "ipython3",
   "version": "3.10.4"
  }
 },
 "nbformat": 4,
 "nbformat_minor": 5
}
