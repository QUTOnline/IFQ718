{
 "cells": [
  {
   "cell_type": "markdown",
   "id": "e016e6f4-e90c-4a95-8098-8eb947c4297f",
   "metadata": {},
   "source": [
    "# 🛠 IFQ718 Module 02 Exercises-05\n",
    "\n",
    "## 🔍  Context: Version control with `git`\n"
   ]
  },
  {
   "cell_type": "markdown",
   "id": "a7470b1f-5079-49e5-8ba0-0cd5106a9463",
   "metadata": {},
   "source": [
    "### ✍ Activity 1: Create your GitHub account\n",
    "\n",
    "Git, the version control system, has been commercialised by a number of vendors, including [GitHub](https://github.com/), [BitBucket](https://bitbucket.org/), and others.\n",
    "\n",
    "In this unit, we will focus on GitHub, however, it must be noted that the concepts of version control using git will, for a large part, be the same no matter the vendor.\n",
    "\n",
    "To get started with this set of Exercises, you need to setup a GitHub account. \n",
    "\n",
    "GitHub is typically a paid product when used commercially, however, they do offer an education licence for students and teachers. \n",
    "\n",
    "Please begin by signing up to GitHub, [here](https://github.com/join), then for the Student Developer Pack, [here](https://education.github.com/pack).\n",
    "\n",
    "You will need:\n",
    "1. Access to your student email\n",
    "1. A photograph of your student ID card, or a letter that uses the QUT letterhead with your enrolment status."
   ]
  },
  {
   "cell_type": "markdown",
   "id": "f5961138-204f-4b14-b717-be623f75b0e7",
   "metadata": {},
   "source": [
    "### ✍ Activity 2: Create a repository for the activities\n",
    "\n",
    "A *repository* is like a folder for IFQ718 in your Documents. It contains the files and sub-folders that are associated with one project.\n",
    "\n",
    "You can create a new repository from GitHub by clicking the green 'New' button on the GitHub [home](https://github.com/) page.\n",
    "\n",
    "Follow these steps:\n",
    "1. Provide a name for your repository, like `ifq718-materials`\n",
    "1. Optionally, provide a description, like `My solutions to the IFQ718 unit at QUT`\n",
    "1. Select `Public` so that you can, later, collaborate with a peer for todays activities.\n",
    "1. Tick yes, to *Add a README file*.\n",
    "1. Read the following section on selecting a licence."
   ]
  },
  {
   "cell_type": "markdown",
   "id": "254d302f-84f3-4b01-b94d-bb7d658c8ae1",
   "metadata": {},
   "source": [
    "### ✍ Activity 3: Select a licence\n",
    "\n",
    "Selecting a licence is most applicable when wanting to share your code/materials to the wider community. Without a licence, some people may take your intellectual property and claim it as their own, and perhaps even commercialise them without paying you. If you intend on keeping your repository private forever then you may not need to worry about a licence.\n",
    "\n",
    "Here, we will discuss how to select a licence for when you create public repositories.\n",
    "\n",
    "Begin by reading the manual page, [Licensing a repository](https://docs.github.com/en/repositories/managing-your-repositorys-settings-and-features/customizing-your-repository/licensing-a-repository), written by GitHub. Be sure to look further on the [choosealicense.com](https://choosealicense.com/) website.\n",
    "\n",
    "We did not complete creating a repository in the previous activity. You should do that now by selecting a licence. \n",
    "\n",
    "**Please be mindful to not publish QUT materials in a public GitHub repository.**"
   ]
  },
  {
   "cell_type": "markdown",
   "id": "18aba966-ab2d-449d-b8be-52f10cf230b4",
   "metadata": {},
   "source": [
    "### ✍ Activity 4: Clone a repository\n",
    "\n",
    "From here, we will refer to the online git service provided by GitHub as the *remote*. That is because we are about to make a clone of a repository as a *local*, each of which are two independent version control systems. For the repositories that we are allowed to write changes to, we will merge the local into the remote. This is a typical workflow of git. \n",
    "\n",
    "1. To clone a repository from the remote to your local, use the `clone` command. We will begin by cloning the `training-kit` repository, published by GitHub themselves.\n",
    "\n",
    "    *Note: prefixing any line in a Jupyter Notebook with an exclamation mark `!` indicates the line should be executed by the underlying computer system, instead of Python. In the case of `!git`, this means the `git` program, as installed on the computer system running Jupyter, will be used.*"
   ]
  },
  {
   "cell_type": "code",
   "execution_count": null,
   "id": "a37f4fdb-fddf-422c-bee7-798ad11f1e2a",
   "metadata": {},
   "outputs": [],
   "source": [
    "!git clone https://github.com/github/training-kit"
   ]
  },
  {
   "cell_type": "markdown",
   "id": "31cdebe7-ce1a-4b76-a27f-37bbf19809ba",
   "metadata": {},
   "source": [
    "Cloning `github/training-kit` may take some time, depending on how fast your internet connection is. The repo is several hundreds of megabytes in size.\n",
    "\n",
    "When a repository is cloned, not only are the files and directories of the repository cloned, but also all branches, and all commits.\n",
    "\n",
    "\n",
    "2. Take a look at the contents of this repository, particularly the `git-guides` directory within it."
   ]
  },
  {
   "cell_type": "markdown",
   "id": "228466c3-2330-4c22-a128-0b1491be69c7",
   "metadata": {},
   "source": [
    "### ✍ Activity 5: Clone **your** repository"
   ]
  },
  {
   "cell_type": "code",
   "execution_count": null,
   "id": "d59eea8d-88e0-4fb5-a7b5-3d0d6d4b9995",
   "metadata": {},
   "outputs": [],
   "source": [
    "# type the `git` command here to clone the repository you created"
   ]
  },
  {
   "cell_type": "code",
   "execution_count": null,
   "id": "6b68c288-d850-4093-9fcb-8dacb4d46d15",
   "metadata": {},
   "outputs": [],
   "source": []
  },
  {
   "cell_type": "markdown",
   "id": "41e81066-abd2-4a88-bb5b-800cc9ec9406",
   "metadata": {},
   "source": [
    "*From here, the following activities assume you are making changes to the repository that you created in Activity 2*"
   ]
  },
  {
   "cell_type": "markdown",
   "id": "57a3c7ce-b7b8-4dbf-8ca1-82217b849389",
   "metadata": {},
   "source": [
    "### ✍ Activity 6: Update the readme\n",
    "\n",
    "When you created the repository, it was automatically [initialised](https://github.com/github/training-kit/blob/master/git-guides/git-init.md) on the remote server with a README file. Now that you have a local copy of the repository, let's make our first change.\n",
    "\n",
    "1. In Jupyter Lab, using the file explorer, navigate to `README.md` of your repository. \n",
    "2. Open the readme file using the text editor.\n",
    "3. Make some changes. Typically, a `README.md` file contains information about what is in the repository, how to contribute (if open source) and any other administrative information.\n",
    "4. Save the file and close it."
   ]
  },
  {
   "cell_type": "markdown",
   "id": "c30cd092-bd36-4d17-ba1a-f546356f64fc",
   "metadata": {},
   "source": [
    "### ✍ Activity 7: Stage changed files for a commit\n",
    "\n",
    "Now that you have made changes to the file, you should commit the changes to the version control system. This means that if at any point in the future you need/want to revert back to this exact version of the file then you will be able to do so, as there is a record of it existing in this form. \n",
    "\n",
    "When creating a commit, a snapshot of the entire repository is made. There is no hard-set rule to determine when you should *commit*, but the general recommendation is that you create a commit at every logical increment in the development of your content. Or, perhaps, if you wish, you could follow a time-based routine, where you commit at the conclusion of every hour of progress.\n",
    "\n",
    "To indicate which changed files you wish to add to the commit, you must *stage* the relevant ones first, using `git add <FILENAME>`. Given that we have changed the `README.md` file, it will need to be staged for the next commit: `git add readme.md`."
   ]
  },
  {
   "cell_type": "code",
   "execution_count": null,
   "id": "fc465bc1-6fd0-4eb3-9185-0c9d959d2bf6",
   "metadata": {},
   "outputs": [],
   "source": [
    "!git ..."
   ]
  },
  {
   "cell_type": "markdown",
   "id": "d17ecc95-8fd4-4955-bee7-6422b8f3d0dc",
   "metadata": {},
   "source": [
    "### ✍ Activity 8: Commit the staged changes\n",
    "\n",
    "Now that there are some staged changes, they need to be committed. Use `git commit -m \"my first commit\"` as the command:\n",
    "\n",
    "A nice summary of Activity 6 and 7 can be found [here](https://github.com/github/training-kit/blob/master/git-guides/git-commit.md)."
   ]
  },
  {
   "cell_type": "code",
   "execution_count": null,
   "id": "7dcce2f7-0e7c-4ab6-a6e0-bf0f43e3dc3a",
   "metadata": {},
   "outputs": [],
   "source": [
    "!git ..."
   ]
  },
  {
   "cell_type": "markdown",
   "id": "324721d9-4238-4d0d-ac37-75682765e0dc",
   "metadata": {},
   "source": [
    "### ✍ Activity 8: Push the changes from local to remote\n",
    "\n",
    "When you cloned the repository, the settings for your remote repository were configured automatically. To demonstrate to you how pushing from your local machine to a remote server works, run the following command to see the settings:"
   ]
  },
  {
   "cell_type": "code",
   "execution_count": null,
   "id": "060326cb-0bb7-4f8e-b68b-f029cd21481d",
   "metadata": {},
   "outputs": [],
   "source": [
    "!git config --get remote.origin.url"
   ]
  },
  {
   "cell_type": "markdown",
   "id": "b25dc053-e3c3-4503-a8ec-eff2fd0a7162",
   "metadata": {},
   "source": [
    "Push the changes..."
   ]
  },
  {
   "cell_type": "code",
   "execution_count": null,
   "id": "28ad4cf3-1ce2-4a7a-a952-935b03eb1dda",
   "metadata": {},
   "outputs": [],
   "source": [
    "!git push"
   ]
  },
  {
   "cell_type": "markdown",
   "id": "ffc2b762-5f52-4ca7-b137-6ea7e99271fa",
   "metadata": {},
   "source": [
    "### ✍ Activity 9: Pulling changes\n",
    "\n",
    "Git is designed for collaborative use. Perhaps you are one of many in a team working on a project, where each person has their own local clone of the repositry; each day you all are commiting changes and pushing. Along the way, you need to pull changes made by others into your local clone. To do this, the `git pull` command is used. That is, *pull the changes from the remote into my local*.\n",
    "\n",
    "This is difficult to simulate without another person making a commit to your repository. Ask a peer to help out by having them clone your remote repository, commit a change to their local then push their local to the remote. You will need to add them as a collaborator, just like you would need to when sharing a OneDrive or Google Drive folder for an assignment. To add another person as a collaborator:\n",
    "\n",
    "1. Open the repository on GitHub\n",
    "1. Click on *Settings*\n",
    "1. Change from *General* to *Collaborators*\n",
    "1. Add the other person\n",
    "\n",
    "Once they have pushed their commit, run:"
   ]
  },
  {
   "cell_type": "code",
   "execution_count": null,
   "id": "bdb1c693-7e46-4911-95f4-2b14cbb355be",
   "metadata": {},
   "outputs": [],
   "source": [
    "!git pull"
   ]
  }
 ],
 "metadata": {
  "kernelspec": {
   "display_name": "Python 3 (ipykernel)",
   "language": "python",
   "name": "python3"
  },
  "language_info": {
   "codemirror_mode": {
    "name": "ipython",
    "version": 3
   },
   "file_extension": ".py",
   "mimetype": "text/x-python",
   "name": "python",
   "nbconvert_exporter": "python",
   "pygments_lexer": "ipython3",
   "version": "3.10.4"
  }
 },
 "nbformat": 4,
 "nbformat_minor": 5
}
