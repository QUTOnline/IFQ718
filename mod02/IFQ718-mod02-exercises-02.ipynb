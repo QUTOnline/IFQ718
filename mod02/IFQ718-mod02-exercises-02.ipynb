{
 "cells": [
  {
   "cell_type": "markdown",
   "id": "e016e6f4-e90c-4a95-8098-8eb947c4297f",
   "metadata": {},
   "source": [
    "# 🛠 IFQ718 Module 02 Exercises-02\n",
    "\n",
    "## 🔍  Context: the `for` and `while` loops\n",
    "\n",
    "Have you heard the *99 Bottles of Beer* song? Have you heard the *99 Bottles of Beer* song? Have you heard the *99 Bottles of Beer* song? Have you...\n",
    "\n",
    "I'm sure you have... it is very repetitive and sticks to the mind.\n",
    "\n",
    "In thinking of how to introduce you to looping constructs, that song came to my mind. I will sing it for you... but I will remove the reference to beer:"
   ]
  },
  {
   "cell_type": "code",
   "execution_count": null,
   "id": "0bc085b4-1670-4a0e-9438-954f7f193e9c",
   "metadata": {},
   "outputs": [],
   "source": [
    "number_of_bottles = 5 # try 99, if you want, but only after you try five\n",
    "\n",
    "drink_name = 'kombucha'\n",
    "\n",
    "while number_of_bottles > 0:\n",
    "    \n",
    "    print(f'{number_of_bottles} bottles of {drink_name} on the wall,\\n{number_of_bottles} bottles of {drink_name}.')\n",
    "    print(f'Take one down and pass it around,\\n{number_of_bottles} bottles of {drink_name} on the wall.\\n')\n",
    "    \n",
    "    number_of_bottles = number_of_bottles - 1\n",
    "    \n",
    "print(f'No more bottles of {drink_name} on the wall')"
   ]
  },
  {
   "cell_type": "markdown",
   "id": "bd991d3b-6494-4cf6-b074-ce3d431dd95c",
   "metadata": {},
   "source": [
    "Was *kombucha* a sound replacement? I'll leave that up to you...\n",
    "\n",
    "Edit: this song has been written in over 1,500 different programming languages (source: [Wikipedia](https://en.wikipedia.org/wiki/99_Bottles_of_Beer#Python)).\n",
    "\n",
    "\n",
    "<hr>\n",
    "\n",
    "Looping constructs are for repeating tasks that are highly similar, like singing the song, above. Could you imagine if you had to type the lyrics from 99 to 0? That would be a task and a half... instead:\n",
    "\n",
    "Python has two looping construcuts: `for` and `while`. Each can be used interchangably, but there are often scenarios where one would be better than the other.\n",
    "\n",
    "* `while` tests the condition until it fails (i.e., the Boolean expression evaluates to False). \n",
    "\n",
    "    * *While* the expression evaluates to True, the body of the loop is executed.\n",
    "    \n",
    "\n",
    "* `for` is typically used for iterating through a list of items. \n",
    "\n",
    "    * We will explain more of this in the next module but will demonstrate some simple examples for you today."
   ]
  },
  {
   "cell_type": "markdown",
   "id": "790c2498-83d6-44d7-826a-1cfa14d8394f",
   "metadata": {},
   "source": [
    "<hr>\n",
    "\n",
    "Perhaps we should try the `for` loop:"
   ]
  },
  {
   "cell_type": "code",
   "execution_count": null,
   "id": "7e135ffc-eacb-4ec7-9c47-b5df7559e365",
   "metadata": {},
   "outputs": [],
   "source": [
    "alphabet = 'abcdefghijklmnopqrstuvwxyz'\n",
    "\n",
    "idx = 1 # index, i.e., the position of the letter\n",
    "for letter in alphabet:\n",
    "    \n",
    "    if idx < 10 or idx >= 20:\n",
    "        if idx % 10 == 1:\n",
    "            # 1st, 21st\n",
    "            suffix = 'st'\n",
    "        elif idx % 10 == 2:\n",
    "            # 2nd, 22nd\n",
    "            suffix = 'nd'\n",
    "        elif idx % 10 == 3:\n",
    "            # 3rd, 23rd\n",
    "            suffix = 'rd'\n",
    "        else:\n",
    "            # 4th, 24th\n",
    "            suffix = 'th'\n",
    "    else:\n",
    "        # 11th, 12th, 13th\n",
    "        suffix = 'th'\n",
    "        \n",
    "    print(f'The {idx}{suffix} letter of the alphabet is `{letter}`.')\n",
    "    \n",
    "    idx += 1"
   ]
  },
  {
   "cell_type": "markdown",
   "id": "dac70914-0614-4c0b-aaf8-29b7711b8904",
   "metadata": {},
   "source": [
    "but, also write the same program using a while loop:"
   ]
  },
  {
   "cell_type": "code",
   "execution_count": null,
   "id": "81c3364d-32bc-4c68-9b80-79d1bbea91ec",
   "metadata": {},
   "outputs": [],
   "source": [
    "alphabet = 'abcdefghijklmnopqrstuvwxyz'\n",
    "\n",
    "idx = 1 # index, i.e., the position of the letter\n",
    "number_of_letters = len(alphabet) # `len` computes the length of the string\n",
    "\n",
    "while idx <= number_of_letters:\n",
    "    \n",
    "    # We can fetch a single character from `alphabet` using square bracket notation, but\n",
    "    # Python starts counting from zero instead of one. I will minus one to account for\n",
    "    # the difference in the way we human count. More on this later...\n",
    "    letter = alphabet[idx-1]\n",
    "    \n",
    "    if idx < 10 or idx >= 20:\n",
    "        if idx % 10 == 1:\n",
    "            # 1st, 21st\n",
    "            suffix = 'st'\n",
    "        elif idx % 10 == 2:\n",
    "            # 2nd, 22nd\n",
    "            suffix = 'nd'\n",
    "        elif idx % 10 == 3:\n",
    "            # 3rd, 23rd\n",
    "            suffix = 'rd'\n",
    "        else:\n",
    "            # 4th, 24th\n",
    "            suffix = 'th'\n",
    "    else:\n",
    "        # 11th, 12th, 13th\n",
    "        suffix = 'th'\n",
    "        \n",
    "    print(f'The {idx}{suffix} letter of the alphabet is `{letter}`.')\n",
    "    \n",
    "    idx += 1"
   ]
  },
  {
   "cell_type": "markdown",
   "id": "e21cc552-ada1-4261-98a8-b9270bdec2d6",
   "metadata": {},
   "source": [
    "Study the two versions of the program above. Which one do you think is the \"tidier\" solution?"
   ]
  },
  {
   "cell_type": "code",
   "execution_count": null,
   "id": "7ad1937e-b19c-4eb1-a1d0-a1b3fc8e7c4f",
   "metadata": {},
   "outputs": [],
   "source": [
    "# The tidier solution is... because..."
   ]
  },
  {
   "cell_type": "markdown",
   "id": "00fdfa67-6eae-436a-ba7f-64e4b8679472",
   "metadata": {},
   "source": [
    "### ✍ Activity 1: ASCII Art\n",
    "\n",
    "> ASCII, American Standard Code for Information Interchange, is a character encoding standard for electronic communication. ASCII codes represent text in computers, telecommunications equipment, and other devices. Most modern character-encoding schemes are based on ASCII, although they support many additional characters.\n",
    ">\n",
    "> Source [Wikipedia](https://en.wikipedia.org/wiki/ASCII)"
   ]
  },
  {
   "cell_type": "code",
   "execution_count": null,
   "id": "985077d9-d38c-4a88-ad92-7f5ada0846bf",
   "metadata": {},
   "outputs": [],
   "source": [
    "# Observe the difference between the following examples:\n",
    "for i in range(10) :\n",
    "    print('*')"
   ]
  },
  {
   "cell_type": "code",
   "execution_count": null,
   "id": "da99697f-3142-4079-8b9a-5714b269202e",
   "metadata": {},
   "outputs": [],
   "source": [
    "i = 0\n",
    "while i < 10:\n",
    "    print('*')\n",
    "    i += 1"
   ]
  },
  {
   "cell_type": "code",
   "execution_count": null,
   "id": "6658f5ae-078f-46bd-b978-24e6d9182715",
   "metadata": {},
   "outputs": [],
   "source": [
    "for i in range(10) :\n",
    "    print('*', end = ', ')"
   ]
  },
  {
   "cell_type": "code",
   "execution_count": null,
   "id": "c9da0ce4-54c3-472e-bb65-9ab9f39f0825",
   "metadata": {},
   "outputs": [],
   "source": [
    "i = 0\n",
    "while i < 10:\n",
    "    print('*', end = ', ')\n",
    "    i += 1"
   ]
  },
  {
   "cell_type": "code",
   "execution_count": null,
   "id": "599f4719-41d1-4fc6-81f8-ee406d1cd4ad",
   "metadata": {},
   "outputs": [],
   "source": [
    "for i in range(10) :\n",
    "    print('*', end = '')"
   ]
  },
  {
   "cell_type": "code",
   "execution_count": null,
   "id": "97820dfc-bad6-4521-bc3a-0294c804d621",
   "metadata": {},
   "outputs": [],
   "source": [
    "i = 0\n",
    "while i < 10:\n",
    "    print('*', end = '')\n",
    "    i += 1"
   ]
  },
  {
   "cell_type": "markdown",
   "id": "90901d4c-b230-4883-a1d2-cfe1e4923f14",
   "metadata": {},
   "source": [
    "**Is there a difference in the behaviour of `while` versus `for`?**"
   ]
  },
  {
   "cell_type": "markdown",
   "id": "23e71a3b-a465-4051-9945-6ad9c38638d4",
   "metadata": {},
   "source": []
  },
  {
   "cell_type": "markdown",
   "id": "813e52ab-b155-4d2f-9bc6-dea44e94ce15",
   "metadata": {},
   "source": [
    "**What does the `end` parameter do?**"
   ]
  },
  {
   "cell_type": "markdown",
   "id": "3365deb1-62ce-43c6-b88b-63efcdcb7a80",
   "metadata": {},
   "source": []
  },
  {
   "cell_type": "markdown",
   "id": "d048964e-d122-4537-8a7a-253a539b5047",
   "metadata": {},
   "source": [
    "**Use `for` loops and `print` to generate the following ASCII art**"
   ]
  },
  {
   "cell_type": "markdown",
   "id": "52eb1df8-7c29-4f6e-90b5-624d5c6a002f",
   "metadata": {},
   "source": [
    "**Art #1**\n",
    "<pre>\n",
    "*\n",
    "**\n",
    "***\n",
    "****\n",
    "*****\n",
    "******\n",
    "*******\n",
    "********\n",
    "*********\n",
    "</pre>"
   ]
  },
  {
   "cell_type": "code",
   "execution_count": null,
   "id": "3893a4f9-5946-4e21-9cb0-f3a5308b794b",
   "metadata": {},
   "outputs": [],
   "source": [
    "# Type your solution here"
   ]
  },
  {
   "cell_type": "markdown",
   "id": "fdb22fe0-2419-4320-9685-df26e049a6eb",
   "metadata": {},
   "source": [
    "**Art #2**\n",
    "<pre>\n",
    "*****\n",
    "****\n",
    "***\n",
    "**\n",
    "*\n",
    "</pre>"
   ]
  },
  {
   "cell_type": "code",
   "execution_count": null,
   "id": "092500e7-2544-46d9-988b-d8bf893cc476",
   "metadata": {},
   "outputs": [],
   "source": [
    "# Type your solution here"
   ]
  },
  {
   "cell_type": "markdown",
   "id": "cf98c7a3-798a-4280-88c3-838f1ff09611",
   "metadata": {},
   "source": [
    "**Art #3**\n",
    "<pre>\n",
    "***********\n",
    "***********\n",
    "***********\n",
    "***********\n",
    "</pre>"
   ]
  },
  {
   "cell_type": "code",
   "execution_count": null,
   "id": "7c0ea0b1-4be4-4fcb-9417-387ab33c668e",
   "metadata": {},
   "outputs": [],
   "source": [
    "# Type your solution here"
   ]
  },
  {
   "cell_type": "markdown",
   "id": "e18cdf03-5e59-4ed7-a591-15fd24ef90a6",
   "metadata": {},
   "source": [
    "**Art #4**\n",
    "<pre>\n",
    "0\n",
    "*1\n",
    "****4\n",
    "*********9\n",
    "****************16\n",
    "*************************25\n",
    "************************************36\n",
    "*************************************************49\n",
    "****************************************************************64\n",
    "*********************************************************************************81\n",
    "</pre>"
   ]
  },
  {
   "cell_type": "code",
   "execution_count": null,
   "id": "be28ca81-5cf7-40cb-8528-db1ac1a2f51b",
   "metadata": {},
   "outputs": [],
   "source": [
    "# Type your solution here"
   ]
  },
  {
   "cell_type": "markdown",
   "id": "257477fc-7af4-4426-82ac-5e24265f90fe",
   "metadata": {},
   "source": [
    "**Repeat generating this ASCII art but using `while` loops**"
   ]
  },
  {
   "cell_type": "code",
   "execution_count": null,
   "id": "40fcd788-47c2-4c27-b300-b43e200eaf17",
   "metadata": {},
   "outputs": [],
   "source": [
    "# Type your solution here"
   ]
  },
  {
   "cell_type": "code",
   "execution_count": null,
   "id": "0174beff-3dd2-4c70-ae73-03bfdb46bf70",
   "metadata": {},
   "outputs": [],
   "source": [
    "# Type your solution here"
   ]
  },
  {
   "cell_type": "code",
   "execution_count": null,
   "id": "ecbc83f8-a62a-4081-95d6-d150511b59a5",
   "metadata": {},
   "outputs": [],
   "source": [
    "# Type your solution here"
   ]
  },
  {
   "cell_type": "code",
   "execution_count": null,
   "id": "d0f4bb39-29d0-4559-8e1d-a3ae687e7196",
   "metadata": {},
   "outputs": [],
   "source": [
    "# Type your solution here"
   ]
  },
  {
   "cell_type": "markdown",
   "id": "cbc074f1-906d-4417-b645-82a08bc3e634",
   "metadata": {
    "tags": []
   },
   "source": [
    "### ✍ Activity 2: Multiplication Matrix"
   ]
  },
  {
   "cell_type": "markdown",
   "id": "daa2c765-da6f-486f-9e58-f86fe4a6289c",
   "metadata": {
    "tags": []
   },
   "source": [
    "Imagine you are charged with tutoring a primary school child in arithmetic.\n",
    "\n",
    "You want to produce a multiplication table for numbers from 1 to 12 to help the child memorise the 'times table'.\n",
    "\n",
    "Using nested loops, output (print) such a table that looks like the image above.\n",
    "\n",
    "Hint: Use f-strings to set number of spaces between each number.\n",
    "\n",
    "<img src=\"data:image/png;base64,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\">"
   ]
  },
  {
   "cell_type": "code",
   "execution_count": null,
   "id": "305b537f-77c7-4cdf-aa4d-03504ef1c9e6",
   "metadata": {},
   "outputs": [],
   "source": [
    "# Type your solution here"
   ]
  }
 ],
 "metadata": {
  "kernelspec": {
   "display_name": "Python 3 (ipykernel)",
   "language": "python",
   "name": "python3"
  },
  "language_info": {
   "codemirror_mode": {
    "name": "ipython",
    "version": 3
   },
   "file_extension": ".py",
   "mimetype": "text/x-python",
   "name": "python",
   "nbconvert_exporter": "python",
   "pygments_lexer": "ipython3",
   "version": "3.10.4"
  }
 },
 "nbformat": 4,
 "nbformat_minor": 5
}
