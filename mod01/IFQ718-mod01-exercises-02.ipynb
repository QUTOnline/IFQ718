{
 "cells": [
  {
   "cell_type": "markdown",
   "id": "f093918f-5fd9-4e9d-8053-f92601cdd2e3",
   "metadata": {},
   "source": [
    "# 🛠 IFQ718 Module 01 Exercises 02\n",
    "\n",
    "## 🔍  Context: Numeric types\n",
    "\n"
   ]
  },
  {
   "cell_type": "markdown",
   "id": "6dc51345-6671-423b-941b-fad8dadc8d01",
   "metadata": {},
   "source": [
    "Python provides multiple numeric data types, including `int` and `float`."
   ]
  },
  {
   "cell_type": "markdown",
   "id": "375b1994-830e-4305-827a-4ee424538c63",
   "metadata": {},
   "source": [
    "### `int`"
   ]
  },
  {
   "cell_type": "markdown",
   "id": "4dc27788-fa03-4554-a85b-01c9cadb1751",
   "metadata": {},
   "source": [
    "One way to create `int` objects is by simply writing its value as a literal with the digits 0 to 9."
   ]
  },
  {
   "cell_type": "code",
   "execution_count": null,
   "id": "7b65d84e-5bb8-4ed0-8172-cc290eb057a7",
   "metadata": {},
   "outputs": [],
   "source": [
    "1"
   ]
  },
  {
   "cell_type": "code",
   "execution_count": null,
   "id": "aeac85ea-2bb9-4aa8-a2df-72f8a9580ee5",
   "metadata": {},
   "outputs": [],
   "source": [
    "100"
   ]
  },
  {
   "cell_type": "code",
   "execution_count": null,
   "id": "7cb3500b-1a11-4661-9a1f-90ed4c8c441c",
   "metadata": {},
   "outputs": [],
   "source": [
    "1000"
   ]
  },
  {
   "cell_type": "code",
   "execution_count": null,
   "id": "01959b34-3691-4fac-9b13-1988cccf53b3",
   "metadata": {},
   "outputs": [],
   "source": [
    "type(1)"
   ]
  },
  {
   "cell_type": "code",
   "execution_count": null,
   "id": "7506d657-e33e-49df-bd00-ce7e53ebb7f3",
   "metadata": {},
   "outputs": [],
   "source": [
    "type(1000)"
   ]
  },
  {
   "cell_type": "markdown",
   "id": "c0263c64-717a-44e3-821a-e90a7b1a8699",
   "metadata": {},
   "source": [
    "Separating digits in numeric literals is possible using underscores `_`. This does not impact the value of the number."
   ]
  },
  {
   "cell_type": "code",
   "execution_count": null,
   "id": "d99e3f93-6477-4664-965e-a07ddb77dc07",
   "metadata": {},
   "outputs": [],
   "source": [
    "1_000_000"
   ]
  },
  {
   "cell_type": "markdown",
   "id": "0399af77-6d48-4aaf-8b69-423fc4fdaad7",
   "metadata": {},
   "source": [
    "You can place them wherever you wish:"
   ]
  },
  {
   "cell_type": "code",
   "execution_count": null,
   "id": "90a61446-0236-46dc-bfcb-9f6443ab7d95",
   "metadata": {},
   "outputs": [],
   "source": [
    "1_23_456_7_89_0"
   ]
  },
  {
   "cell_type": "markdown",
   "id": "d88cabc8-ae54-4676-9966-1a062585e438",
   "metadata": {},
   "source": [
    "However, be sure not to start your number with a leading zero. Python will not appreciate that."
   ]
  },
  {
   "cell_type": "code",
   "execution_count": null,
   "id": "2113491a-3f48-4224-8819-b262f905a29f",
   "metadata": {},
   "outputs": [],
   "source": [
    "01"
   ]
  },
  {
   "cell_type": "markdown",
   "id": "10e0422e-d11a-4aad-a4d3-bd7cfca5e362",
   "metadata": {},
   "source": [
    "Negative integers are allowed"
   ]
  },
  {
   "cell_type": "code",
   "execution_count": null,
   "id": "425e487d-0218-4f01-abb6-278f2829d8c1",
   "metadata": {},
   "outputs": [],
   "source": [
    "-15"
   ]
  },
  {
   "cell_type": "code",
   "execution_count": null,
   "id": "ae0cac11-5922-41cc-94f3-86a7d1792e5c",
   "metadata": {},
   "outputs": [],
   "source": []
  },
  {
   "cell_type": "markdown",
   "id": "2304e4a6-ad11-41e0-a5dc-49b2dffe881f",
   "metadata": {},
   "source": [
    "### `float`"
   ]
  },
  {
   "cell_type": "markdown",
   "id": "f7e7ee0b-527e-4020-96f0-ea738f3371ff",
   "metadata": {},
   "source": [
    "Like `int`, a `float` object can be created by simply writing its value as a literal with the digits 0 to 9."
   ]
  },
  {
   "cell_type": "code",
   "execution_count": null,
   "id": "3b9437a5-694a-4d96-9b4a-b048db79daf7",
   "metadata": {},
   "outputs": [],
   "source": [
    "0.5"
   ]
  },
  {
   "cell_type": "code",
   "execution_count": null,
   "id": "68f58356-1782-48d7-8d2b-ce33a544e5d8",
   "metadata": {},
   "outputs": [],
   "source": [
    "1.5"
   ]
  },
  {
   "cell_type": "markdown",
   "id": "cd3d095e-e803-4d77-b3cf-1fd09e2b40bc",
   "metadata": {},
   "source": [
    "Separating the digits is possible on both sides of the decimal point"
   ]
  },
  {
   "cell_type": "code",
   "execution_count": null,
   "id": "14d5a989-7396-440a-8c55-42a95e3fcd8c",
   "metadata": {},
   "outputs": [],
   "source": [
    "1_000.000_5"
   ]
  },
  {
   "cell_type": "code",
   "execution_count": null,
   "id": "c956fc89-ef64-4f6f-92c5-1611ee5c2cac",
   "metadata": {},
   "outputs": [],
   "source": [
    "type(0.5)"
   ]
  },
  {
   "cell_type": "markdown",
   "id": "0d589551-63ab-4c9f-972a-ffca74db7288",
   "metadata": {},
   "source": [
    "### Numeric operators\n",
    "\n",
    "Try using the following numeric operators:\n",
    "\n",
    "- multiplication `*`\n",
    "- division `/`\n",
    "- addition `+`\n",
    "- subtraction `-`\n",
    "- exponentiation `**`\n",
    "- modulus `%`\n",
    "- floor division `//`"
   ]
  },
  {
   "cell_type": "markdown",
   "id": "b979cffc-439c-4f75-aa92-140012384a5b",
   "metadata": {},
   "source": [
    "Try each operator on `int` then `float`:"
   ]
  },
  {
   "cell_type": "code",
   "execution_count": null,
   "id": "fce81497-97ff-4d67-9c66-012db5fd97ec",
   "metadata": {},
   "outputs": [],
   "source": [
    "# Try multiplication here\n"
   ]
  },
  {
   "cell_type": "code",
   "execution_count": null,
   "id": "30b51a80-606f-49b8-a042-b04957413d7a",
   "metadata": {},
   "outputs": [],
   "source": [
    "# Try division here\n"
   ]
  },
  {
   "cell_type": "code",
   "execution_count": null,
   "id": "9d966512-3b84-48fc-bda7-4c766bec82d5",
   "metadata": {},
   "outputs": [],
   "source": [
    "# Try addition here\n"
   ]
  },
  {
   "cell_type": "code",
   "execution_count": null,
   "id": "0ca41d4d-e243-4f73-92e1-3c07eb488675",
   "metadata": {},
   "outputs": [],
   "source": [
    "# Try subtraction here\n"
   ]
  },
  {
   "cell_type": "code",
   "execution_count": null,
   "id": "356002ec-4f01-440d-ace1-856bfd040e29",
   "metadata": {},
   "outputs": [],
   "source": [
    "# Try exponentiation here\n"
   ]
  },
  {
   "cell_type": "code",
   "execution_count": null,
   "id": "186a0307-09ed-4dbe-b90d-6fb284171e11",
   "metadata": {},
   "outputs": [],
   "source": [
    "# Try modulus here\n"
   ]
  },
  {
   "cell_type": "code",
   "execution_count": null,
   "id": "5490188e-9d66-4bc7-ad86-389ebb88b715",
   "metadata": {},
   "outputs": [],
   "source": [
    "# Try floor division here\n"
   ]
  },
  {
   "cell_type": "markdown",
   "id": "56c4f835-51f5-47cb-9c8f-e2a21aec712d",
   "metadata": {},
   "source": [
    "### ✍ Activity 1: mathematical formula"
   ]
  },
  {
   "cell_type": "markdown",
   "id": "1b0eb09f-52a8-4317-8b6b-218b29816e25",
   "metadata": {},
   "source": [
    "Some useful formulas:\n",
    "    <ul>\n",
    "        <li style=\"margin-bottom: 1.2em\">distance: <span style=\"font-size: 1.2em\">$speed . time$</span></li>\n",
    "        <li style=\"margin-bottom: 1.2em\">degrees: <span style=\"font-size: 1.2em\">$radians \\frac{360}{2\\pi}$</span></li>\n",
    "    </ul>\n"
   ]
  },
  {
   "cell_type": "markdown",
   "id": "74c7fc3c-8d56-4dd3-8ab3-02d1c837733b",
   "metadata": {},
   "source": [
    "<a name=\"distance_travelled\"></a>\n",
    "<b>Distance Travelled</b>"
   ]
  },
  {
   "cell_type": "code",
   "execution_count": null,
   "id": "98975fbb-1efc-4260-a979-a9e8f811e4c7",
   "metadata": {},
   "outputs": [],
   "source": [
    "# Some Python variables\n",
    "speed = 1000 # in kms/hr\n",
    "time = 2 # in minutes\n",
    "pi = 3.14159265359\n",
    "\n",
    "# Using the supplied Python variables, write an expression to calculate the distance travelled in kms.\n",
    "# NB: you will need to convert minutes to hours\n",
    "# Answer is 33.333333333333336\n"
   ]
  },
  {
   "cell_type": "markdown",
   "id": "d1eb6ea5-917e-48ea-8f64-76862f5613f8",
   "metadata": {},
   "source": [
    "<a name=\"debugging_arithmetic_expression\"></a>\n",
    "<b>Debugging Arthimetic Expression</b>"
   ]
  },
  {
   "cell_type": "code",
   "execution_count": null,
   "id": "d6e52cda-8aa6-41a6-90a5-5153dc170bc5",
   "metadata": {},
   "outputs": [],
   "source": [
    "# The hardest type of error to resolve is a 'semantic' error in which \n",
    "# the program gets part of the way through a calculation before something goes wrong:\n",
    "\n",
    "# This expression is well formed, and looks like it should work, but doesn't.\n",
    "(9 * 7) / ((6 + 2) - 8) \n",
    "\n",
    "# Before you run the code, try to determine what the issue is.\n",
    "# Then evaluate the expression, and read the error message.\n"
   ]
  },
  {
   "cell_type": "markdown",
   "id": "57adfa72-59e2-461f-9160-f00d2c970a3f",
   "metadata": {},
   "source": [
    "\n",
    "<a name=\"debugging_formula\"></a>\n",
    "<b>Debugging Formula</b>"
   ]
  },
  {
   "cell_type": "code",
   "execution_count": null,
   "id": "a831e446-4401-4e53-83bb-b7df9c8696c3",
   "metadata": {},
   "outputs": [],
   "source": [
    "# Given a temperature in Fahrenheit, you can determine the equivalent temperature\n",
    "# in Celsius by finding 5/9 of: the Fahrenheit value minus 32\n",
    "\n",
    "# The following code attempts to reflect that formula.  \n",
    "# However the answer should be 100.  What is wrong with the Python code?\n",
    "# Modify the code in order to rectify the calculation.\n",
    "\n",
    "fahrenheit = 212\n",
    "\n",
    "celsius = fahrenheit - 32 * 5 / 9\n",
    "\n",
    "# now display the variable\n",
    "celsius\n"
   ]
  },
  {
   "cell_type": "markdown",
   "id": "b9a459d6-7e08-4946-8950-dbda01758029",
   "metadata": {},
   "source": [
    "### ✍ Activity 2: Algebraic Expressions"
   ]
  },
  {
   "cell_type": "markdown",
   "id": "4efcbff9-c001-42e1-b60f-6853f6607cc7",
   "metadata": {},
   "source": [
    "We will set variable x to the value 3 for the following examples\n",
    "(but the expressions will be written the same regardless of the value of variable x)"
   ]
  },
  {
   "cell_type": "code",
   "execution_count": null,
   "id": "3de5fc8a-fff7-4071-8d11-6ebfdd49349a",
   "metadata": {},
   "outputs": [],
   "source": [
    "x = 3"
   ]
  },
  {
   "cell_type": "markdown",
   "id": "5ea48693-25d4-4c5a-aabf-ab1d5328669e",
   "metadata": {},
   "source": [
    "Write Python expressions for each of the following algebraic expressions:"
   ]
  },
  {
   "cell_type": "markdown",
   "id": "d6df1bc6-96d1-483a-a50e-7fb2bb9238ef",
   "metadata": {},
   "source": [
    "<a name=\"5x^3\"></a>\n",
    "$5x^3$"
   ]
  },
  {
   "cell_type": "code",
   "execution_count": null,
   "id": "850f9e6c-580a-41c8-81d3-74b2d7a55db7",
   "metadata": {},
   "outputs": [],
   "source": [
    "# insert answer here\n",
    "# the result should be 135"
   ]
  },
  {
   "cell_type": "markdown",
   "id": "f52e045e-c8d7-41ff-8744-db518cc2145b",
   "metadata": {},
   "source": [
    "<a name=\"4x^2+7x^3-9x+5\"></a>\n",
    "$4x^2 + 7x^3 - 9x + 5$"
   ]
  },
  {
   "cell_type": "code",
   "execution_count": null,
   "id": "c9016506-34a0-4472-a5f4-3a498c8d15f1",
   "metadata": {},
   "outputs": [],
   "source": [
    "# insert answer here\n",
    "# the result should be 203"
   ]
  },
  {
   "cell_type": "markdown",
   "id": "9b3d7546-78d4-4c6c-a65e-5a8286f5e0ef",
   "metadata": {},
   "source": [
    "<b>Calculate the area of a triangle</b>"
   ]
  },
  {
   "cell_type": "code",
   "execution_count": null,
   "id": "b8af77cf-f1a4-4a15-b586-4e67d405b51b",
   "metadata": {},
   "outputs": [],
   "source": [
    "height = 3.5\n",
    "base = 7.1\n",
    "\n",
    "# insert answer here\n",
    "# the result should be 12.424999999999999"
   ]
  },
  {
   "cell_type": "markdown",
   "id": "3800fd75-b14c-405a-a1ac-004e6ddc2f77",
   "metadata": {},
   "source": [
    "<b>Calculate the volume of a cylinder</b>"
   ]
  },
  {
   "cell_type": "code",
   "execution_count": null,
   "id": "ca2707fa-fbc0-4439-81ee-d717946df4ee",
   "metadata": {},
   "outputs": [],
   "source": [
    "radius = 2\n",
    "height = 3.4\n",
    "\n",
    "# insert answer here\n",
    "# the result should be 42.725660088821186"
   ]
  },
  {
   "cell_type": "markdown",
   "id": "ac83bacb-64b0-4bbd-ac66-5c3c8e60cfb2",
   "metadata": {
    "tags": []
   },
   "source": [
    "### ✍ Activity 3: Numeric Types"
   ]
  },
  {
   "cell_type": "code",
   "execution_count": null,
   "id": "32741fb8-3d8d-4f78-aefd-2e8237f408b4",
   "metadata": {},
   "outputs": [],
   "source": [
    "# The following are expressions of different types. \n",
    "# Look at each expression and without executing the code, decide what Python type it will evaluate to.\n",
    "# Once you have made a decision on each expression, check your answer.\n",
    "\n",
    "type(24 / 8)\n",
    "# what type will it be?"
   ]
  },
  {
   "cell_type": "code",
   "execution_count": null,
   "id": "b44a87a7-0e55-414f-9a67-7fc3f52fd92b",
   "metadata": {},
   "outputs": [],
   "source": [
    "type(2 * 8)\n",
    "# what type will it be?"
   ]
  },
  {
   "cell_type": "code",
   "execution_count": null,
   "id": "2f5496ef-84b4-48fd-8aff-0ea8fddd1892",
   "metadata": {},
   "outputs": [],
   "source": [
    "type(3+0j)\n",
    "# what type will it be?"
   ]
  },
  {
   "cell_type": "code",
   "execution_count": null,
   "id": "54e9deca-542e-477b-b0d0-d8b7b2f9944f",
   "metadata": {},
   "outputs": [],
   "source": [
    "type(3 * (4 + 5.0))\n",
    "# what type will it be?"
   ]
  },
  {
   "cell_type": "code",
   "execution_count": null,
   "id": "80ddb580-8740-44cc-ae25-ad205e5bb37a",
   "metadata": {},
   "outputs": [],
   "source": [
    "# Finally, consider this expression where logically\n",
    "# the left hand side of the comparison operator\n",
    "# has the same value as the right hand side.\n",
    "# Explain why then the expression evaluates to False.\n",
    "# \n",
    "(0.1 * 6) / 0.1 == 6\n",
    "\n",
    "# WRITE YOUR EXPLANATION HERE - as a comment\n",
    "# The value 0.1 cannot be represented precisely as a binary number using a finite number of bits. \n",
    "# The value actually used is 0.100000001490116119384765625 so when we multiply it by 6 we get 0.6000000000000001 \n",
    "# and then dividing by 0.1 gives 6.000000000000001 which is not the same as 6.0 "
   ]
  }
 ],
 "metadata": {
  "kernelspec": {
   "display_name": "Python 3 (ipykernel)",
   "language": "python",
   "name": "python3"
  },
  "language_info": {
   "codemirror_mode": {
    "name": "ipython",
    "version": 3
   },
   "file_extension": ".py",
   "mimetype": "text/x-python",
   "name": "python",
   "nbconvert_exporter": "python",
   "pygments_lexer": "ipython3",
   "version": "3.10.4"
  }
 },
 "nbformat": 4,
 "nbformat_minor": 5
}
