{
 "cells": [
  {
   "cell_type": "markdown",
   "id": "f093918f-5fd9-4e9d-8053-f92601cdd2e3",
   "metadata": {
    "tags": []
   },
   "source": [
    "# 🛠 IFQ718 Module 01 Exercises-01\n",
    "\n",
    "## 🔍  Context: Introduction to Jupyter Notebooks and Markdown\n",
    "\n",
    "* This workshop is presented in a _Jupyter Notebook_ using _Markdown_ which intersperses commentary and code, an approach known as _literate programming_.\n",
    "\n",
    "* We are using [JupyterLab](https://jupyterlab.readthedocs.io/en/latest/) to provide a development environment via your web browser\n",
    "    * Compared to other environments, this is a very user-friendly and intuitive system\n",
    "        * We think you will have the capability to figure out how to use it on your own\n",
    "    * The main thing you need to know to get started is how to _launch_ different programs\n",
    "        * Click on `File > New Launcher` in the menu, or hit `Ctrl+Shift+L` to open a new launcher\n",
    "    * [The JupyterLab Interface](https://jupyterlab.readthedocs.io/en/stable/user/interface.html) describes the menus, sidebars and work areas of the interface\n",
    "        * We can click on the tab that names the file, terminal or notebook we are editing or viewing, then drag that to the upper/lower or left/right half of the browser window\n",
    "        * The left sidebar contains a number of commonly-used tabs, such as a file browser, a list of running kernels and terminals, the command palette, and a list of tabs in the main work area\n",
    "        * When editing Notebook (`.ipynb`) and Markdown (`.md`) files, we can access a very handy table of contents via the left sidebar\n",
    "\n",
    "\n",
    "* [Markdown](https://www.markdownguide.org/getting-started/) is a simple and popular markup language, best learned by doing\n",
    "\n",
    "   > Markdown is a lightweight markup language that you can use to add formatting elements to plaintext text documents. Created by John Gruber in 2004, Markdown is now one of the world’s most popular markup languages.\n",
    "&mdash; [Markdown: getting started](https://www.markdownguide.org/getting-started/)\n",
    "\n",
    "    * More of this later in the Notebook"
   ]
  },
  {
   "cell_type": "markdown",
   "id": "672ce43b-e44b-4994-8a2a-0f18da2c484e",
   "metadata": {},
   "source": [
    "## <a name=\"jupyterlab_basics\"></a>JupyterLab Basics\n",
    "<hr>"
   ]
  },
  {
   "cell_type": "markdown",
   "id": "65513f24-ab17-4074-845c-e57e465cade8",
   "metadata": {},
   "source": [
    "Each 'cell' in a JupyterLab Notebook can contain one of three content <em>types</em>:\n",
    "* Code,\n",
    "* Markdown, or\n",
    "* Raw \n",
    "\n",
    "You can change the <em>type</em> by using the dropdown widget on the menu, which display the current <em>type</em> selected.  (Initially \"Markdown\" should be visible.)\n",
    "\n",
    "The result of 'executing' a cell (by either using the 'play' button on the menu (triangle), or by using the key combination Control+ENTER) depends on the cell <em>type</em>:\n",
    "- If it is <strong>Code</strong>, that code is evaluated.  \n",
    "- If it is <strong>Markdown</strong>, the text will be displayed according to the markup tags used to format the text. \n",
    "- If it is <strong>Raw</strong>, the text will simply be displayed 'as is', ie as plain text.  \n",
    "\n",
    "\n",
    "\n",
    "Try running the following three cells:\n",
    "\n",
    "*Notice that, before execution, the contents of cells looks different depending on the selected <em>type</em>.*\n"
   ]
  },
  {
   "cell_type": "code",
   "execution_count": null,
   "id": "f0a1f6ca-3817-41ab-81d5-adcb8e96a5cd",
   "metadata": {},
   "outputs": [],
   "source": [
    "print('This is a code cell')"
   ]
  },
  {
   "cell_type": "markdown",
   "id": "647ad4a2-73b1-4661-93fe-2e4b18f1b94c",
   "metadata": {},
   "source": [
    "### *This is a Markdown cell*"
   ]
  },
  {
   "cell_type": "raw",
   "id": "c6c48ecd-3002-4b50-be6e-00b3b05e4485",
   "metadata": {},
   "source": [
    "This is a plain text cell"
   ]
  },
  {
   "cell_type": "markdown",
   "id": "e6e5a915-5837-42a9-8639-fdcccf0cc6af",
   "metadata": {
    "tags": []
   },
   "source": [
    "A cell can be *collapsed* by clicking on the arrow that borders its left margin.\n",
    "\n",
    "#### Markdown\n",
    "You will see that this cell is Markdown, and it contains special markup 'tags' surrounding parts of the text to change the way it is displayed when executed.  To look at those tags, double click on any of the text here.  For example you will see how we have marked up the headings and the bulleted lists, and emphasised some words (with italics and bolding).  To render the cell as we intended, simply execute the cell again.\n",
    "\n",
    "Markdown cells will be used to introduce exercises, supply any useful information/resources and to group related exercises into sections.\n",
    "\n",
    "#### Code\n",
    "Most of your interaction with exercise files like this one will be in Code cells.  Generally there will be some Python comments giving a brief introduction to the exercise, potentially followed by some code, then a description of the task you are to complete.  After writing your solution, execute the cell to evaluate your Python code.  Any result of evaluating your code will be displayed in a new cell below the code.  Anything printed will just appear at the bottom of the current cell.\n",
    "\n",
    "If your code produces an error, read the error message to understand which part of your code is causing the error, and what type of error it is.  This will hopefully be a useful hint for debugging!\n",
    "\n",
    "\n",
    "### Keyboard shortcuts\n",
    "\n",
    "The following shortcuts have been found to be the most useful in day-to-day tasks:\n",
    "\n",
    "- Basic navigation: \n",
    " * **`enter`**: Enter edit mode\n",
    " * **`shift-enter`**: run cell\n",
    " * **`up/k`**, **`down/j`**: Move to cell above/below\n",
    "- Saving the notebook: **`s`**\n",
    "- Cell types: \n",
    " * **`y`**: code\n",
    " * **`m`**: markdown\n",
    " * **`r`**: raw\n",
    "- Cell creation:\n",
    " * **`a`**: create new cell above current cell \n",
    " * **`b`**: create new cell below current cell\n",
    "- Cell editing: \n",
    " * **`x`**: cut\n",
    " * **`c`**: copy\n",
    " * **`v`**: paste\n",
    " * **`d`**: delete (press twice)\n",
    " * **`z`**: redo\n",
    "- Kernel operations (press twice): \n",
    " * **`i`**: interrupt kernel\n",
    " * **`0`**: restart kernel\n",
    "\n",
    "<hr>"
   ]
  },
  {
   "cell_type": "markdown",
   "id": "2a073042-ebc1-4fe9-9568-d59f03ea3fe3",
   "metadata": {
    "tags": []
   },
   "source": [
    "# Markdown\n",
    "\n",
    "Text can be added to IPython Notebooks using Markdown cells.  Markdown is a popular markup language that is a superset of HTML, the language for creating web pages.\n",
    "\n",
    "You can view the source of a cell by double clicking on it. One A cell has been edited, use `Shift-Enter` to re-render it. "
   ]
  },
  {
   "cell_type": "markdown",
   "id": "5b22e0a0-875d-4e77-88c7-b546c46b0315",
   "metadata": {},
   "source": [
    "## Markdown basics\n",
    "\n",
    "You can make text *italic* or **bold**.\n",
    "\n",
    "You can build nested itemized or enumerated lists:\n",
    "\n",
    "* One\n",
    "    - Sublist\n",
    "        - This\n",
    "  - Sublist\n",
    "        - That\n",
    "        - The other thing\n",
    "* Two\n",
    "  - Sublist\n",
    "* Three\n",
    "  - Sublist\n",
    "\n",
    "Now another list:\n",
    "\n",
    "1. Here we go\n",
    "    1. Sublist\n",
    "    2. Sublist\n",
    "2. There we go\n",
    "3. Now this\n",
    "\n",
    "\n",
    "You can add horizontal rules:\n",
    "\n",
    "---\n",
    "\n",
    "\n",
    "Here is a blockquote:\n",
    "\n",
    "> Beautiful is better than ugly.\n",
    "> Explicit is better than implicit.\n",
    "> Simple is better than complex.\n",
    "> Complex is better than complicated.\n",
    "> Flat is better than nested.\n",
    "> Sparse is better than dense.\n",
    "> Readability counts.\n",
    "> Special cases aren't special enough to break the rules.\n",
    "> Although practicality beats purity.\n",
    "> Errors should never pass silently.\n",
    "> Unless explicitly silenced.\n",
    "> In the face of ambiguity, refuse the temptation to guess.\n",
    "> There should be one-- and preferably only one --obvious way to do it.\n",
    "> Although that way may not be obvious at first unless you're Dutch.\n",
    "> Now is better than never.\n",
    "> Although never is often better than *right* now.\n",
    "> If the implementation is hard to explain, it's a bad idea.\n",
    "> If the implementation is easy to explain, it may be a good idea.\n",
    "> Namespaces are one honking great idea -- let's do more of those!\n",
    "\n",
    "\n",
    "And shorthand for links:\n",
    "\n",
    "[IPython's website](http://ipython.org)"
   ]
  },
  {
   "cell_type": "markdown",
   "id": "7b1210c0-6f19-41ae-bcfc-b75aef455e47",
   "metadata": {},
   "source": [
    "You can add headings using Markdown's syntax:\n",
    "\n",
    "# Heading 1\n",
    "\n",
    "# Heading 2\n",
    "\n",
    "## Heading 2.1\n",
    "\n",
    "## Heading 2.2"
   ]
  },
  {
   "cell_type": "markdown",
   "id": "51390154-a921-4325-b25c-f9e947356487",
   "metadata": {
    "tags": []
   },
   "source": [
    "## Embedded code\n",
    "\n",
    "You can embed code meant for illustration instead of execution in Python:\n",
    "\n",
    "    def f(x):\n",
    "        \"\"\"a docstring\"\"\"\n",
    "        return x**2\n",
    "\n",
    "or other languages:\n",
    "\n",
    "    if (i=0; i<n; i++) {\n",
    "      printf(\"hello %d\\n\", i);\n",
    "      x += 4;\n",
    "    }"
   ]
  },
  {
   "cell_type": "markdown",
   "id": "6e312d2f-d088-4e27-b476-0584f42c2cdf",
   "metadata": {},
   "source": [
    "The Markdown parser can also render mathematical arithmetic.\n",
    "\n",
    "You can use single-dollar signs to include inline math, e.g. `$e^{i \\pi} = -1$` will render as $e^{i \\pi} = -1$, and double-dollars for displayed math:\n",
    "\n",
    "```\n",
    "$$\n",
    "e^x=\\sum_{i=0}^\\infty \\frac{1}{i!}x^i\n",
    "$$\n",
    "```\n",
    "\n",
    "renders as:\n",
    "\n",
    "$$\n",
    "e^x=\\sum_{i=0}^\\infty \\frac{1}{i!}x^i\n",
    "$$\n"
   ]
  },
  {
   "cell_type": "markdown",
   "id": "c0a6eaa1-c94d-4ece-9e55-f279f3511ab6",
   "metadata": {},
   "source": [
    "## Exercise: Figure out how to write Markdown\n",
    "\n",
    "* Here is an image of the output of some markdown.\n",
    "\n",
    "<img src=\"images/markdown.output.png\" />\n",
    "\n",
    "* Write the markdown that produced it in between the horizontal lines just below\n",
    "    * See [Working with Markdown Cells in Jupyter](https://jupyter-notebook.readthedocs.io/en/stable/examples/Notebook/Working%20With%20Markdown%20Cells.html)\n",
    "\n",
    "-----\n",
    "\n"
   ]
  },
  {
   "cell_type": "markdown",
   "id": "11967bf7-8b47-490a-b9ab-772028b5403d",
   "metadata": {},
   "source": [
    "_Replace this with your solution_ "
   ]
  }
 ],
 "metadata": {
  "kernelspec": {
   "display_name": "Python 3 (ipykernel)",
   "language": "python",
   "name": "python3"
  },
  "language_info": {
   "codemirror_mode": {
    "name": "ipython",
    "version": 3
   },
   "file_extension": ".py",
   "mimetype": "text/x-python",
   "name": "python",
   "nbconvert_exporter": "python",
   "pygments_lexer": "ipython3",
   "version": "3.10.4"
  }
 },
 "nbformat": 4,
 "nbformat_minor": 5
}
