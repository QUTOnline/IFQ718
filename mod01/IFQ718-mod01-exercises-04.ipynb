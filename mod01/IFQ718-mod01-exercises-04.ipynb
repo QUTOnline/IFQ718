{
 "cells": [
  {
   "cell_type": "markdown",
   "id": "a7c354d7-05e4-477b-a6b4-ac7b953e4e7a",
   "metadata": {},
   "source": [
    "# 🛠 IFQ718 Module 01 Exercises 04\n",
    "\n",
    "## 🔍  Context: Variables and Comments"
   ]
  },
  {
   "cell_type": "markdown",
   "id": "e822f45a-3e85-458f-80d4-7d28b9aa061c",
   "metadata": {},
   "source": [
    "* You have already seen the use of variables and comments in the previous Notebooks that you have just completed. In this notebook, we will discuss them in some more detail."
   ]
  },
  {
   "cell_type": "markdown",
   "id": "d72ff294-aca0-4cc6-8183-fe4f862882f6",
   "metadata": {},
   "source": [
    "## Variable naming\n",
    "\n",
    "The [Python Enhancement Proposal (PEP) 8](https://peps.python.org/pep-0008/) provides a style guide for Python code. This includes the style to be used when naming variables, amongst other aspects of the language that you will learn in later modules.\n",
    "\n",
    "> #### A Foolish Consistency is the Hobgoblin of Little Minds\n",
    "> \n",
    "> One of Guido’s key insights is that code is read much more often than it is written. The guidelines provided here are intended to improve the readability of code and make it consistent across the wide spectrum of Python code. As PEP 20 says, “Readability counts”.\n",
    "> \n",
    "> A style guide is about consistency. Consistency with this style guide is important. Consistency within a project is more important. Consistency within one module or function is the most important.\n",
    "> \n",
    "> However, know when to be inconsistent – sometimes style guide recommendations just aren’t applicable. When in doubt, use your best judgment. Look at other examples and decide what looks best. And don’t hesitate to ask!\n",
    "\n",
    "In PEP 8, many naming styles are acknowledged, including:\n",
    "\n",
    "* b (single lowercase letter)\n",
    "* B (single uppercase letter)\n",
    "* lowercase\n",
    "* lower_case_with_underscores\n",
    "* UPPERCASE\n",
    "* UPPER_CASE_WITH_UNDERSCORES\n",
    "* CapitalizedWords (or CapWords, or CamelCase – so named because of the bumpy look of its letters). This is also sometimes known as StudlyCaps.\n",
    "\n",
    "yet, it specifies that variable names [should use the `lower_case_with_underscores` convention](https://peps.python.org/pep-0008/#function-and-variable-names)."
   ]
  },
  {
   "cell_type": "markdown",
   "id": "cc5ade95-3153-45dc-aeca-5d33d854a2c4",
   "metadata": {},
   "source": [
    "### ✍ Activity 1: restyle and/or rename the variables in the code cell below"
   ]
  },
  {
   "cell_type": "markdown",
   "id": "49248772-4be8-4267-b6fb-1d22dbacbbf6",
   "metadata": {},
   "source": [
    "*Caution: discussing this exercise could cause some tension amongst your peers. Discuss at your own risk...*\n",
    "\n",
    "<span style=\"font-size: 0.8em\">All jokes aside: naming of variables is highly subjective, with decisions often made in the moment then never thought about again. This will become more apparent as you write more and more code.</span>"
   ]
  },
  {
   "cell_type": "code",
   "execution_count": null,
   "id": "03528875-e6c8-41d0-93ce-9e6640702a70",
   "metadata": {},
   "outputs": [],
   "source": [
    "theValueOfPiIs = 3.1415\n",
    "\n",
    "\n",
    "SpeedLimit = 100 # km/h\n",
    "\n",
    "\n",
    "this_persons_nameIs = \"Eliza\"\n",
    "\n",
    "\n",
    "THEVOLUMEISSETAT = -18 # dB\n",
    "\n",
    "\n",
    "smallillustration = \"The Treehouse\"\n",
    "\n",
    "# the first to sixth prime numbers\n",
    "# note: you will later learn a better approach to storing a sequence of numbers\n",
    "a = 2 \n",
    "aa = 3\n",
    "aaa = 5\n",
    "aaaa = 7\n",
    "aaaaa = 11\n",
    "aaaaaa = 13\n",
    "\n"
   ]
  },
  {
   "cell_type": "markdown",
   "id": "032ddbff-7673-4f1a-ad2a-94988886ec07",
   "metadata": {},
   "source": [
    "## Code commenting"
   ]
  },
  {
   "cell_type": "markdown",
   "id": "0b2bfa7b-ec66-4fac-9241-422adbd5fe8f",
   "metadata": {},
   "source": [
    "Code commenting is not a feature unique to Python, but is an important feature of all programming languages. Perhaps, for a sizable portion of us in the class, English is the language that we are most comfortable with, but my prediction is that none of us could use a programming language as a day-to-day language. Further, given the [very few words](https://docs.python.org/3/reference/lexical_analysis.html#keywords) used in a programming language, we need to explain our Python code using a common language, otherwise it quickly becomes difficult to understand. This calls on the use of *code commenting*.\n",
    "\n",
    "There are several approaches to writing comments in Python:\n"
   ]
  },
  {
   "cell_type": "code",
   "execution_count": null,
   "id": "a8af0d13-de16-43ae-a43f-dbfadd4fbe30",
   "metadata": {},
   "outputs": [],
   "source": [
    "# A single-line comment using the hash character. \n",
    "print('The text within the print function will be displayed via the standard output stream') # but this text will not, as it is as a comment."
   ]
  },
  {
   "cell_type": "code",
   "execution_count": null,
   "id": "a36bb783-e77a-4c0f-bc17-c306720d10bc",
   "metadata": {},
   "outputs": [],
   "source": [
    "\"\"\"Multiline comments using triple quotes.\n",
    "\n",
    "Typically, double quotes are used.\n",
    "\n",
    "You will notice that when running this cell, the lines between the triple quotes are ignored\n",
    "\"\"\"\n",
    "print('but, this line is certainly considered.')"
   ]
  },
  {
   "cell_type": "markdown",
   "id": "4c11ef67-ef6a-453c-b9ef-5e9f77e1d331",
   "metadata": {},
   "source": [
    "\n",
    "As with variable name styling, the [PEP 8 describes the use of comments in code](https://peps.python.org/pep-0008/#comments). \n",
    "\n",
    "> Comments that contradict the code are worse than no comments. Always make a priority of keeping the comments up-to-date when the code changes!\n",
    "> \n",
    "> Comments should be complete sentences. The first word should be capitalized, unless it is an identifier that begins with a lower case letter (never alter the case of identifiers!).\n",
    "> \n",
    "> Block comments generally consist of one or more paragraphs built out of complete sentences, with each sentence ending in a period.\n",
    "> \n",
    "> You should use two spaces after a sentence-ending period in multi- sentence comments, except after the final sentence.\n",
    "> \n",
    "> Ensure that your comments are clear and easily understandable to other speakers of the language you are writing in.\n",
    "> \n",
    "> Python coders from non-English speaking countries: please write your comments in English, unless you are 120% sure that the code will never be read by people who don’t speak your language.\n",
    "\n",
    "The PEP 8 further describes,\n",
    "\n",
    "> #### Block Comments\n",
    "> \n",
    "> Block comments generally apply to some (or all) code that follows them, and are indented to the same level as that code. Each line of a block comment starts with a # and a single space (unless it is indented text inside the comment).\n",
    "> \n",
    "> Paragraphs inside a block comment are separated by a line containing a single #.\n",
    "> \n",
    "> #### Inline Comments\n",
    "> \n",
    "> Use inline comments sparingly.\n",
    "> \n",
    "> An inline comment is a comment on the same line as a statement. Inline comments should be separated by at least two spaces from the statement. They should start with a # and a single space.\n",
    "> \n",
    "> Inline comments are unnecessary and in fact distracting if they state the obvious. Don’t do this:\n",
    "> \n",
    "> ```python\n",
    "> x = x + 1                 # Increment x\n",
    "> ```\n",
    "> \n",
    ">\n",
    "> But sometimes, this is useful:\n",
    "> \n",
    "> ```python\n",
    "> age = age + 1                 # Compensate for border\n",
    "> ```\n",
    "\n"
   ]
  }
 ],
 "metadata": {
  "kernelspec": {
   "display_name": "Python 3 (ipykernel)",
   "language": "python",
   "name": "python3"
  },
  "language_info": {
   "codemirror_mode": {
    "name": "ipython",
    "version": 3
   },
   "file_extension": ".py",
   "mimetype": "text/x-python",
   "name": "python",
   "nbconvert_exporter": "python",
   "pygments_lexer": "ipython3",
   "version": "3.10.4"
  }
 },
 "nbformat": 4,
 "nbformat_minor": 5
}
