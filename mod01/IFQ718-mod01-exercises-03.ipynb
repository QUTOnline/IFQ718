{
 "cells": [
  {
   "cell_type": "markdown",
   "id": "f093918f-5fd9-4e9d-8053-f92601cdd2e3",
   "metadata": {},
   "source": [
    "# 🛠 IFQ718 Module 01 Exercises 03\n",
    "\n",
    "## 🔍  Context: Strings"
   ]
  },
  {
   "cell_type": "markdown",
   "id": "416dcb11-369b-43c7-a727-b6dcbbb130ba",
   "metadata": {},
   "source": [
    "* Textual data in Python are handled by `str` objects, or `strings`.\n",
    "* Strings are immutable, meaning that once they have been written to memory, they cannot be changed.\n",
    "\n",
    "> An object with a fixed value. Immutable objects include numbers, strings and tuples. Such an object cannot be altered. A new object has to be created if a different value has to be stored. They play an important role in places where a constant hash value is needed, for example as a key in a dictionary. (Source: [python.org](https://docs.python.org/3/glossary.html))\n",
    "\n",
    "* When changing a string, it is rewritten in its entirety, not just the part that was changed.\n",
    "* To indicate the characters are intended to be treated as a string and not code, surround them with single (`'`) or double (`\"`) quotes\n",
    "\n",
    "Let's begin with the classic example:"
   ]
  },
  {
   "cell_type": "code",
   "execution_count": null,
   "id": "e0f2fda6-4d95-439f-91a5-81ebf3beb095",
   "metadata": {},
   "outputs": [],
   "source": [
    "\"Hello, World!\""
   ]
  },
  {
   "cell_type": "markdown",
   "id": "74c5372e-61de-435a-866d-2335769abc0d",
   "metadata": {},
   "source": [
    "Okay, the code cell that you just ran produced an interesting result, though, perhaps you don't know that, yet.\n",
    "\n",
    "Given the cell only contained the string and no other code, when it was executed, Jupyter provided the string back to us as output, and surrounded it with single quotes. This could be misleading to an untrained eye. \n",
    "\n",
    "Lets try again but surround the string with the `print` function, so that Jupyter handles this as a string being written to the standard output stream, rather than an object being returned to the standard output stream. "
   ]
  },
  {
   "cell_type": "code",
   "execution_count": null,
   "id": "4e6c2655-07a8-4b13-9c63-8cfbbcf2014d",
   "metadata": {},
   "outputs": [],
   "source": [
    "print(\"Hello, World!\")"
   ]
  },
  {
   "cell_type": "markdown",
   "id": "303a2f19-e8b7-4e01-96bc-fc962034318b",
   "metadata": {},
   "source": [
    "Thus far, the phrase, _Hello, World!_, has been surrounded by double quotations. This will also work when single quotations are used:"
   ]
  },
  {
   "cell_type": "code",
   "execution_count": null,
   "id": "45f60b79-8347-409d-807f-312eb92f4de7",
   "metadata": {},
   "outputs": [],
   "source": [
    "print('Hello, World!')"
   ]
  },
  {
   "cell_type": "markdown",
   "id": "30c8f28f-723e-4185-934f-aaeec9287c0d",
   "metadata": {},
   "source": [
    "If we were to mix the type of quotations used, Python will throw an error."
   ]
  },
  {
   "cell_type": "code",
   "execution_count": null,
   "id": "60f55f48-78a5-4ccc-ad31-15134f0d4a11",
   "metadata": {
    "tags": []
   },
   "outputs": [],
   "source": [
    "print('Hello, World!\")"
   ]
  },
  {
   "cell_type": "markdown",
   "id": "6ffdd3d9-1784-4d80-a3de-547246b444c6",
   "metadata": {},
   "source": [
    "### ✍ Activity 1: Why did Python throw an error here? Fix the error by rewriting the code into the cell below."
   ]
  },
  {
   "cell_type": "code",
   "execution_count": null,
   "id": "a8c0c07f-329b-4e7c-81d7-03dde97b6f59",
   "metadata": {},
   "outputs": [],
   "source": []
  },
  {
   "cell_type": "markdown",
   "id": "9e08c508-840a-4411-8c90-231285adcb1a",
   "metadata": {},
   "source": [
    "---\n",
    "\n",
    "Want to include a quotation as a part of your string? Here are some approaches:"
   ]
  },
  {
   "cell_type": "code",
   "execution_count": null,
   "id": "59c6473c-717c-46b5-8cac-c040063a01a9",
   "metadata": {},
   "outputs": [],
   "source": [
    "print('Lora says, \"what is for lunch?\"')"
   ]
  },
  {
   "cell_type": "code",
   "execution_count": null,
   "id": "e7738c60-015c-4873-919e-ac92c00bce20",
   "metadata": {},
   "outputs": [],
   "source": [
    "# This one is tricky. The backslash 'escapes' the double quotation, forcing Python to ignore its semantic use.\n",
    "print(\"Lora says, \\\"what is for lunch?\\\"\")"
   ]
  },
  {
   "cell_type": "code",
   "execution_count": null,
   "id": "2b380dc3-b001-41da-b324-1244edb3dfe1",
   "metadata": {},
   "outputs": [],
   "source": [
    "print('Lora says, \\'what is for lunch?\\'')"
   ]
  },
  {
   "cell_type": "markdown",
   "id": "ecfde820-8bab-405b-9847-8e45d313f6dd",
   "metadata": {},
   "source": [
    "Let's explore escape characters some more..."
   ]
  },
  {
   "cell_type": "markdown",
   "id": "ca69fe7a-c77c-4322-a5ab-3480dafaaeac",
   "metadata": {},
   "source": [
    "---\n",
    "\n",
    "## Escape characters\n",
    "\n",
    "Escape characters are prefixed by a backward slash `\\`. This indicates the following character should not be interpreted as-is and has additional meaning.\n",
    "\n",
    "The following are the most common escape character used:\n",
    "\n",
    "* `\\'` single quote\n",
    "* `\\\"` double quote\n",
    "* `\\\\` backslash\n",
    "* `\\n` new line\n",
    "* `\\r` carriage return\n",
    "* `\\t` tab\n",
    "\n",
    "Note: in a text file on a Unix-based computer (i.e., newer Mac's and Linux), the end of a line is indicated with a single new line character, `\\n`. Whereas, on Windows, new line and carriage return are used `\\r\\n`. [Here](https://stackoverflow.com/a/426404/12891825) is a nice summary.\n",
    "\n",
    "When reading files using Python, the interpreter will handle the difference for us:\n",
    "\n",
    ">In text mode, the default when reading is to convert platform-specific line endings (`\\n` on Unix, `\\r\\n` on Windows) to just `\\n`. When writing in text mode, the default is to convert occurrences of `\\n` back to platform-specific line endings. This behind-the-scenes modification to file data is fine for text files, but will corrupt binary data like that in JPEG or EXE files. Be very careful to use binary mode when reading and writing such files.\n",
    ">\n",
    "> Source: [Python Reference Manual](https://docs.python.org/3/tutorial/inputoutput.html#reading-and-writing-files)\n",
    "\n",
    "\n",
    "Let's take the opening dialogue from First Witch and Second Witch of Shakepeare's Macbeth."
   ]
  },
  {
   "cell_type": "code",
   "execution_count": null,
   "id": "ef868796-97bd-4571-adbc-3fd983416899",
   "metadata": {},
   "outputs": [],
   "source": [
    "first_witch = \"When shall we three meet again\\nIn thunder, lightning, or in rain?\"\n",
    "second_witch = \"When the hurlyburly's done\\nWhen the battle's lost and won.\"\n",
    "\n",
    "print(first_witch)\n",
    "print(second_witch)"
   ]
  },
  {
   "cell_type": "markdown",
   "id": "f0cd8a24-2cd0-4b72-af4e-1062b4078e16",
   "metadata": {},
   "source": [
    "Notice that when these strings are printed, the new line characters `\\n` are not explicitly displayed on your screen, but instead, separate the two halves of the dialogue."
   ]
  },
  {
   "cell_type": "markdown",
   "id": "20cd77e9-8808-4ee3-ad5d-4c87d4db2a0e",
   "metadata": {},
   "source": [
    "### ✍ Activity 2: Using the `print` function, rewrite the following messages as single-line Python strings:\n",
    "\n",
    "1. \n",
    "   > Oh, that's jolly good. Well, off you go then.\n",
    "\n",
    "\n",
    "2. \n",
    "   > She said, \"Thank you! It's mine.\"\n",
    "\n",
    "\n",
    "3. \n",
    "   > Separate\teach\tword\tin\tthis\tsentence\tusing\ttabs.\n",
    "\n",
    "*Note: for Exercise 2.3, the use of tabs will become apparent if you double-click this cell to reveal the Markdown.*\n",
    "\n",
    "4. \n",
    "   > One\n",
    "   >\n",
    "   > Two\n",
    "   >\n",
    "   > Three\n",
    "   >\n",
    "   > Four\n",
    "   \n",
    "5. \n",
    "   > The backslash \\ is a typographical mark used mainly in computing and mathematics."
   ]
  },
  {
   "cell_type": "code",
   "execution_count": null,
   "id": "fd76e8f0-9211-4065-8c39-2524bd0d4c22",
   "metadata": {},
   "outputs": [],
   "source": [
    "# Answer 1. here"
   ]
  },
  {
   "cell_type": "code",
   "execution_count": null,
   "id": "d26ba864-7de0-40f5-a483-6a2e34023de8",
   "metadata": {},
   "outputs": [],
   "source": [
    "# Answer 2. here"
   ]
  },
  {
   "cell_type": "code",
   "execution_count": null,
   "id": "276eedca-32ce-4776-8164-caed547bf14b",
   "metadata": {},
   "outputs": [],
   "source": [
    "# Answer 3. here"
   ]
  },
  {
   "cell_type": "code",
   "execution_count": null,
   "id": "cc3f2580-2f7e-44fd-9a5e-542dfbc79935",
   "metadata": {},
   "outputs": [],
   "source": [
    "# Answer 4. here"
   ]
  },
  {
   "cell_type": "code",
   "execution_count": null,
   "id": "3ff62fcb-3b94-445b-aaff-fb637f53017e",
   "metadata": {},
   "outputs": [],
   "source": [
    "# Answer 5. here"
   ]
  },
  {
   "cell_type": "markdown",
   "id": "bff5a331-72d3-4479-8e52-57c4042c02d3",
   "metadata": {},
   "source": [
    "---\n",
    "\n",
    "## Concatenation\n",
    "\n",
    "One oftens wishes to join multiple strings together. For example, multiple sentences to form a paragraph."
   ]
  },
  {
   "cell_type": "code",
   "execution_count": null,
   "id": "2af4e034-f12d-449c-a13d-cc2f2658b271",
   "metadata": {},
   "outputs": [],
   "source": [
    "first_witch = \"When shall we three meet again\\nIn thunder, lightning, or in rain?\"\n",
    "second_witch = \"When the hurlyburly's done\\nWhen the battle's lost and won.\"\n",
    "\n",
    "print(first_witch + second_witch)"
   ]
  },
  {
   "cell_type": "markdown",
   "id": "a4d79759-8b83-49e3-98c6-7a169eb45138",
   "metadata": {},
   "source": [
    "Python allows using the addition operator `+` to concatenate strings, but notice the formatting is not quite right. \n",
    "\n",
    "Let's try again but by adding a new line character in between `first_witch` and `second_witch`."
   ]
  },
  {
   "cell_type": "code",
   "execution_count": null,
   "id": "c5f96413-8fa6-4097-9bc2-419302400737",
   "metadata": {},
   "outputs": [],
   "source": [
    "print(first_witch + \"\\n\" + second_witch)"
   ]
  },
  {
   "cell_type": "markdown",
   "id": "150dfc45-a606-4e73-83bd-e14169432dc0",
   "metadata": {},
   "source": [
    "Ahh yes, that is better.\n",
    "\n",
    "However, there is a tidier way of doing this - using **f-strings**.\n",
    "\n",
    "Take note of:\n",
    "\n",
    "* the leading `f`, indicating the string is a special _formatted string_\n",
    "\n",
    "* braces `{` `}` are used to indicate the contents of the variables `first_witch` and `second_witch` need to be concatenated within the formatted string.\n",
    "\n",
    "* there is a lack of `+`"
   ]
  },
  {
   "cell_type": "code",
   "execution_count": null,
   "id": "8bc0c0eb-f3b8-4b82-bcc1-31814720e8ae",
   "metadata": {},
   "outputs": [],
   "source": [
    "print(f'{first_witch}\\n{second_witch}')"
   ]
  },
  {
   "cell_type": "markdown",
   "id": "8b8e6564-69e7-441c-8bdf-78170396f3e8",
   "metadata": {},
   "source": [
    "### ✍ Activity 3: add some context to the Macbeth script.\n",
    "\n",
    "Using a formatted string to display the dialogue formatted as the following:\n",
    "\n",
    "> First Witch: When shall we three meet again\n",
    ">\n",
    "> In thunder, lightning, or in rain?\n",
    ">\n",
    "> Second Witch: When the hurlyburly's done\n",
    ">\n",
    "> When the battle's lost and won."
   ]
  },
  {
   "cell_type": "code",
   "execution_count": null,
   "id": "e1f53ef8-762c-4d71-853b-9a4195abad99",
   "metadata": {},
   "outputs": [],
   "source": [
    "# Complete the solution here\n",
    "print(f'')"
   ]
  },
  {
   "cell_type": "markdown",
   "id": "4ad08a58-28e2-40d6-bfb0-53d6d8e84dd7",
   "metadata": {},
   "source": [
    "Here is something interesting... not only can we \"add\" strings together but we can also \"multiply\" them:"
   ]
  },
  {
   "cell_type": "code",
   "execution_count": null,
   "id": "9c83f895-cdfd-4b17-ac1d-b38871917fc2",
   "metadata": {},
   "outputs": [],
   "source": [
    "print('Hi there. ' * 5)"
   ]
  },
  {
   "cell_type": "markdown",
   "id": "b66bb96e-97d9-43af-9039-04bbdd0c8dca",
   "metadata": {},
   "source": [
    "Nice! How about \"dividing\" a string? Give it a shot..."
   ]
  },
  {
   "cell_type": "code",
   "execution_count": null,
   "id": "96cd7b16-d124-41dd-bc8a-0d217941a810",
   "metadata": {},
   "outputs": [],
   "source": [
    "# Try it here\n"
   ]
  },
  {
   "cell_type": "markdown",
   "id": "27281d63-dd8a-4dc1-926b-e8a293d38f10",
   "metadata": {},
   "source": [
    "What went wrong?"
   ]
  },
  {
   "cell_type": "raw",
   "id": "464b80cc-3300-444e-8058-db55dd24af85",
   "metadata": {},
   "source": []
  },
  {
   "cell_type": "markdown",
   "id": "087bb1d8-021a-4384-987d-e08c1583a46c",
   "metadata": {},
   "source": [
    "---\n",
    "\n",
    "### Advanced string formatting"
   ]
  },
  {
   "cell_type": "markdown",
   "id": "00bd0748-a360-433e-8be4-da725096a92f",
   "metadata": {
    "tags": []
   },
   "source": [
    "[Positional number systems](https://en.wikipedia.org/wiki/Positional_notation) give value to a sequence of digits according to the order in which they appear. Often, when numbers are printed beneath one another, aligning the orders of magnitude improves readability.\n",
    "\n",
    "The example, below, uses an `f-string` notation to dictate the alignment of the digits.\n",
    "\n",
    "The format `{x*x*x:6d}` specifies that the number $x^3$ is to be formatted as a decimal integer using 6 positions."
   ]
  },
  {
   "cell_type": "code",
   "execution_count": null,
   "id": "3ceb4d22-208d-45b6-832e-53cd6683fc1a",
   "metadata": {},
   "outputs": [],
   "source": [
    "x = 3\n",
    "print(f'{x:2d}')\n",
    "print(f'{x*x:3d}')\n",
    "print(f'{x*x*x:6d}')"
   ]
  },
  {
   "cell_type": "markdown",
   "id": "c0dc9041-812b-43ae-8094-273758bf40ac",
   "metadata": {},
   "source": [
    "Other representations exists. According to the Python [documentation](https://peps.python.org/pep-3101/):\n",
    "\n",
    "> `b` - Binary. Outputs the number in base 2.\n",
    ">\n",
    "> `c` - Character. Converts the integer to the corresponding [Unicode character](https://unicode-table.com/en/) before printing.\n",
    ">\n",
    "> `d` - Decimal Integer. Outputs the number in base 10.\n",
    ">\n",
    "> `o` - Octal format. Outputs the number in base 8.\n",
    ">\n",
    "> `x` - Hex format. Outputs the number in base 16, using lower-case letters for the digits above 9.\n",
    ">\n",
    "> `X` - Hex format. Outputs the number in base 16, using upper-case letters for the digits above 9.\n",
    ">\n",
    "> ` ` (None) - the same as `d`"
   ]
  },
  {
   "cell_type": "markdown",
   "id": "c2d2d1aa-7196-4419-aa28-53b6aa009f0a",
   "metadata": {},
   "source": [
    "Let's try it out"
   ]
  },
  {
   "cell_type": "code",
   "execution_count": null,
   "id": "8b87f1d4-81d1-4f99-937f-fd42a521fa32",
   "metadata": {},
   "outputs": [],
   "source": [
    "my_value = 90 # adjust this value at your leisure. Try 128522, 128523 and 127378.\n",
    "print(f'my_value as binary: {my_value:b}')\n",
    "print(f'my_value as its associated Unicode character: {my_value:c}')\n",
    "print(f'my_value as decimal: {my_value:d}')\n",
    "print(f'my_value as octal: {my_value:o}')\n",
    "print(f'my_value as hex: {my_value:x}')\n",
    "print(f'my_value as HEX: {my_value:X}')\n",
    "print(f'my_value as is: {my_value}')"
   ]
  },
  {
   "cell_type": "markdown",
   "id": "12c7fab5-9ed1-4e63-999d-01afe7231935",
   "metadata": {},
   "source": [
    "### ✍ Activity 4: run the code cells below, what are they doing?"
   ]
  },
  {
   "cell_type": "code",
   "execution_count": null,
   "id": "b9445983-c8c9-4d1a-ac2a-9f50dce2b3a0",
   "metadata": {},
   "outputs": [],
   "source": [
    "pi = 3.141592\n",
    "print(pi * 1000000)\n",
    "print(f'{pi*1000000:,}')\n",
    "print(f'{pi*1000000:_}')"
   ]
  },
  {
   "cell_type": "code",
   "execution_count": null,
   "id": "6a3b5429-5a76-4520-b451-b8354f2681c5",
   "metadata": {},
   "outputs": [],
   "source": [
    "print(f'{pi:.4}')"
   ]
  },
  {
   "cell_type": "code",
   "execution_count": null,
   "id": "99787e89-4b94-4734-a208-2d0bc4c0f950",
   "metadata": {},
   "outputs": [],
   "source": [
    "print(f'Pi is {pi}')"
   ]
  },
  {
   "cell_type": "code",
   "execution_count": null,
   "id": "e7e3213e-0d5e-40cc-bb53-77416092a10c",
   "metadata": {},
   "outputs": [],
   "source": [
    "print(f'Pi is {pi: >20}')"
   ]
  },
  {
   "cell_type": "code",
   "execution_count": null,
   "id": "63af2a02-9919-4ccf-9906-cbddc270c72f",
   "metadata": {},
   "outputs": [],
   "source": [
    "print(f'Pi is {pi:>20}')"
   ]
  },
  {
   "cell_type": "code",
   "execution_count": null,
   "id": "7f3ba231-022c-4282-8916-4646d3df7375",
   "metadata": {},
   "outputs": [],
   "source": [
    "print(f'Pi is {pi: >20.5}')"
   ]
  }
 ],
 "metadata": {
  "kernelspec": {
   "display_name": "Python 3 (ipykernel)",
   "language": "python",
   "name": "python3"
  },
  "language_info": {
   "codemirror_mode": {
    "name": "ipython",
    "version": 3
   },
   "file_extension": ".py",
   "mimetype": "text/x-python",
   "name": "python",
   "nbconvert_exporter": "python",
   "pygments_lexer": "ipython3",
   "version": "3.10.4"
  }
 },
 "nbformat": 4,
 "nbformat_minor": 5
}
