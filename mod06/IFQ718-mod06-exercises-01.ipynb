{
 "cells": [
  {
   "cell_type": "markdown",
   "id": "6b9a8c80-3ff6-44c1-8ac5-494fb2194abc",
   "metadata": {},
   "source": [
    "# 🛠 IFQ718 Module 06 Exercises 01"
   ]
  },
  {
   "cell_type": "markdown",
   "id": "785d9e23-97a4-4243-be73-54340a97a430",
   "metadata": {
    "tags": []
   },
   "source": [
    "## 🔍  Context: Computing columns\n",
    "\n",
    "How much experience do you have with Excel? If some, you may have calculated new columns using existing data within a sheet. \n",
    "\n",
    "For example, if you were to need column `C` to be the summation of columns `A` and `B`, then this formula would be entered in cell `C1`: `=$A1+$B1`, \n",
    "which is then repeated in cells `C2`, `C3`, etc., by \"dragging\" it down the column.\n",
    "\n",
    "Using Pandas, we can also calculate columns using existing data within a DataFrame. The syntax is different but the concept is the same.\n",
    "\n",
    "Let's give it a try with the miles per gallon (MPG) dataset..."
   ]
  },
  {
   "cell_type": "code",
   "execution_count": null,
   "id": "31d23866-88a7-4d0e-aa75-12ed18dad1ad",
   "metadata": {},
   "outputs": [],
   "source": [
    "import pandas as pd"
   ]
  },
  {
   "cell_type": "code",
   "execution_count": null,
   "id": "7961f499-770d-4982-b2e7-d1f4b9ea2b2d",
   "metadata": {},
   "outputs": [],
   "source": [
    "df = pd.read_csv('data/mpg.csv')"
   ]
  },
  {
   "cell_type": "code",
   "execution_count": null,
   "id": "b2dcc855-7403-45cb-82ca-f56a7295c2ad",
   "metadata": {},
   "outputs": [],
   "source": [
    "df"
   ]
  },
  {
   "cell_type": "markdown",
   "id": "0d3b38fa-db93-473f-bf0e-b4361069b28f",
   "metadata": {},
   "source": [
    "**Add a column where a value of `True` indicates the origin of the vehicle is the USA, otherwise, `False`**\n",
    "\n",
    "*This is a good example of the difference between `=` and `==`.*"
   ]
  },
  {
   "cell_type": "code",
   "execution_count": null,
   "id": "d04ba0e2-beb1-4e7d-82ad-af345e378295",
   "metadata": {},
   "outputs": [],
   "source": [
    "df['is_origin_usa'] = (df['origin'] == 'usa')"
   ]
  },
  {
   "cell_type": "code",
   "execution_count": null,
   "id": "be7bb2b6-4ad4-4de4-bf44-57002cdb69d8",
   "metadata": {},
   "outputs": [],
   "source": [
    "df"
   ]
  },
  {
   "cell_type": "markdown",
   "id": "27b36297-97c1-474d-b9b6-71d0dfb0696f",
   "metadata": {},
   "source": [
    "**Add a column with the year formatted as `YYYY` instead of `YY`**"
   ]
  },
  {
   "cell_type": "code",
   "execution_count": null,
   "id": "48babc1d-d6eb-4c7d-91dd-a8d09d702db2",
   "metadata": {},
   "outputs": [],
   "source": [
    "df['model_year_yyyy'] = df['model_year'] + 1900"
   ]
  },
  {
   "cell_type": "code",
   "execution_count": null,
   "id": "18606b36-def4-4f8d-a915-14c33879dfb6",
   "metadata": {},
   "outputs": [],
   "source": [
    "df"
   ]
  },
  {
   "cell_type": "markdown",
   "id": "4227c9ec-fc1e-446a-ac32-32edd059a20e",
   "metadata": {},
   "source": [
    "**Convert miles per gallon to kilometers per litre**\n",
    "\n",
    "According to [Google](https://www.google.com/search?q=Convert+miles+per+gallon+to+kilometers+per+litre), the formula is *divide the fuel economy value by 2.352*."
   ]
  },
  {
   "cell_type": "code",
   "execution_count": null,
   "id": "831dcd3f-cbfa-4c43-97f8-a23eaff3845f",
   "metadata": {},
   "outputs": [],
   "source": [
    "df['kmpl'] = df['mpg'] / 2.352"
   ]
  },
  {
   "cell_type": "code",
   "execution_count": null,
   "id": "41d5e768-6f56-4c11-b1b0-b3153019c319",
   "metadata": {},
   "outputs": [],
   "source": [
    "df"
   ]
  },
  {
   "cell_type": "markdown",
   "id": "7ec8867e-7491-4ff8-aaa2-46c5c728ce26",
   "metadata": {},
   "source": [
    "### ✍ Activity 1: add a column, `litres_per_100km`\n",
    "\n",
    "... that is, the number of litres of fuel consumed per 100 kilometers"
   ]
  },
  {
   "cell_type": "code",
   "execution_count": null,
   "id": "73202397-0f54-434c-b428-5d3bf12dec0d",
   "metadata": {},
   "outputs": [],
   "source": [
    "# Write your code here"
   ]
  },
  {
   "cell_type": "markdown",
   "id": "1b16c59f-d35d-4f53-99d5-1f5da675e817",
   "metadata": {},
   "source": [
    "### ✍ Activity 2: add a column, `kilowatts`\n",
    "\n",
    "Calculate the engine power in kilowatts\n",
    "\n",
    "According to [Google](https://www.google.com/search?q=horsepower+to+kw), the formula is *divide the power value by 1.341*."
   ]
  },
  {
   "cell_type": "code",
   "execution_count": null,
   "id": "275eeea2-1ebb-41ae-b194-b127064be236",
   "metadata": {},
   "outputs": [],
   "source": [
    "# Write your code here"
   ]
  },
  {
   "cell_type": "markdown",
   "id": "98bd4bc2-0fd7-4514-baba-6b2378317056",
   "metadata": {},
   "source": [
    "### ✍ Activity 3: add a column, `weight_tonne`\n",
    "\n",
    "The existing weight column is measured in pounds. [Convert to metric tonne](https://www.google.com/search?q=pounds+to+metric+tonne).\n",
    "\n",
    "According to [Google](https://www.google.com/search?q=horsepower+to+kw), the formula is *divide the power value by 1.341*."
   ]
  },
  {
   "cell_type": "code",
   "execution_count": null,
   "id": "fba726fd-947c-4b58-86d5-d760b013120f",
   "metadata": {},
   "outputs": [],
   "source": [
    "# Write your code here"
   ]
  },
  {
   "cell_type": "markdown",
   "id": "3abd2ca9-3d77-4421-b03d-28a3ec687399",
   "metadata": {},
   "source": [
    "### ✍ Activity 4: calculate the power to weight ratio\n",
    "\n",
    "Create a new column `power_weight_ratio`.\n",
    "\n",
    "Use the formula: `kilowatts` / `weight_tonne`"
   ]
  },
  {
   "cell_type": "code",
   "execution_count": null,
   "id": "cbf17468-9440-4588-8a59-12a8b05d9d62",
   "metadata": {},
   "outputs": [],
   "source": [
    "# Write your code here"
   ]
  }
 ],
 "metadata": {
  "kernelspec": {
   "display_name": "Python 3 (ipykernel)",
   "language": "python",
   "name": "python3"
  },
  "language_info": {
   "codemirror_mode": {
    "name": "ipython",
    "version": 3
   },
   "file_extension": ".py",
   "mimetype": "text/x-python",
   "name": "python",
   "nbconvert_exporter": "python",
   "pygments_lexer": "ipython3",
   "version": "3.10.4"
  }
 },
 "nbformat": 4,
 "nbformat_minor": 5
}
