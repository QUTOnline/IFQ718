{
 "cells": [
  {
   "cell_type": "markdown",
   "id": "6b9a8c80-3ff6-44c1-8ac5-494fb2194abc",
   "metadata": {},
   "source": [
    "# 🛠 IFQ718 Module 06 Exercises 02\n",
    "\n",
    "## 🔍  Context: Aggregating data\n",
    "\n",
    "In this notebook, the DataFrame within a frame will be grouped and functions will be applied to each group. \n",
    "\n",
    "Recall the penguins dataset, where there are three penguin species. We could ask the question, what is the average bill length for each species? Pandas will answer this question for us."
   ]
  },
  {
   "cell_type": "code",
   "execution_count": null,
   "id": "31d23866-88a7-4d0e-aa75-12ed18dad1ad",
   "metadata": {},
   "outputs": [],
   "source": [
    "import pandas as pd"
   ]
  },
  {
   "cell_type": "code",
   "execution_count": null,
   "id": "f571ea84-d79c-4a97-ade9-3a91d3fceee4",
   "metadata": {},
   "outputs": [],
   "source": [
    "df = pd.read_csv('data/penguins.csv')"
   ]
  },
  {
   "cell_type": "code",
   "execution_count": null,
   "id": "dcbf5fdc-d768-41fa-813a-5c8f48c9e8fd",
   "metadata": {},
   "outputs": [],
   "source": [
    "df"
   ]
  },
  {
   "cell_type": "markdown",
   "id": "21953eaa-fa8c-4b1a-825a-888e9e5b09aa",
   "metadata": {},
   "source": [
    "### ✍ Activity 1: try the basic aggregation functions on the DataFrame `df`\n",
    "\n",
    "They are:\n",
    "\n",
    "|    Aggregation   |           Description           |\n",
    "|:----------------:|:-------------------------------:|\n",
    "| `count()`          | Total number of items           |\n",
    "| `first()`, `last()`  | First and last item             |\n",
    "| `mean()`, `median()` | Mean and median                 |\n",
    "| `min()`, `max()`     | Minimum and maximum             |\n",
    "| `std()`, `var()`     | Standard deviation and variance |\n",
    "| `mad()`            | Mean absolute deviation         |\n",
    "| `prod()`           | Product of all items            |\n",
    "| `sum()`            | Sum of all items                |\n",
    "\n",
    "We will get you started with `count()`.\n",
    "\n",
    "For each, write a short comment with your observations, to explain the purpose of each function."
   ]
  },
  {
   "cell_type": "code",
   "execution_count": null,
   "id": "a052d465-97d7-46b9-9090-78ad057f3aa2",
   "metadata": {},
   "outputs": [],
   "source": [
    "df.count()\n",
    "\n",
    "# counts the number of non-NaN values in each column"
   ]
  },
  {
   "cell_type": "code",
   "execution_count": null,
   "id": "ec7371ea-4d9a-45a8-b169-8f4dbb3489f1",
   "metadata": {},
   "outputs": [],
   "source": [
    "# Try `first()` here"
   ]
  },
  {
   "cell_type": "code",
   "execution_count": null,
   "id": "604d6119-26f3-4315-8770-d63f98eabe1f",
   "metadata": {},
   "outputs": [],
   "source": [
    "# Try `last()` here"
   ]
  },
  {
   "cell_type": "code",
   "execution_count": null,
   "id": "9a4eebda-5285-45c5-a721-5d49fff0194e",
   "metadata": {},
   "outputs": [],
   "source": [
    "# Try `mean()` here"
   ]
  },
  {
   "cell_type": "code",
   "execution_count": null,
   "id": "32784151-10f0-4354-8934-2ea21d0f956a",
   "metadata": {},
   "outputs": [],
   "source": [
    "# Try `median()` here"
   ]
  },
  {
   "cell_type": "code",
   "execution_count": null,
   "id": "8a44ab08-8f48-4310-b67b-ce0facf076e0",
   "metadata": {},
   "outputs": [],
   "source": [
    "# Try `min()` here"
   ]
  },
  {
   "cell_type": "code",
   "execution_count": null,
   "id": "c7836839-f135-43c4-bd98-6ae2e0f124e5",
   "metadata": {},
   "outputs": [],
   "source": [
    "# Try `max()` here"
   ]
  },
  {
   "cell_type": "code",
   "execution_count": null,
   "id": "1e72d0b4-cb17-42d4-b87e-59d16159fcfb",
   "metadata": {},
   "outputs": [],
   "source": [
    "# Try `std()` here"
   ]
  },
  {
   "cell_type": "code",
   "execution_count": null,
   "id": "cc2b51d2-24c6-4f4c-a946-8d171bcc0362",
   "metadata": {},
   "outputs": [],
   "source": [
    "# Try `var()` here"
   ]
  },
  {
   "cell_type": "code",
   "execution_count": null,
   "id": "f7a4a8fe-607a-4dd9-9177-f7925d861614",
   "metadata": {},
   "outputs": [],
   "source": [
    "# Try `mad()` here"
   ]
  },
  {
   "cell_type": "code",
   "execution_count": null,
   "id": "6c84b2d3-9661-4395-bea1-6053c247f347",
   "metadata": {},
   "outputs": [],
   "source": [
    "# Try `prod()` here"
   ]
  },
  {
   "cell_type": "code",
   "execution_count": null,
   "id": "e7cc39ff-acf9-4e40-97ed-ad31b32c0bef",
   "metadata": {},
   "outputs": [],
   "source": [
    "# Try `sum()` here"
   ]
  },
  {
   "cell_type": "markdown",
   "id": "c1bf55e6-a9cc-46ba-b8ea-a6e82b872b55",
   "metadata": {},
   "source": [
    "### Using the `aggregate` function\n",
    "\n",
    "The `.aggregate()` function performs the same operation as the functions in the previous activity do.\n",
    "\n",
    "However, you can specify user-defined functions, and multiple functions per column."
   ]
  },
  {
   "cell_type": "code",
   "execution_count": null,
   "id": "cde21bae-dc5d-4e16-a268-23098e648fde",
   "metadata": {},
   "outputs": [],
   "source": [
    "df.aggregate('mean')"
   ]
  },
  {
   "cell_type": "markdown",
   "id": "63ef0c10-7bb1-4027-9ca0-1604591b3a1c",
   "metadata": {},
   "source": [
    "Notice there is a warning/error? How would you calculate the average of a list of strings? Seems strange, doesn't it? Pandas thinks so too.\n",
    "\n",
    "Let's take a look at which columns are numerical types, then specify that we only want to aggregate those columns using the mathematical functions."
   ]
  },
  {
   "cell_type": "code",
   "execution_count": null,
   "id": "3b2bcbc6-283b-4738-a1fd-fe60b1c58fe5",
   "metadata": {},
   "outputs": [],
   "source": [
    "df.dtypes"
   ]
  },
  {
   "cell_type": "code",
   "execution_count": null,
   "id": "0bc368d1-ebc3-41a5-b051-81b98feea1b2",
   "metadata": {},
   "outputs": [],
   "source": [
    "df.aggregate({\n",
    "    'bill_length_mm' : 'mean', \n",
    "    'bill_depth_mm' : 'mean', \n",
    "    'flipper_length_mm' : 'mean', \n",
    "    'body_mass_g' : 'mean'\n",
    "})"
   ]
  },
  {
   "cell_type": "code",
   "execution_count": null,
   "id": "1a640f75-f99c-4b98-bc72-da0f2eae8b00",
   "metadata": {},
   "outputs": [],
   "source": [
    "df.aggregate({\n",
    "    'bill_length_mm' : ['min', 'mean', 'max'],\n",
    "    'bill_depth_mm' : ['min', 'mean', 'max'],\n",
    "    'flipper_length_mm' : ['min', 'mean', 'max'],\n",
    "    'body_mass_g' : ['min', 'mean', 'max']\n",
    "})"
   ]
  },
  {
   "cell_type": "code",
   "execution_count": null,
   "id": "01c061f1-4633-4c7b-9134-afaa1d2bf583",
   "metadata": {},
   "outputs": [],
   "source": [
    "# a user-defined function, `my_range`, named to avoid conflicting with the built-in `range` function\n",
    "def my_range(series):\n",
    "    return series.max() - series.min()"
   ]
  },
  {
   "cell_type": "code",
   "execution_count": null,
   "id": "a76f68ad-1f00-4325-94d9-03893f137944",
   "metadata": {},
   "outputs": [],
   "source": [
    "df.aggregate({\n",
    "    'bill_length_mm' : [my_range, 'min', 'mean', 'max'],\n",
    "    'bill_depth_mm' : [my_range, 'min', 'mean', 'max'],\n",
    "    'flipper_length_mm' : [my_range, 'min', 'mean', 'max'],\n",
    "    'body_mass_g' : [my_range, 'min', 'mean', 'max']\n",
    "})"
   ]
  },
  {
   "cell_type": "markdown",
   "id": "49632b4b-2c7b-4248-8e18-453dc245c3f7",
   "metadata": {},
   "source": [
    "### ✍ Activity 2: write your own aggregate function to count the number of penguins with `body_mass_g` above the mean\n",
    "\n",
    "Hint, use:\n",
    "* `.mean()`, and\n",
    "* `.sum()`"
   ]
  },
  {
   "cell_type": "code",
   "execution_count": null,
   "id": "a47efa8e-a87d-4ee0-a0fc-5b130cb04d2a",
   "metadata": {},
   "outputs": [],
   "source": [
    "def count_above_the_mean(series):\n",
    "    return series.min() # replace this line with your code\n",
    "\n",
    "df.aggregate({\n",
    "    'body_mass_g' : [count_above_the_mean, 'min', 'mean', 'max']\n",
    "})"
   ]
  },
  {
   "cell_type": "markdown",
   "id": "b0b4071f-81fd-4445-a1c4-d853649924fc",
   "metadata": {},
   "source": [
    "### Grouping data\n",
    "\n",
    "What if we want to compute the average of each bill dimension for each penguin species?\n",
    "\n",
    "We can use `.groupby()`. \n",
    "\n",
    "Let's try it:"
   ]
  },
  {
   "cell_type": "code",
   "execution_count": null,
   "id": "4faefe92-f7f5-4b49-bc63-0d6308483817",
   "metadata": {},
   "outputs": [],
   "source": [
    "df.groupby('species')"
   ]
  },
  {
   "cell_type": "markdown",
   "id": "0bead279-118c-4578-bf7f-d20aeaa67ffe",
   "metadata": {},
   "source": [
    "It gave us a `pandas.core.groupby.generic.DataFrameGroupBy` object. Not useful, yet. Pandas is handling the grouped data for us, but does not know how to display it properly.\n",
    "\n",
    "But, let's apply some aggregate functions to the groups:"
   ]
  },
  {
   "cell_type": "code",
   "execution_count": null,
   "id": "eb668a21-dcaa-487e-881a-9180e1fee5c6",
   "metadata": {},
   "outputs": [],
   "source": [
    "df_bills_by_species = df.groupby('species').aggregate({\n",
    "    'bill_length_mm' : ['min', 'mean', 'max'],\n",
    "    'bill_depth_mm' : ['min', 'mean', 'max']\n",
    "})"
   ]
  },
  {
   "cell_type": "code",
   "execution_count": null,
   "id": "ab9f5d97-be6b-41a9-93d8-dcc07b23b911",
   "metadata": {},
   "outputs": [],
   "source": [
    "df_bills_by_species"
   ]
  },
  {
   "cell_type": "markdown",
   "id": "d6fcf883-9afd-4cb4-8871-5166e7064a2a",
   "metadata": {},
   "source": [
    "Now, slice the frame to only have the column `bill_length_mm`"
   ]
  },
  {
   "cell_type": "code",
   "execution_count": null,
   "id": "85dce47c-e03f-4ef7-8f7a-1b8f17514346",
   "metadata": {},
   "outputs": [],
   "source": [
    "df_bills_by_species['bill_length_mm']"
   ]
  },
  {
   "cell_type": "markdown",
   "id": "9d32e843-5eb3-4951-82f2-061c917d221e",
   "metadata": {},
   "source": [
    "and again, with only the mean of that column"
   ]
  },
  {
   "cell_type": "code",
   "execution_count": null,
   "id": "c7ff637b-6d3a-4df5-9abb-cb1f59a6a077",
   "metadata": {},
   "outputs": [],
   "source": [
    "df_bills_by_species['bill_length_mm']['mean']"
   ]
  },
  {
   "cell_type": "markdown",
   "id": "8a200af1-e358-4188-8d4c-0be34db0ea31",
   "metadata": {},
   "source": [
    "What about bill dimensions by species and location?"
   ]
  },
  {
   "cell_type": "code",
   "execution_count": null,
   "id": "18b4ad0e-9651-4de8-a907-6aa5a412bc0f",
   "metadata": {},
   "outputs": [],
   "source": [
    "df.groupby(['species', 'island']).aggregate({\n",
    "    'bill_length_mm' : ['min', 'mean', 'max'],\n",
    "    'bill_depth_mm' : ['min', 'mean', 'max']\n",
    "})"
   ]
  },
  {
   "cell_type": "code",
   "execution_count": null,
   "id": "d72fe720-61ee-4913-bd1c-64c447f87380",
   "metadata": {},
   "outputs": [],
   "source": [
    "df.groupby(['species', 'island'])[['bill_length_mm', 'bill_depth_mm']].mean()"
   ]
  },
  {
   "cell_type": "markdown",
   "id": "c2ff88c5-6bb9-4839-9485-7d7a05cf2920",
   "metadata": {},
   "source": [
    "### ✍ Activity 3: find the min, mean, median, average and range of each bill dimension, per sex"
   ]
  },
  {
   "cell_type": "code",
   "execution_count": null,
   "id": "68fd1ec0-6fbc-4304-85eb-849150236ba9",
   "metadata": {},
   "outputs": [],
   "source": [
    "# Write your code here"
   ]
  }
 ],
 "metadata": {
  "kernelspec": {
   "display_name": "Python 3 (ipykernel)",
   "language": "python",
   "name": "python3"
  },
  "language_info": {
   "codemirror_mode": {
    "name": "ipython",
    "version": 3
   },
   "file_extension": ".py",
   "mimetype": "text/x-python",
   "name": "python",
   "nbconvert_exporter": "python",
   "pygments_lexer": "ipython3",
   "version": "3.10.4"
  }
 },
 "nbformat": 4,
 "nbformat_minor": 5
}
