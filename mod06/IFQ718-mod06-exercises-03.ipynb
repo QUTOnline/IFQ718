{
 "cells": [
  {
   "cell_type": "markdown",
   "id": "6b9a8c80-3ff6-44c1-8ac5-494fb2194abc",
   "metadata": {},
   "source": [
    "# 🛠 IFQ718 Module 06 Exercises 03"
   ]
  },
  {
   "cell_type": "markdown",
   "id": "785d9e23-97a4-4243-be73-54340a97a430",
   "metadata": {
    "tags": []
   },
   "source": [
    "## 🔍  Context: Working with missing data\n",
    "\n",
    "This notebook will briefly cover the mechanisms of identifying and filling missing fields/data. In IFQ719, you will learn how to properly fill missing data.\n",
    "\n",
    "Let's use fuel prices as an example.\n",
    "\n",
    "Perhaps you have hourly data for all the fuel stations in Brisbane, but there are some missing points at random intervals. \n",
    "* What caused them to be missing?\n",
    "   * Perhaps connectivity to the server\n",
    "   * Perhaps the fuel station had to close for an unexpected reason so they were not trading, hence no report\n",
    "* How to fill the missing points?\n",
    "   * Would a fuel price of zero make sense?\n",
    "   * Use the average from the prices either side?\n",
    "   * Reuse the previous value?\n",
    "   \n",
    "This last question is particularly important but it will be answered in IFQ719. Here, we will explore the Pandas-based mechanisms for actually filling the value."
   ]
  },
  {
   "cell_type": "code",
   "execution_count": null,
   "id": "31d23866-88a7-4d0e-aa75-12ed18dad1ad",
   "metadata": {},
   "outputs": [],
   "source": [
    "import pandas as pd"
   ]
  },
  {
   "cell_type": "markdown",
   "id": "87cfa33c-9b72-40c1-84ff-ca88393deb9c",
   "metadata": {},
   "source": [
    "### Specifying a field as `NaN` \n",
    "\n",
    "**For a new DataFrame**\n",
    "\n",
    "Using the native `None` object will indicate to Pandas that a field is unknown:"
   ]
  },
  {
   "cell_type": "code",
   "execution_count": null,
   "id": "5868f43e-ac56-4c25-bc86-9796b1edfee0",
   "metadata": {},
   "outputs": [],
   "source": [
    "data = {\n",
    "    'DayOfWeek' : [f'{d}day' for d in ['Sun', 'Mon', 'Tues', 'Wednes', 'Thurs', 'Fri', 'Sat']],\n",
    "    'Distance' : [12.5, 13.0, None, None, 13.2, 11.0, 4.3]\n",
    "}\n",
    "df = pd.DataFrame(data)"
   ]
  },
  {
   "cell_type": "code",
   "execution_count": null,
   "id": "cf8880c3-fad4-441d-9b23-57f26a5b3908",
   "metadata": {},
   "outputs": [],
   "source": [
    "df"
   ]
  },
  {
   "cell_type": "markdown",
   "id": "5a7e3209-026d-4b5b-ba0d-74e8d8125380",
   "metadata": {},
   "source": [
    "**For an existing DataFrame**"
   ]
  },
  {
   "cell_type": "code",
   "execution_count": null,
   "id": "dbd1fc52-ab36-4fd0-b4ba-f22ad7d71a6c",
   "metadata": {},
   "outputs": [],
   "source": [
    "# Set distance of Monday to NaN\n",
    "df.at[1,'Distance'] = None"
   ]
  },
  {
   "cell_type": "code",
   "execution_count": null,
   "id": "354ce3d1-24da-43d7-9267-fa7ee0d81772",
   "metadata": {},
   "outputs": [],
   "source": [
    "df"
   ]
  },
  {
   "cell_type": "markdown",
   "id": "b2f14f69-d82a-4bf4-945e-33fb85a3f23f",
   "metadata": {},
   "source": [
    "### Inspecting for `NaN`'s"
   ]
  },
  {
   "cell_type": "code",
   "execution_count": null,
   "id": "3ff47374-4967-400a-9a15-79eed13ee594",
   "metadata": {},
   "outputs": [],
   "source": [
    "df = pd.read_csv('data/penguins.csv')"
   ]
  },
  {
   "cell_type": "code",
   "execution_count": null,
   "id": "393e0026-f940-4c08-8a30-9233dc67f1a3",
   "metadata": {},
   "outputs": [],
   "source": [
    "# the entire DataFrame\n",
    "df"
   ]
  },
  {
   "cell_type": "markdown",
   "id": "2827ca8d-4cfc-478b-a210-3252afa093c7",
   "metadata": {},
   "source": [
    "**How to find rows that contain `NaN`**"
   ]
  },
  {
   "cell_type": "code",
   "execution_count": null,
   "id": "f406526e-7261-4cfb-b6b0-b06bf2716a72",
   "metadata": {},
   "outputs": [],
   "source": [
    "df[df.isna().any(axis=1)]"
   ]
  },
  {
   "cell_type": "code",
   "execution_count": null,
   "id": "f4789465-a1b1-4e6e-b6f2-f9ddf5acac50",
   "metadata": {},
   "outputs": [],
   "source": [
    "df.iloc[3]"
   ]
  },
  {
   "cell_type": "markdown",
   "id": "abfb7e17-2b6d-4558-aa42-34c88e44ec2f",
   "metadata": {},
   "source": [
    "### Deleting missing data"
   ]
  },
  {
   "cell_type": "code",
   "execution_count": null,
   "id": "0b49dac9-ff06-44db-8445-003113422fb0",
   "metadata": {},
   "outputs": [],
   "source": [
    "df = df.dropna()"
   ]
  },
  {
   "cell_type": "code",
   "execution_count": null,
   "id": "93a7fcf7-decf-4706-b603-6b67455104fe",
   "metadata": {},
   "outputs": [],
   "source": [
    "df[df.isna().any(axis=1)]"
   ]
  },
  {
   "cell_type": "markdown",
   "id": "a677f6f8-2242-430f-b668-fbc0d7bfe7fc",
   "metadata": {},
   "source": [
    "### Calculations with missing data\n",
    "\n",
    "When summing data containing `NaN`, any `NaN` is treated as zero. Therefore, if all the items in the sum are `NaN`, then the result is zero."
   ]
  },
  {
   "cell_type": "code",
   "execution_count": null,
   "id": "31d27cad-8a67-4c18-82e5-bbbc313889f7",
   "metadata": {},
   "outputs": [],
   "source": [
    "_df = pd.DataFrame({'columnA' : [3, 2, None], 'columnB' : [None] * 3})\n",
    "print(_df)\n",
    "print('\\n---\\n')\n",
    "print(_df.sum())"
   ]
  },
  {
   "cell_type": "markdown",
   "id": "9c348227-ad9c-4235-aef7-3e63650c9098",
   "metadata": {},
   "source": [
    "When calculating the product of data containing `NaN`, any `NaN` is treated as one."
   ]
  },
  {
   "cell_type": "code",
   "execution_count": null,
   "id": "94ddd652-bf68-4b39-8c2b-c8eeb6a00cd1",
   "metadata": {},
   "outputs": [],
   "source": [
    "_df = pd.DataFrame({'columnA' : [3, 2, None], 'columnB' : [None] * 3})\n",
    "print(_df)\n",
    "print('\\n---\\n')\n",
    "print(_df.product())"
   ]
  },
  {
   "cell_type": "markdown",
   "id": "c09ebc57-bc34-4eba-bf48-b849deaf7dd8",
   "metadata": {},
   "source": [
    "### Filling missing data"
   ]
  },
  {
   "cell_type": "markdown",
   "id": "7a1d9634-483d-42cf-8b2a-2f901db960e7",
   "metadata": {},
   "source": [
    "The `.fillna()` function will replace `NaN` with the value you specify:"
   ]
  },
  {
   "cell_type": "code",
   "execution_count": null,
   "id": "76daaa96-49d6-4112-92b3-b272b485fd4f",
   "metadata": {},
   "outputs": [],
   "source": [
    "_df.fillna('this was empty')"
   ]
  },
  {
   "cell_type": "markdown",
   "id": "d7650af2-fbeb-4ca5-8458-a3d73601334e",
   "metadata": {},
   "source": [
    "You can also specify the `method` parameter, as:\n",
    "   * `pad` or `ffill` to propagate the last valid observation forward to the next valid\n",
    "   * `backfill` or `bfill` to use the next valid observation to fill th egap"
   ]
  },
  {
   "cell_type": "code",
   "execution_count": null,
   "id": "aba30294-eb37-4187-9156-8f68ae4436e5",
   "metadata": {},
   "outputs": [],
   "source": [
    "_df = pd.DataFrame({'columnA' : [3, 2, None], 'columnB' : [None] * 3})"
   ]
  },
  {
   "cell_type": "code",
   "execution_count": null,
   "id": "4388c976-e0c2-4caa-9408-a06d3bbc862e",
   "metadata": {},
   "outputs": [],
   "source": [
    "_df.fillna(method='ffill')"
   ]
  },
  {
   "cell_type": "markdown",
   "id": "550945fe-335f-40d2-878f-227c4ee974be",
   "metadata": {},
   "source": [
    "### Replacing alternative values known to represent `NaN`\n",
    "\n",
    "Fuel prices... perhaps you know that fuel stations report a price of 999.999c when there is an error. \n",
    "\n",
    "In Pandas, there exists the `.replace()` function that can allow you to properly replace this erroneous value with the proper representation of `NaN`."
   ]
  },
  {
   "cell_type": "code",
   "execution_count": null,
   "id": "3a31e44f-f9c0-4c34-848b-d6cb809c8a56",
   "metadata": {},
   "outputs": [],
   "source": [
    "pd.Series(list(range(10,15)), index=['a', 'b', 'c', 'd', 'e']).replace(13, 10)"
   ]
  },
  {
   "cell_type": "markdown",
   "id": "2933ad17-0734-4f3b-a568-9e2d7af7ac3f",
   "metadata": {},
   "source": [
    "### ✍ Activity 1: identify records in the taxi dataset that have no associated payment"
   ]
  },
  {
   "cell_type": "code",
   "execution_count": null,
   "id": "3abc46b0-4d58-4024-a361-05807be384f7",
   "metadata": {},
   "outputs": [],
   "source": [
    "df = pd.read_csv('data/taxis.csv')"
   ]
  },
  {
   "cell_type": "code",
   "execution_count": null,
   "id": "c2eccccb-7df8-4df4-ba4c-40ea9f641504",
   "metadata": {},
   "outputs": [],
   "source": [
    "df"
   ]
  },
  {
   "cell_type": "code",
   "execution_count": null,
   "id": "fd908aae-2ef4-41a1-9186-14f6cad9a7c1",
   "metadata": {},
   "outputs": [],
   "source": [
    "# Write your code here"
   ]
  },
  {
   "cell_type": "markdown",
   "id": "6e40ddbc-3fdb-4691-afab-4f4a1e110899",
   "metadata": {},
   "source": [
    "### ✍ Activity 2: drop records where this is no payment and no passengers"
   ]
  },
  {
   "cell_type": "code",
   "execution_count": null,
   "id": "18cb8d65-0e6b-4dfd-8cfb-0381343232a2",
   "metadata": {},
   "outputs": [],
   "source": [
    "# Write your code here"
   ]
  },
  {
   "cell_type": "markdown",
   "id": "f7b2806f-82aa-4500-97fa-8836ccae8914",
   "metadata": {},
   "source": [
    "### ✍ Activity 3: discuss, is a toll of $0.00 better than a toll of `NaN`?"
   ]
  },
  {
   "cell_type": "raw",
   "id": "10713c65-e3b8-4ac2-af19-194f34bc8675",
   "metadata": {},
   "source": [
    "Write your reponse here."
   ]
  },
  {
   "cell_type": "markdown",
   "id": "04e08d79-9501-4395-acec-6018f64909f5",
   "metadata": {},
   "source": [
    "### ✍ Activity 4: replace `NaN`'s\n",
    "\n",
    "Replace `NaN` in the pickup/dropoff zone/borough columns with `Unknown`"
   ]
  },
  {
   "cell_type": "code",
   "execution_count": null,
   "id": "0744dd71-96af-4158-8994-b5cacb0f4620",
   "metadata": {},
   "outputs": [],
   "source": [
    "# Write your code here"
   ]
  }
 ],
 "metadata": {
  "kernelspec": {
   "display_name": "Python 3 (ipykernel)",
   "language": "python",
   "name": "python3"
  },
  "language_info": {
   "codemirror_mode": {
    "name": "ipython",
    "version": 3
   },
   "file_extension": ".py",
   "mimetype": "text/x-python",
   "name": "python",
   "nbconvert_exporter": "python",
   "pygments_lexer": "ipython3",
   "version": "3.10.4"
  }
 },
 "nbformat": 4,
 "nbformat_minor": 5
}
