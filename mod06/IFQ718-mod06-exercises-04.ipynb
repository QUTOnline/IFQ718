{
 "cells": [
  {
   "cell_type": "markdown",
   "id": "6b9a8c80-3ff6-44c1-8ac5-494fb2194abc",
   "metadata": {},
   "source": [
    "# 🛠 IFQ718 Module 06 Exercises 04\n",
    "\n",
    "## 🔍  Context: Indexing\n",
    "\n",
    "The *index* of a DataFrame specifies an identity for each record in the frame. It allows very quickly discover of records.\n",
    "\n",
    "The index is not considered as data of the frame but rather, metadata."
   ]
  },
  {
   "cell_type": "code",
   "execution_count": null,
   "id": "31d23866-88a7-4d0e-aa75-12ed18dad1ad",
   "metadata": {},
   "outputs": [],
   "source": [
    "import pandas as pd"
   ]
  },
  {
   "cell_type": "code",
   "execution_count": null,
   "id": "bc004ff0-7200-4082-8e11-b8f3793e2cf1",
   "metadata": {},
   "outputs": [],
   "source": [
    "df = pd.read_csv('https://raw.githubusercontent.com/mwaskom/seaborn-data/master/penguins.csv')"
   ]
  },
  {
   "cell_type": "markdown",
   "id": "34a33ca7-e88d-4c5c-a018-925e1c397e07",
   "metadata": {},
   "source": [
    "### The default index"
   ]
  },
  {
   "cell_type": "code",
   "execution_count": null,
   "id": "a373119f-807b-48ff-b115-1dd4bdb7cd20",
   "metadata": {},
   "outputs": [],
   "source": [
    "df"
   ]
  },
  {
   "cell_type": "markdown",
   "id": "14f674e2-65e4-4641-9139-f20370036a98",
   "metadata": {},
   "source": [
    "When the `df` is printed, notice there is an unlabeled column to the left of `species`, with numbers from zero to `df.shape[0] - 1`."
   ]
  },
  {
   "cell_type": "code",
   "execution_count": null,
   "id": "a0451d97-284e-462d-83ac-f5217bd096c7",
   "metadata": {},
   "outputs": [],
   "source": [
    "df.shape[0] - 1"
   ]
  },
  {
   "cell_type": "markdown",
   "id": "df3485cc-82d6-478d-bf86-192d0994e51b",
   "metadata": {},
   "source": [
    "This column is an unlabeled *index* for the DataFrame - the one that was created by default.\n",
    "\n",
    "Let's view the index of `df`:"
   ]
  },
  {
   "cell_type": "code",
   "execution_count": null,
   "id": "33551480-5b29-4a1c-9cb3-9dfaa7f32780",
   "metadata": {},
   "outputs": [],
   "source": [
    "df.index"
   ]
  },
  {
   "cell_type": "markdown",
   "id": "5ffc9833-7b71-408f-8476-781ee0f70844",
   "metadata": {},
   "source": [
    "Now, name it:"
   ]
  },
  {
   "cell_type": "code",
   "execution_count": null,
   "id": "78229533-d6a6-44f8-bd53-5b75e7b98d38",
   "metadata": {},
   "outputs": [],
   "source": [
    "df.index.name = 'idx'"
   ]
  },
  {
   "cell_type": "code",
   "execution_count": null,
   "id": "48cf2dbc-15fd-4a62-9b83-ca331aab589e",
   "metadata": {},
   "outputs": [],
   "source": [
    "df"
   ]
  },
  {
   "cell_type": "markdown",
   "id": "fe45c911-aa40-4e6f-a69e-6ee38c05e440",
   "metadata": {},
   "source": [
    "And view its type:"
   ]
  },
  {
   "cell_type": "code",
   "execution_count": null,
   "id": "43413aa9-2bf4-4ab2-8a30-0864e2eaa05f",
   "metadata": {},
   "outputs": [],
   "source": [
    "df.index.dtype"
   ]
  },
  {
   "cell_type": "markdown",
   "id": "faf62358-909f-4987-a224-8ec23c45767c",
   "metadata": {},
   "source": [
    "### Identifying rows by index, after filtering"
   ]
  },
  {
   "cell_type": "code",
   "execution_count": null,
   "id": "b439df73-edf9-4f56-bea0-91270d037db3",
   "metadata": {},
   "outputs": [],
   "source": [
    "df[df['island'] == 'Dream']"
   ]
  },
  {
   "cell_type": "markdown",
   "id": "91bec5e0-4ae9-46b5-8c09-cb0234aba690",
   "metadata": {},
   "source": [
    "There are 124 rows where island is Dream, but the index is as large as 219.\n",
    "\n",
    "The index has remained the same, even after filtering. This allows us to identify particular records at any time."
   ]
  },
  {
   "cell_type": "code",
   "execution_count": null,
   "id": "32d458cf-f579-4bf8-a746-e8aa77c10e69",
   "metadata": {},
   "outputs": [],
   "source": [
    "df.iloc[219]"
   ]
  },
  {
   "cell_type": "code",
   "execution_count": null,
   "id": "bb253e0a-ca89-4500-8d50-6bfc767e0f6d",
   "metadata": {},
   "outputs": [],
   "source": [
    "df.iloc[215:219]"
   ]
  },
  {
   "cell_type": "code",
   "execution_count": null,
   "id": "e40b07b5-e723-4c1c-97c5-66ba09cd35f1",
   "metadata": {},
   "outputs": [],
   "source": [
    "df.iloc[215:219, 0:3]"
   ]
  },
  {
   "cell_type": "markdown",
   "id": "6118bd0f-0a0e-4ae5-8273-5825203d2702",
   "metadata": {},
   "source": [
    "### Selecting an index\n",
    "\n",
    "The index can be chosen, based on existing columns"
   ]
  },
  {
   "cell_type": "code",
   "execution_count": null,
   "id": "fbf6b1aa-5d24-4a33-8263-5a08eae2f0df",
   "metadata": {},
   "outputs": [],
   "source": [
    "df.set_index('species', inplace=True)"
   ]
  },
  {
   "cell_type": "code",
   "execution_count": null,
   "id": "7542f96a-bf05-4803-b10f-5554826fdcd7",
   "metadata": {},
   "outputs": [],
   "source": [
    "df"
   ]
  },
  {
   "cell_type": "markdown",
   "id": "2188e627-1bd9-4a6d-b3d9-c5425917b728",
   "metadata": {},
   "source": [
    "Notice that the name of the index was reused from the column that we selected"
   ]
  },
  {
   "cell_type": "code",
   "execution_count": null,
   "id": "8dadd8a0-0884-494a-8b8c-bd60963a305b",
   "metadata": {},
   "outputs": [],
   "source": [
    "df.index"
   ]
  },
  {
   "cell_type": "markdown",
   "id": "c0de9a9b-6bf3-4d89-baa6-15223b455d30",
   "metadata": {},
   "source": [
    "Now we can select rows using `.loc` and the new index "
   ]
  },
  {
   "cell_type": "code",
   "execution_count": null,
   "id": "471f2bc7-486b-4a53-8bf9-fc00ea6e64f0",
   "metadata": {},
   "outputs": [],
   "source": [
    "df.loc['Adelie']"
   ]
  },
  {
   "cell_type": "markdown",
   "id": "0ce8bd14-a625-44e2-abc8-278425fd30df",
   "metadata": {},
   "source": [
    "And add another column to the index"
   ]
  },
  {
   "cell_type": "code",
   "execution_count": null,
   "id": "6b718073-711e-4963-8d78-c7eb1c1d76c5",
   "metadata": {},
   "outputs": [],
   "source": [
    "df.set_index('island', append=True, inplace=True)"
   ]
  },
  {
   "cell_type": "code",
   "execution_count": null,
   "id": "188876ec-437b-40ef-b043-38415f08386d",
   "metadata": {},
   "outputs": [],
   "source": [
    "# Observe the new multi-index\n",
    "df"
   ]
  },
  {
   "cell_type": "code",
   "execution_count": null,
   "id": "2a08ae6d-36c0-4a95-91a5-a61b71718596",
   "metadata": {},
   "outputs": [],
   "source": [
    "# Find Adelie penguins on the island Torgersen\n",
    "df.loc[('Adelie', 'Torgersen'), :]"
   ]
  },
  {
   "cell_type": "code",
   "execution_count": null,
   "id": "4effd4ca-f243-4e80-9f02-e5fd4cef845e",
   "metadata": {},
   "outputs": [],
   "source": [
    "# Find Adelie penguins on any island\n",
    "df.loc[('Adelie', ), :]"
   ]
  },
  {
   "cell_type": "code",
   "execution_count": null,
   "id": "20e769cf-b701-4f3e-9eff-b3d8388438b4",
   "metadata": {},
   "outputs": [],
   "source": [
    "# Find Adelie penguins on the islands Torgersen and Dream\n",
    "df.loc[('Adelie', ['Torgersen', 'Dream']), :]"
   ]
  },
  {
   "cell_type": "markdown",
   "id": "87b19de3-5915-48d6-b8e6-55cca0767027",
   "metadata": {},
   "source": [
    "You may have realised that having a unique index value for each record is useful."
   ]
  },
  {
   "cell_type": "markdown",
   "id": "e5083bc3-cc66-4f4d-b74e-0fc889ffa7b1",
   "metadata": {},
   "source": [
    "We can also reset the index:"
   ]
  },
  {
   "cell_type": "code",
   "execution_count": null,
   "id": "2f29d244-dc95-4fc8-a840-d4cbda7b0a02",
   "metadata": {},
   "outputs": [],
   "source": [
    "df.reset_index(inplace=True)"
   ]
  },
  {
   "cell_type": "code",
   "execution_count": null,
   "id": "58c4627b-dd79-4e83-98db-3a33df94076a",
   "metadata": {},
   "outputs": [],
   "source": [
    "df"
   ]
  },
  {
   "cell_type": "code",
   "execution_count": null,
   "id": "9602a665-cbc5-417b-ac62-532930e9c9a6",
   "metadata": {},
   "outputs": [],
   "source": [
    "df.index"
   ]
  },
  {
   "cell_type": "markdown",
   "id": "f567ea96-1e31-4a85-aaca-303167d04b3f",
   "metadata": {},
   "source": [
    "### ✍ Activity 1: set an appropriate index using the existing columns\n",
    "\n",
    "The activities will be using the miles per gallon (MPG) dataset."
   ]
  },
  {
   "cell_type": "code",
   "execution_count": null,
   "id": "a949c119-aca5-42f5-a7b0-04ee759bda71",
   "metadata": {},
   "outputs": [],
   "source": [
    "df_mpg = pd.read_csv('https://raw.githubusercontent.com/mwaskom/seaborn-data/master/mpg.csv')"
   ]
  },
  {
   "cell_type": "code",
   "execution_count": null,
   "id": "3a6a41a7-e9ce-4bd1-a022-1e82b9368318",
   "metadata": {},
   "outputs": [],
   "source": [
    "df_mpg"
   ]
  },
  {
   "cell_type": "code",
   "execution_count": null,
   "id": "9e709495-4979-480c-8a2f-1244f304735f",
   "metadata": {},
   "outputs": [],
   "source": [
    "# Write your code here"
   ]
  },
  {
   "cell_type": "markdown",
   "id": "c7cae7ff-5ae3-4a5c-b77e-20cd17aec03e",
   "metadata": {},
   "source": [
    "### ✍ Activity 2: select records using the values of your index"
   ]
  },
  {
   "cell_type": "code",
   "execution_count": null,
   "id": "3c8172ab-14d0-4131-99e0-730a1f000830",
   "metadata": {},
   "outputs": [],
   "source": [
    "# Write your code here"
   ]
  },
  {
   "cell_type": "markdown",
   "id": "ea2f65c1-f823-4576-bd18-fc9bff34eadc",
   "metadata": {},
   "source": [
    "### ✍ Activity 3: select records using `.iloc`"
   ]
  },
  {
   "cell_type": "code",
   "execution_count": null,
   "id": "150f304c-0969-4811-8a14-910386301f88",
   "metadata": {},
   "outputs": [],
   "source": [
    "# Write your code here"
   ]
  },
  {
   "cell_type": "markdown",
   "id": "d918e61a-507d-45af-882a-573b19eecd2a",
   "metadata": {},
   "source": [
    "### ✍ Activity 4: make your index multi-leveled"
   ]
  },
  {
   "cell_type": "code",
   "execution_count": null,
   "id": "f71f11ee-6f98-414b-a11d-c9bd465ee5e9",
   "metadata": {},
   "outputs": [],
   "source": [
    "# Write your code here"
   ]
  },
  {
   "cell_type": "markdown",
   "id": "b1071426-c7f2-4a35-84cc-a56e37bdaace",
   "metadata": {},
   "source": [
    "### ✍ Activity 5: select records using the labels of your index"
   ]
  },
  {
   "cell_type": "code",
   "execution_count": null,
   "id": "5b282c41-b33f-421a-bbf0-ff1faa5ee6f2",
   "metadata": {},
   "outputs": [],
   "source": [
    "# Write your code here"
   ]
  }
 ],
 "metadata": {
  "kernelspec": {
   "display_name": "Python 3 (ipykernel)",
   "language": "python",
   "name": "python3"
  },
  "language_info": {
   "codemirror_mode": {
    "name": "ipython",
    "version": 3
   },
   "file_extension": ".py",
   "mimetype": "text/x-python",
   "name": "python",
   "nbconvert_exporter": "python",
   "pygments_lexer": "ipython3",
   "version": "3.10.4"
  }
 },
 "nbformat": 4,
 "nbformat_minor": 5
}
