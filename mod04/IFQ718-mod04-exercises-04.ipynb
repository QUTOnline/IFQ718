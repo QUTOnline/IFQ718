{
 "cells": [
  {
   "cell_type": "markdown",
   "id": "d681e5db-52ee-44be-8e48-1f147dc4b7ee",
   "metadata": {
    "tags": []
   },
   "source": [
    "# 🛠 IFQ718 Module 04 Exercises-04\n",
    "\n",
    "## 🔍  Context: Interacting with the file system\n",
    "\n",
    "There are a few more modules from the Python Standard Library that we would like you to be introduced to.\n",
    "\n",
    "In this notebook, they are `os.path` and `glob`, for interacting with the operating system and filesystem.\n",
    "\n",
    "\n",
    "**An assumption: that you still have `books.csv` and `afl-2022.json` from the previous notebook**"
   ]
  },
  {
   "cell_type": "markdown",
   "id": "ed07215a-9133-4b27-a31e-23a7595413c1",
   "metadata": {},
   "source": [
    "### First, the `os.path` module\n",
    "\n",
    "`path` is a submodule of `os`. It is for manipulating file paths.\n",
    "\n",
    "> Since different operating systems have different path name conventions, there are several versions of this module in the standard library. The os.path module is always the path module suitable for the operating system Python is running on, and therefore usable for local paths. \n",
    ">\n",
    "> Source: [Python reference manual](https://docs.python.org/3/library/os.path.html#module-os.path)\n",
    "    \n",
    "    "
   ]
  },
  {
   "cell_type": "code",
   "execution_count": null,
   "id": "4e4d621e-2b18-466b-858e-f763bc948fa4",
   "metadata": {},
   "outputs": [],
   "source": [
    "import os"
   ]
  },
  {
   "cell_type": "markdown",
   "id": "b1ad4bf8-6371-4958-8878-06e31d21a447",
   "metadata": {},
   "source": [
    "**Relative versus absolute paths**\n",
    "\n",
    "* An **absolute path** is one that specifies where the file or directory is from the *root* of the filesystem. \n",
    "   * That is, on \n",
    "      * Windows, the root may be `C:\\` or `D:\\`\n",
    "      * Mac or Linux, it is `/`\n",
    "      \n",
    "* A **relative path** is one that does not start from the *root* of the filesystem, but instead, the current working directory.\n",
    "   * For example, on\n",
    "      * Windows, a relative path may look like `My Documents\\Resume.docx`, assuming you are within the directory `C:\\Users\\Admin` already\n",
    "      * Mac or Linux, a relative path may look like `documents/resume.docx`, assuming you are within the directory `/home/admin` already\n",
    "  * The use of periods `.` can change the directory context\n",
    "      * `.` means the current working directory (essentially does nothing)\n",
    "      * `..` means the parent of the current directory"
   ]
  },
  {
   "cell_type": "markdown",
   "id": "b6c1de98-c92e-4a76-bd29-7e9a98badd56",
   "metadata": {},
   "source": [
    "**Using `os.path.abspath(path)` to get the absolute path**"
   ]
  },
  {
   "cell_type": "code",
   "execution_count": null,
   "id": "a94f7e49-741b-4ad1-a9bc-7918234cee58",
   "metadata": {},
   "outputs": [],
   "source": [
    "os.path.abspath('.')"
   ]
  },
  {
   "cell_type": "code",
   "execution_count": null,
   "id": "ec80a657-e2d9-48e0-8b98-97b432bd90de",
   "metadata": {},
   "outputs": [],
   "source": [
    "os.path.abspath('..')"
   ]
  },
  {
   "cell_type": "markdown",
   "id": "be1d9f12-5df1-4601-b493-9e31a2fc3cb1",
   "metadata": {},
   "source": [
    "**Joining paths**\n",
    "\n",
    "Using the in-built join function is important. Did you notice earlier that Windows versus Mac/Linux used different path separators (i.e., `/` vs. `\\`)?"
   ]
  },
  {
   "cell_type": "code",
   "execution_count": null,
   "id": "2fedc110-c39d-4ee0-a346-354df277aa83",
   "metadata": {},
   "outputs": [],
   "source": [
    "print(os.path.abspath(os.path.join('..', '..')))"
   ]
  },
  {
   "cell_type": "code",
   "execution_count": null,
   "id": "fa412c66-c5bb-42a4-a417-6f243e54e4e7",
   "metadata": {},
   "outputs": [],
   "source": [
    "cwd = os.path.abspath('.')\n",
    "while True:\n",
    "    print(f\"{'Currently at: ': <20}{cwd}\")\n",
    "\n",
    "    parent = os.path.abspath(os.path.join(cwd, '..'))\n",
    "    print(f\"{'Parent is: ': <20}{parent}\")\n",
    "    print('\\n')\n",
    "\n",
    "    if cwd == parent:\n",
    "        break\n",
    "\n",
    "    cwd = parent\n",
    "    "
   ]
  },
  {
   "cell_type": "markdown",
   "id": "fb8c99e3-0896-4a56-9b48-8f0b299219b1",
   "metadata": {},
   "source": [
    "**Checking a file exists**"
   ]
  },
  {
   "cell_type": "code",
   "execution_count": null,
   "id": "5e87aeb7-36dc-4575-ad9d-810856d2ecac",
   "metadata": {},
   "outputs": [],
   "source": [
    "for fp in ['data/books.csv', 'data/afl-2022.json']:\n",
    "    if not os.path.exists(fp):\n",
    "        print(f'Hey! Please go back to notebook 3 for this module and download the file {fp}')\n",
    "    else:\n",
    "        print(f'Nice... you still have the file {fp}')"
   ]
  },
  {
   "cell_type": "markdown",
   "id": "e3a1fe44-4025-45e6-9a9c-9bb5348aabd2",
   "metadata": {},
   "source": [
    "**Is the path a file or directory?**"
   ]
  },
  {
   "cell_type": "code",
   "execution_count": null,
   "id": "8faa2f23-8272-4a87-b5a9-d900dea8a5e1",
   "metadata": {},
   "outputs": [],
   "source": [
    "for fp in ['data/books.csv', 'data/afl-2022.json']:\n",
    "    if os.path.isfile(fp):\n",
    "        print(f'{fp} is a file')    "
   ]
  },
  {
   "cell_type": "code",
   "execution_count": null,
   "id": "0fd0a69b-f5db-491c-a129-3845a13e518b",
   "metadata": {},
   "outputs": [],
   "source": [
    "fp = os.path.join(os.path.abspath('.'), 'books.csv')\n",
    "\n",
    "while True:\n",
    "    print(fp)\n",
    "\n",
    "    if os.path.isfile(fp):\n",
    "        print(f'... is a file.\\n')\n",
    "    elif os.path.isdir(fp):\n",
    "        print(f'... is a dir.\\n')\n",
    "        \n",
    "    parent = os.path.abspath(os.path.join(fp, '..'))\n",
    "    \n",
    "    if fp == parent:\n",
    "        break\n",
    "\n",
    "    fp = parent"
   ]
  },
  {
   "cell_type": "markdown",
   "id": "2a5c3145-8b44-45e9-8ea6-5c61dc00d223",
   "metadata": {},
   "source": [
    "**Get the final file/directory name from a path**"
   ]
  },
  {
   "cell_type": "code",
   "execution_count": null,
   "id": "8dbb3166-7e1c-4fba-ab1c-2ab1d1ec4804",
   "metadata": {},
   "outputs": [],
   "source": [
    "books = os.path.abspath('data/books.csv')\n",
    "print(books)\n",
    "print(os.path.basename(books))"
   ]
  },
  {
   "cell_type": "markdown",
   "id": "daa33f34-d7ce-4a10-ac20-d6af21b51fc5",
   "metadata": {},
   "source": [
    "### Second, the `glob` module\n",
    "\n",
    "> The glob module finds all the pathnames matching a specified pattern according to the rules used by the Unix shell\n",
    ">\n",
    "> Source: [Python reference manual](https://docs.python.org/3/library/glob.html)\n"
   ]
  },
  {
   "cell_type": "code",
   "execution_count": null,
   "id": "a0ac52f5-2412-4035-9e82-cbc5c0a40d56",
   "metadata": {},
   "outputs": [],
   "source": [
    "from glob import glob"
   ]
  },
  {
   "cell_type": "markdown",
   "id": "b105b2cf-b252-4b79-ac3a-148834e95eb9",
   "metadata": {},
   "source": [
    "**Print the contents of the current working directory**"
   ]
  },
  {
   "cell_type": "code",
   "execution_count": null,
   "id": "ec5aee68-5f83-405b-b833-865f822b1b0e",
   "metadata": {},
   "outputs": [],
   "source": [
    "for fp in glob(\"*\"):\n",
    "    print(fp)"
   ]
  },
  {
   "cell_type": "markdown",
   "id": "671bb326-56fc-4b14-9bbf-cba660ebbe68",
   "metadata": {},
   "source": [
    "**Only print the Jupyter Notebook files**"
   ]
  },
  {
   "cell_type": "code",
   "execution_count": null,
   "id": "ed8b0b83-483e-435d-be2d-aed583149bda",
   "metadata": {},
   "outputs": [],
   "source": [
    "for fp in glob('*.ipynb'):\n",
    "    print(fp)"
   ]
  },
  {
   "cell_type": "markdown",
   "id": "35771e19-1ea3-4279-9efa-00ba961d075f",
   "metadata": {},
   "source": [
    "**Only print .ipynb files starting with `I`**"
   ]
  },
  {
   "cell_type": "code",
   "execution_count": null,
   "id": "7ff65efb-c58e-4b70-bbf8-b317677a5da1",
   "metadata": {},
   "outputs": [],
   "source": [
    "for fp in glob('I*.ipynb'):\n",
    "    print(fp)"
   ]
  },
  {
   "cell_type": "markdown",
   "id": "ed9b45ae-583e-4c40-afb3-a2ef65438d8f",
   "metadata": {},
   "source": [
    "**Print the contents of the cwd's parent**"
   ]
  },
  {
   "cell_type": "code",
   "execution_count": null,
   "id": "9f53535a-9e43-4ab3-bd56-0612fef0e4de",
   "metadata": {},
   "outputs": [],
   "source": [
    "cwd = os.path.join('..', '*')\n",
    "for fp in glob(cwd):\n",
    "    print(f'{fp: <30} i.e., {os.path.abspath(fp)}')"
   ]
  },
  {
   "cell_type": "markdown",
   "id": "a1a03ee0-8f3e-47c8-9999-7797c660d0e1",
   "metadata": {},
   "source": [
    "### ✍ Activity 1: Reverse the files\n",
    "\n",
    "The cell below generates bulk scam letters. Study the code carefully. It uses many features of Python that we have taught you. There may be one or two features that are new but should be reasonably straight-forward to understand."
   ]
  },
  {
   "cell_type": "code",
   "execution_count": null,
   "id": "e743d531-c7a4-4754-b0b0-3a585bb4c2ab",
   "metadata": {},
   "outputs": [],
   "source": [
    "# Do not change this cell. Make sure you run it.\n",
    "\n",
    "import random, csv\n",
    "\n",
    "# Make a directory to write the files\n",
    "dir_name = 'exercises-04-activity-01-files'\n",
    "if not os.path.exists(dir_name):\n",
    "    os.mkdir(dir_name)\n",
    "else:\n",
    "    # empty the directory if it exists\n",
    "    for fp in glob(os.path.join(dir_name, '*')):\n",
    "        os.remove(fp)\n",
    "\n",
    "# How many files?\n",
    "number_of_files = random.randint(50, 100)\n",
    "print(f'Generating {number_of_files} files')\n",
    "\n",
    "# Get some author/recipient names\n",
    "import urllib.request\n",
    "urllib.request.urlretrieve(\n",
    "    'https://raw.githubusercontent.com/hadley/data-baby-names/master/baby-names.csv', \n",
    "    'names.csv'\n",
    ")\n",
    "\n",
    "names_by_sex = {'boy' : [], 'girl' : []}\n",
    "with open('names.csv', 'r') as fp:\n",
    "    names = csv.DictReader(fp)\n",
    "    for row in names:\n",
    "        names_by_sex[row['sex']].append(row['name'])\n",
    "        \n",
    "names = []\n",
    "for sex in names_by_sex:\n",
    "    names += random.sample(names_by_sex[sex], 10)\n",
    " \n",
    "# Some messages\n",
    "messages = [\n",
    "    'Thank you for your friendship. Let me send you some money.',\n",
    "    'I have inherited millions of dollars and I want to share it. What are your bank details?',\n",
    "    'It has been a long time. What is your date of birth? I will send a gift.',\n",
    "    'I need to update your identification. Please send a picture of your passport.',\n",
    "    'I got locked out of my emails. Can I use yours? What is your password?',\n",
    "    'Your family history is interesting. What is your mothers maiden name?',\n",
    "    'I am about to send you an email that will verify your account. Please click the link asap.'\n",
    "]\n",
    "\n",
    "# Generate messages\n",
    "for idx in range(number_of_files):\n",
    "    person_to = random.choice(names)\n",
    "    person_from = random.choice(names)\n",
    "    message = random.choice(messages)\n",
    "\n",
    "    with open(os.path.join(dir_name, f'message-{idx:0>3}.txt'), 'w') as fp:\n",
    "        fp.write(f'''Dear {person_to},\n",
    "\n",
    "{message}\n",
    "\n",
    "Kind regards,\n",
    "{person_from}\n",
    "''')"
   ]
  },
  {
   "cell_type": "markdown",
   "id": "3eeddaf9-4c0a-495d-a98d-f61b120ef810",
   "metadata": {},
   "source": [
    "**Use `glob` to extract a list of file names to process**"
   ]
  },
  {
   "cell_type": "code",
   "execution_count": null,
   "id": "6bad43fd-c6d6-451d-8a03-3ca66585647c",
   "metadata": {},
   "outputs": [],
   "source": [
    "# Write your code here"
   ]
  },
  {
   "cell_type": "markdown",
   "id": "5c0a36fb-edff-49d2-899d-259847ca9bd5",
   "metadata": {},
   "source": [
    "**How much mail did each person send?**\n",
    "\n",
    "Construct a dictionary, where the key is the persons name and the value is a count of their mail."
   ]
  },
  {
   "cell_type": "code",
   "execution_count": null,
   "id": "4978e9bb-ac5b-4120-81a0-8825a9c0e157",
   "metadata": {},
   "outputs": [],
   "source": [
    "# Write your code here"
   ]
  },
  {
   "cell_type": "markdown",
   "id": "28110803-b75c-43f9-be8b-99455314eba0",
   "metadata": {},
   "source": [
    "**How much mail did each person receive?**\n",
    "\n",
    "Construct a dictionary, where the key is the persons name and the value is a count of their mail."
   ]
  },
  {
   "cell_type": "code",
   "execution_count": null,
   "id": "cc852154-f828-4138-a21e-7860207e54b1",
   "metadata": {},
   "outputs": [],
   "source": [
    "# Write your code here"
   ]
  },
  {
   "cell_type": "markdown",
   "id": "cbf4c8ae-0c7e-4bca-9953-26f063bd5881",
   "metadata": {},
   "source": [
    "**What was the most commonly used scam message?**"
   ]
  },
  {
   "cell_type": "code",
   "execution_count": null,
   "id": "5971b6b3-b3c4-4196-869f-5d681bbfb9e3",
   "metadata": {},
   "outputs": [],
   "source": [
    "# Write your code here"
   ]
  }
 ],
 "metadata": {
  "kernelspec": {
   "display_name": "Python 3 (ipykernel)",
   "language": "python",
   "name": "python3"
  },
  "language_info": {
   "codemirror_mode": {
    "name": "ipython",
    "version": 3
   },
   "file_extension": ".py",
   "mimetype": "text/x-python",
   "name": "python",
   "nbconvert_exporter": "python",
   "pygments_lexer": "ipython3",
   "version": "3.10.4"
  }
 },
 "nbformat": 4,
 "nbformat_minor": 5
}
