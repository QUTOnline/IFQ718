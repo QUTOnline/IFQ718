{
 "cells": [
  {
   "cell_type": "markdown",
   "id": "003a34f6-035c-479f-b0f8-3ee1b3fd3f65",
   "metadata": {},
   "source": [
    "# 🛠 IFQ718 Module 04 Exercises-02\n",
    "\n",
    "## 🔍  Context: Advanced list operations\n",
    "\n",
    "In this notebook, we will introduce some more advanced operations for `list`."
   ]
  },
  {
   "cell_type": "markdown",
   "id": "d7fbc308-7808-49c5-8bdf-ce09f42b1061",
   "metadata": {},
   "source": [
    "### List comprehension\n",
    "\n",
    "The concept of *list comprehension* was defined in [PEP-202](https://peps.python.org/pep-0202/), which describes the use of `for` and `if` constructs within the square bracket `[` `]` notation of lists.\n",
    "\n",
    "Let's begin with an example of using `for` to calculate multiples of 8:"
   ]
  },
  {
   "cell_type": "code",
   "execution_count": null,
   "id": "b165fd44-d674-4a93-8b4a-51c69b285496",
   "metadata": {},
   "outputs": [],
   "source": [
    "eights = [x * 8 for x in range(1, 13)]\n",
    "print(eights)"
   ]
  },
  {
   "cell_type": "markdown",
   "id": "94c35dc8-b609-4217-8db1-d42a4d8bc7ef",
   "metadata": {},
   "source": [
    "Now, add `if`.\n",
    "\n",
    "The example is: generate a list of multiples of three but only if the multiple is even:"
   ]
  },
  {
   "cell_type": "code",
   "execution_count": null,
   "id": "9a29760e-2f79-4513-a53b-71e2af1d45f6",
   "metadata": {},
   "outputs": [],
   "source": [
    "even_threes = [x * 3 for x in range(1,13) if (x * 3) % 2 == 0]\n",
    "print(even_threes)"
   ]
  },
  {
   "cell_type": "markdown",
   "id": "8775f3aa-2945-481f-ad14-097f94d8bd53",
   "metadata": {},
   "source": [
    "Again, but only if the multiple is odd:"
   ]
  },
  {
   "cell_type": "code",
   "execution_count": null,
   "id": "adbe8c60-f2af-4fa8-b555-ed83a17fa867",
   "metadata": {},
   "outputs": [],
   "source": [
    "even_threes = [x * 3 for x in range(1,13) if (x * 3) % 2 == 1]\n",
    "print(even_threes)"
   ]
  },
  {
   "cell_type": "markdown",
   "id": "641018c7-3beb-404a-b40e-a6f5aee7d970",
   "metadata": {},
   "source": [
    "How about nested `for` constructs?\n",
    "\n",
    "Yes, this is possible. They execute from the outer-most loop first.\n",
    "\n",
    "We will write the equivalent of this snippet:\n",
    "    \n",
    "```python\n",
    "table = []\n",
    "for y in range(1, 10):\n",
    "    row = []\n",
    "    for x in range(1, 13):\n",
    "        row.append(y * x)\n",
    "        \n",
    "    table.append(row)\n",
    "```\n",
    "\n",
    "From six lines to one..."
   ]
  },
  {
   "cell_type": "code",
   "execution_count": null,
   "id": "1f765d45-6bf9-4dd9-8451-58a522a4aa00",
   "metadata": {},
   "outputs": [],
   "source": [
    "table = []\n",
    "for y in range(1, 10):\n",
    "    row = []\n",
    "    for x in range(1, 13):\n",
    "        row.append(y * x)\n",
    "        \n",
    "        \n",
    "    table.append(row)\n",
    "print(table)"
   ]
  },
  {
   "cell_type": "code",
   "execution_count": null,
   "id": "bc18ca79-36f4-4a2b-9aab-339887e63385",
   "metadata": {},
   "outputs": [],
   "source": [
    "table = [[y * x for x in range(1, 13)] for y in range(1, 10)]\n",
    "print(table)"
   ]
  },
  {
   "cell_type": "markdown",
   "id": "3655fad9-bf4f-43df-872e-530ca4e9bdd7",
   "metadata": {},
   "source": [
    "### Applying an operation to each item using `map`\n",
    "\n",
    "The `map` function applies a function to every item of an iterable object.\n",
    "\n",
    "The syntax is: `map(function_to_apply, iterable_object)`.\n",
    "\n",
    "The `map` function returns an iterator, too. Meaning, to consume the updated items, you can iterate using `for` or convert the iterator to a list.\n",
    "\n",
    "For example, multiply a list of integers:"
   ]
  },
  {
   "cell_type": "code",
   "execution_count": null,
   "id": "13808c98-c960-418e-b09c-4d4aa10b2edb",
   "metadata": {},
   "outputs": [],
   "source": [
    "def double(x):\n",
    "    return x * 2\n",
    "\n",
    "z = [1, 5, 10]\n",
    "\n",
    "x = list(map(double, z))\n",
    "\n",
    "print(x)"
   ]
  },
  {
   "cell_type": "markdown",
   "id": "1b73808e-613f-4487-a7bc-4661fe1f8d7c",
   "metadata": {},
   "source": [
    "How would I achieve this without `map`?"
   ]
  },
  {
   "cell_type": "code",
   "execution_count": null,
   "id": "2cf450b4-bf0c-45b3-966f-426b6f52bfe8",
   "metadata": {},
   "outputs": [],
   "source": [
    "z = [1, 5, 10]\n",
    "x = []\n",
    "for y in z:\n",
    "    x.append(y * 2)\n",
    "print(x)"
   ]
  },
  {
   "cell_type": "markdown",
   "id": "44bf4e31-f2df-4557-9c0e-a162492ecdae",
   "metadata": {},
   "source": [
    "Okay, not a huge difference, yet. What if the operation was more complex? Like implementing a piecewise function\n",
    "\n",
    "$\n",
    "f(n) =\n",
    "\\begin{cases}\n",
    "n^2,  & \\text{if $n$ is even} \\\\\n",
    "3n+1, & \\text{if $n$ is odd}\n",
    "\\end{cases}\n",
    "$"
   ]
  },
  {
   "cell_type": "code",
   "execution_count": null,
   "id": "9b382a2a-22b0-49b6-982c-6f48b052c760",
   "metadata": {},
   "outputs": [],
   "source": [
    "def fn(n):\n",
    "    if n % 2 == 0:\n",
    "        # n is even\n",
    "        return n ** 2\n",
    "    \n",
    "    else:\n",
    "        # n is odd\n",
    "        return 3 * n + 1\n",
    "    \n",
    "# a list of n's\n",
    "ns = list(range(1, 20))\n",
    "\n",
    "# a list of f(n)'s\n",
    "fns = list(map(fn, ns))\n",
    "print(fns)"
   ]
  },
  {
   "cell_type": "markdown",
   "id": "b683136c-e9e7-4d09-9ec6-f5e7b5db92b1",
   "metadata": {},
   "source": [
    "The function passed to `map` can be as simple or as complex as needed."
   ]
  },
  {
   "cell_type": "markdown",
   "id": "245cfd4b-b600-4fb2-8840-0e23d463f58a",
   "metadata": {},
   "source": [
    "### Removing items with `filter`\n",
    "\n",
    "The in-built function is similar to using list comprehension with an embedded `if` statement, but similar to `map`, allows you to write much more complex conditions.\n",
    "\n",
    "The `filter` function returns an iterator, too. Iterate using `for` or convert the iterator to a list.\n",
    "\n",
    "A simple example, filter out words that are shorter than four characters:"
   ]
  },
  {
   "cell_type": "code",
   "execution_count": null,
   "id": "a445de63-0fa2-4204-901f-9a25667796f2",
   "metadata": {},
   "outputs": [],
   "source": [
    "animals = ['cat', 'dog', 'mouse', 'bird', 'elephant', 'fish']\n",
    "\n",
    "def sieve(x):\n",
    "    return len(x) > 3\n",
    "        \n",
    "filtered_animals = list(filter(sieve, animals))\n",
    "\n",
    "print(filtered_animals)"
   ]
  },
  {
   "cell_type": "markdown",
   "id": "01d57b8a-b1f9-4af3-ba78-9d38efa02b87",
   "metadata": {},
   "source": [
    "Now, rewritten using list comprehension"
   ]
  },
  {
   "cell_type": "code",
   "execution_count": null,
   "id": "2275c5de-43ff-487d-ae2b-17fb88408c47",
   "metadata": {},
   "outputs": [],
   "source": [
    "animals = ['cat', 'dog', 'mouse', 'bird', 'elephant', 'fish']\n",
    "filtered_animals = [animal for animal in animals if len(animal) > 3]\n",
    "print(filtered_animals)"
   ]
  },
  {
   "cell_type": "markdown",
   "id": "a06d1996-57b4-4b60-8f5d-97c4cee97802",
   "metadata": {},
   "source": [
    "Using list comprehension or `filter` depends on how complex the condition of the `if` construct is."
   ]
  },
  {
   "cell_type": "markdown",
   "id": "b0d09574-4677-4e95-b24b-a7c0b4be1118",
   "metadata": {},
   "source": [
    "### Lambda expressions as shortcut functions\n",
    "\n",
    "Lambda functions is the short-hand equivalent of `def`, but for very short (single line) implementations.\n",
    "\n",
    "The syntax is the following: `lambda x: y` where `x` is the input value and `y` is the returned value."
   ]
  },
  {
   "cell_type": "code",
   "execution_count": null,
   "id": "53f10938-a990-46a6-86ce-3ae267d5c658",
   "metadata": {},
   "outputs": [],
   "source": [
    "list(map(lambda x: x*2, [1, 2, 3, 4, 5]))"
   ]
  },
  {
   "cell_type": "code",
   "execution_count": null,
   "id": "59b4c20d-10df-48da-b753-f0ed029e4d6b",
   "metadata": {},
   "outputs": [],
   "source": [
    "list(filter(lambda x: x % 2 == 0, [1, 2, 3, 4, 5]))"
   ]
  },
  {
   "cell_type": "markdown",
   "id": "a84cf420-2578-4d00-9859-7a0cfa79f06d",
   "metadata": {},
   "source": [
    "### ✍ Activity 1:\n"
   ]
  },
  {
   "cell_type": "code",
   "execution_count": null,
   "id": "9b5c7a3d-84df-40c0-8662-f9611d02ec85",
   "metadata": {},
   "outputs": [],
   "source": [
    "adverts = ['Apple $0.50 ea', 'Orange $0.60 ea', 'Banana $0.45 ea', 'Tomato $0.55 ea', 'Capsicum $0.40 ea', 'Broccoli $0.90 ea', 'Carrot $0.20 ea']"
   ]
  },
  {
   "cell_type": "markdown",
   "id": "221bcdda-120e-4742-a83d-d595328e9812",
   "metadata": {},
   "source": [
    "**Rewrite the following snippet using list comprehension.**"
   ]
  },
  {
   "cell_type": "code",
   "execution_count": null,
   "id": "ca81269d-8547-4ccb-89a2-ac6c8ce8ce98",
   "metadata": {},
   "outputs": [],
   "source": [
    "products = []\n",
    "for advert in adverts:\n",
    "    products.append(advert.split(' ')[0])\n",
    "print(products)"
   ]
  },
  {
   "cell_type": "code",
   "execution_count": null,
   "id": "bf3ad482-fc7f-4d7f-a13f-4ba3118b3182",
   "metadata": {},
   "outputs": [],
   "source": [
    "# Write your code here"
   ]
  },
  {
   "cell_type": "markdown",
   "id": "2c547db3-d67f-4fad-a583-2ed738a111c1",
   "metadata": {},
   "source": [
    "**Rewrite the following snippet using `map`**"
   ]
  },
  {
   "cell_type": "code",
   "execution_count": null,
   "id": "43594780-b4bc-4e4c-b75e-9881c30d0cd6",
   "metadata": {},
   "outputs": [],
   "source": [
    "prices = []\n",
    "for advert in adverts:\n",
    "    price = float(advert.split(' ')[1][1:])\n",
    "    prices.append(price)\n",
    "print(prices)"
   ]
  },
  {
   "cell_type": "code",
   "execution_count": null,
   "id": "df984ea2-d75d-4c1c-a83d-789d00f18fcb",
   "metadata": {},
   "outputs": [],
   "source": [
    "# Write your code here"
   ]
  },
  {
   "cell_type": "markdown",
   "id": "d5c8c811-fa46-47b4-bb5d-795684f4784c",
   "metadata": {},
   "source": [
    "**Rewrite the following snippet using `filter`**"
   ]
  },
  {
   "cell_type": "code",
   "execution_count": null,
   "id": "4c583a5d-1252-42cb-9f76-69e08d7fb76b",
   "metadata": {},
   "outputs": [],
   "source": [
    "expensive_items = []\n",
    "for advert in adverts:\n",
    "    price = float(advert.split(' ')[1][1:])\n",
    "    if price >= 0.5:\n",
    "        expensive_items.append(advert)\n",
    "print(expensive_items)"
   ]
  },
  {
   "cell_type": "code",
   "execution_count": null,
   "id": "b2ff8a42-fb59-4281-b085-c72599d2960b",
   "metadata": {},
   "outputs": [],
   "source": [
    "# Write your code here"
   ]
  },
  {
   "cell_type": "markdown",
   "id": "9e09be6f-e84e-47f5-97b6-d9b6f7fb1217",
   "metadata": {},
   "source": [
    "### ✍ Activity 2:"
   ]
  },
  {
   "cell_type": "markdown",
   "id": "a73a6a27-8498-403a-9a26-13cff759da3c",
   "metadata": {},
   "source": [
    "**Implement the following piecewise function using `map`**\n",
    "\n",
    "$\n",
    "f(n) =\n",
    "\\begin{cases}\n",
    "0, & \\text{if $n <= 0$} \\\\\n",
    "n + 1,  & \\text{if $n < 5$} \\\\\n",
    "3n + 5, & \\text{if $n >= 5$} \\\\\n",
    "3^2, & \\text{if $n >= 10$}\n",
    "\\end{cases}\n",
    "$\n",
    "\n",
    "Evaluate $f(n)$ for $n=-5$ through to $n=20$."
   ]
  },
  {
   "cell_type": "code",
   "execution_count": null,
   "id": "20284bc4-393f-4b5f-ba2f-e8fdb2c55ef0",
   "metadata": {},
   "outputs": [],
   "source": [
    "# Write your code here"
   ]
  },
  {
   "cell_type": "markdown",
   "id": "50499bf9-48ff-41a2-907a-915cecfe4253",
   "metadata": {},
   "source": [
    "**Write a function for `map` that will convert any [cardinal number to its ordinal equivalent](https://en.wikipedia.org/wiki/Ordinal_numeral)**"
   ]
  },
  {
   "cell_type": "code",
   "execution_count": null,
   "id": "25e19c63-0986-4bd1-9531-ed09ddf77606",
   "metadata": {},
   "outputs": [],
   "source": [
    "# Write your code here"
   ]
  },
  {
   "cell_type": "markdown",
   "id": "7dd8233a-f69e-4335-9a3e-90ea285bb23f",
   "metadata": {},
   "source": [
    "**Write a function for `filter` that will remove any nonprime numbers from a given list**\n",
    "\n",
    "*Test your function on numbers 0 to 1000*"
   ]
  },
  {
   "cell_type": "code",
   "execution_count": null,
   "id": "c96b9556-017f-4bf9-a78d-7271501609c5",
   "metadata": {},
   "outputs": [],
   "source": [
    "# Write your code here"
   ]
  },
  {
   "cell_type": "markdown",
   "id": "1c8b00a9-a96d-4683-90c2-e633e9078f52",
   "metadata": {},
   "source": [
    "### More operations on lists using the `itertools` module\n",
    "\n",
    "The teaching of the Python Standard Libraries is quickly coming to an end. We could not possibly cover everything in a few short weeks, nor a few months. Learning to write quality code is about practice. There are some further modules and functions of Python that you may wish to explore. One relevant to this particular notebook is the `itertools` module of Python, [here](https://docs.python.org/3/library/itertools.html)."
   ]
  }
 ],
 "metadata": {
  "kernelspec": {
   "display_name": "Python 3 (ipykernel)",
   "language": "python",
   "name": "python3"
  },
  "language_info": {
   "codemirror_mode": {
    "name": "ipython",
    "version": 3
   },
   "file_extension": ".py",
   "mimetype": "text/x-python",
   "name": "python",
   "nbconvert_exporter": "python",
   "pygments_lexer": "ipython3",
   "version": "3.10.4"
  }
 },
 "nbformat": 4,
 "nbformat_minor": 5
}
