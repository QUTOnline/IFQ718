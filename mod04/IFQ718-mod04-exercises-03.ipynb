{
 "cells": [
  {
   "cell_type": "markdown",
   "id": "0aed9fbc-a188-4843-a9dc-1e7b1c5a77a8",
   "metadata": {},
   "source": [
    "# 🛠 IFQ718 Module 04 Exercises-03\n",
    "\n",
    "## 🔍  Context: Parsing common data exchange formats\n",
    "\n",
    "There are a few more modules from the Python Standard Library that we would like you to be introduced to.\n",
    "\n",
    "They are `csv` and `json`, for the convenience that they each provide in reading and writing CSV and JSON formatted files.\n"
   ]
  },
  {
   "cell_type": "markdown",
   "id": "710d89c4-b706-409e-b349-694a1dc4e47f",
   "metadata": {},
   "source": [
    "### The `csv` module\n",
    "\n",
    "You have already become familiar with the comma-separated values (CSV) format in a previous notebook. Remember that data formatted as CSV looks like this:\n",
    "\n",
    "<pre>\n",
    "\n",
    "sepal_length,sepal_width,petal_length,petal_width,species\n",
    "4.4,3.0,1.3,0.2,setosa\n",
    "5.1,3.4,1.5,0.2,setosa\n",
    "5.0,3.5,1.3,0.3,setosa\n",
    "4.5,2.3,1.3,0.3,setosa\n",
    "4.4,3.2,1.3,0.2,setosa\n",
    "5.8,2.6,4.0,1.2,versicolor\n",
    "5.0,2.3,3.3,1.0,versicolor\n",
    "5.6,2.7,4.2,1.3,versicolor\n",
    "5.7,3.0,4.2,1.2,versicolor\n",
    "5.7,2.9,4.2,1.3,versicolor\n",
    "6.3,3.3,6.0,2.5,virginica\n",
    "6.8,3.2,5.9,2.3,virginica\n",
    "6.7,3.3,5.7,2.5,virginica\n",
    "6.7,3.0,5.2,2.3,virginica\n",
    "6.3,2.5,5.0,1.9,virginica\n",
    "\n",
    "</pre>\n",
    "\n",
    "Previously, you parsed this format using the `.split(',')` approach, but now we introduce you to parsing CSV files using the `csv` module, which provides advanced capabilities of parsing more complex CSV formats.\n",
    "\n",
    "You may be asking, why is this important? Consider when the CSV format includes a column of sentences, where the comma `,` is used as a punctuation mark instead of a field delimiter. Our approach of using `.split(',')` would incorrectly split the line into its individual fields. To avoid this situation, a properly formatted CSV file will use quotations to surround that field, like this:\n",
    "\n",
    "<pre>\n",
    "author,sentence\n",
    "Public domain,\"Hello, World!\"\n",
    "Jake Bradford,\"You should consider the use of quotations, as commas may break an ill-formatted CSV file\"\n",
    "</pre>\n",
    "\n",
    "Let's try using the `.split(',')` approach. We will count how many fields are on each line."
   ]
  },
  {
   "cell_type": "code",
   "execution_count": null,
   "id": "2cc2adfe-3d1f-40e9-817a-53d643503b94",
   "metadata": {},
   "outputs": [],
   "source": [
    "text = '''author,sentence\n",
    "Public domain,\"Hello, World!\"\n",
    "Jake Bradford,\"You should consider the use of quotations, as commas may break an ill-formatted CSV file\"\n",
    "'''\n",
    "\n",
    "for line in text.split('\\n'):\n",
    "    fields = line.strip().split(',')\n",
    "    print(f'Number of fields on this line: {len(fields)}', f'\\t{fields}')"
   ]
  },
  {
   "cell_type": "markdown",
   "id": "8f674ac1-0a54-40be-a861-037def970b1e",
   "metadata": {},
   "source": [
    "Okay, this is not looking good. The header row has two fields: `author` and `sentence`, but the subsequent rows have three fields (as the second field has been incorrectly split into two).\n",
    "\n",
    "Let's try again with a different dataset:"
   ]
  },
  {
   "cell_type": "code",
   "execution_count": null,
   "id": "57a91230-4ac9-49b6-9e25-a83d0a130297",
   "metadata": {},
   "outputs": [],
   "source": [
    "# First, download the dataset\n",
    "import urllib.request\n",
    "urllib.request.urlretrieve('https://gist.githubusercontent.com/jaidevd/23aef12e9bf56c618c41/raw/c05e98672b8d52fa0cb94aad80f75eb78342e5d4/books_new.csv', 'data/books.csv')"
   ]
  },
  {
   "cell_type": "code",
   "execution_count": null,
   "id": "6f935bb1-8533-4de3-b323-8a5728b7a92a",
   "metadata": {},
   "outputs": [],
   "source": [
    "# Here are the headers of the CSV file\n",
    "with open('data/books.csv', 'r') as fp:\n",
    "    print(fp.readline())"
   ]
  },
  {
   "cell_type": "code",
   "execution_count": null,
   "id": "0c97d57e-ce22-4337-854a-182368db7133",
   "metadata": {},
   "outputs": [],
   "source": [
    "# and now, the first few lines\n",
    "# Here are the headers of the CSV file\n",
    "with open('data/books.csv', 'r') as fp:\n",
    "    for idx, line in enumerate(fp):\n",
    "        print(line.strip())\n",
    "        if idx == 5:\n",
    "            break"
   ]
  },
  {
   "cell_type": "code",
   "execution_count": null,
   "id": "3a439eec-0497-4e2d-aff6-997437da7c7e",
   "metadata": {},
   "outputs": [],
   "source": [
    "# What do you notice?"
   ]
  },
  {
   "cell_type": "markdown",
   "id": "f9820556-0f62-4ff5-bfb3-3b08cbd1cb29",
   "metadata": {},
   "source": [
    "Now, open with the `csv` module.\n",
    "\n",
    "**Using the `csv.reader()` function**"
   ]
  },
  {
   "cell_type": "code",
   "execution_count": null,
   "id": "8424865e-a422-4140-a9ac-d63ea2a32374",
   "metadata": {},
   "outputs": [],
   "source": [
    "import csv\n",
    "\n",
    "with open('data/books.csv', 'r') as fp:\n",
    "    reader = csv.reader(fp)\n",
    "    for idx, line in enumerate(reader):\n",
    "        print(f'Number of fields on this line: {len(line)}', f'\\t{line}')\n",
    "        if idx == 5:\n",
    "            break"
   ]
  },
  {
   "cell_type": "markdown",
   "id": "6bd4a05a-5e5d-418c-829f-366bf8d21f26",
   "metadata": {},
   "source": [
    "Closely look at some of the fields. They contain commas `,`. \n",
    "\n",
    "For example, `Foreman, John` is a value of the `Author` field."
   ]
  },
  {
   "cell_type": "code",
   "execution_count": null,
   "id": "7180d47b-ef61-4d08-a6d1-5759a53393d8",
   "metadata": {},
   "outputs": [],
   "source": [
    "# Print only those fields containing a comma\n",
    "with open('data/books.csv', 'r') as fp:\n",
    "    reader = csv.reader(fp)\n",
    "    next(reader) # skip the header row as we know already it does not contain any commas\n",
    "    for idx, line in enumerate(reader):\n",
    "        print(f'Number of fields on this line: {len(line)}', f'\\t{[f for f in line if \",\" in f]}')\n",
    "        if idx == 5:\n",
    "            break"
   ]
  },
  {
   "cell_type": "markdown",
   "id": "baf7205c-335d-4559-a5c6-41acb32f558e",
   "metadata": {},
   "source": [
    "**Try using a different function from the module: `csv.DictReader()`**\n",
    "\n",
    "This function provides a dictionary for each row, rather than a list. This allows you to select fields from a row using their column title rather than index position.\n",
    "\n",
    "Previously, to select the author, we would have used `line[1]`, as the author field is the second column (index 1) of the file.\n",
    "\n",
    "Now, we can use the syntax `line['Author']`.\n",
    "\n",
    "The same outcome is achieved, but, arguably, using `DictReader` makes for cleaner and more interpretable code."
   ]
  },
  {
   "cell_type": "code",
   "execution_count": null,
   "id": "058c4dd0-a3dc-41ca-8221-25a236fd48e8",
   "metadata": {},
   "outputs": [],
   "source": [
    "# Print only those fields containing a comma\n",
    "with open('data/books.csv', 'r') as fp:\n",
    "    reader = csv.DictReader(fp)\n",
    "    next(reader) # skip the header row as we know already it does not contain any commas\n",
    "    for idx, line in enumerate(reader):\n",
    "        print(line['Author'])\n",
    "        if idx == 5:\n",
    "            break"
   ]
  },
  {
   "cell_type": "markdown",
   "id": "48eba213-9c35-4bcd-b9be-e9c7af3684ca",
   "metadata": {},
   "source": [
    "**Writing a CSV-formatted file using `csv.writer`**\n",
    "\n",
    "The `csv` module also provides functionality to write CSV files with complex data.\n",
    "\n",
    "We will continue using the publications dataset in the following examples.\n",
    "\n",
    "In the first example, we will write the publication title and publisher to a new file."
   ]
  },
  {
   "cell_type": "code",
   "execution_count": null,
   "id": "0b5d59e1-29a4-458e-a770-1851e8ba7aec",
   "metadata": {},
   "outputs": [],
   "source": [
    "# the number of rows to process\n",
    "n = 10\n",
    "\n",
    "# Open two files: one to read, another to write\n",
    "with open('data/books.csv', 'r') as fpR, open('books_title_publisher.csv', 'w', newline='') as fpW:\n",
    "    \n",
    "    reader = csv.DictReader(fpR)\n",
    "    writer = csv.writer(fpW)\n",
    "    \n",
    "    # the header row of the new file\n",
    "    writer.writerow(['Title', 'Publisher'])\n",
    "    \n",
    "    for idx, row in enumerate(reader):\n",
    "        if idx < 20:\n",
    "            print(f'Writing to file: ', [row['Title'], row['Publisher']])\n",
    "                                         \n",
    "        writer.writerow([row['Title'], row['Publisher']])\n",
    "                         \n",
    "        if idx == n:\n",
    "             break"
   ]
  },
  {
   "cell_type": "markdown",
   "id": "24c3ebf3-2231-4116-928a-2c4a5a6a5786",
   "metadata": {},
   "source": [
    "Find the file in the Jupyer Lab file explorer, then open it using the text editor (do not use the CSV file viewer)."
   ]
  },
  {
   "cell_type": "markdown",
   "id": "114d9107-618e-4799-b2b0-8935318f19ed",
   "metadata": {},
   "source": [
    "### ✍ Activity 1: More on the publications dataset"
   ]
  },
  {
   "cell_type": "code",
   "execution_count": null,
   "id": "49a2e693-c580-49fd-b5cc-c6a63466e789",
   "metadata": {},
   "outputs": [],
   "source": [
    "# Open the dataset using the csv module"
   ]
  },
  {
   "cell_type": "code",
   "execution_count": null,
   "id": "09b7fe14-d204-4bc9-8eec-4cee1820c673",
   "metadata": {},
   "outputs": [],
   "source": [
    "# Inspect the first ten rows. Loop through and break after ten iterations"
   ]
  },
  {
   "cell_type": "code",
   "execution_count": null,
   "id": "64f1ae38-3b8e-48de-882c-503f1ed43854",
   "metadata": {},
   "outputs": [],
   "source": [
    "# Count how many publications per publisher "
   ]
  },
  {
   "cell_type": "code",
   "execution_count": null,
   "id": "5db2059f-4e41-491b-bc3f-96384f9517c9",
   "metadata": {},
   "outputs": [],
   "source": [
    "# How many publications do not have any authors listed?"
   ]
  },
  {
   "cell_type": "code",
   "execution_count": null,
   "id": "db74c770-f562-4728-b58e-010e5fbda918",
   "metadata": {},
   "outputs": [],
   "source": [
    "# Create a new CSV file with only those publications that do not have any authors listed"
   ]
  },
  {
   "cell_type": "markdown",
   "id": "f893f11c-fb97-4289-af31-364e4f93e191",
   "metadata": {},
   "source": [
    "### ✍ Activity 2: Open the Titanics dataset using the `csv` module\n",
    "\n",
    "The dataset contains the following columns:\n",
    "\n",
    "* survival - Indicates if the passenger survived the ship wreck, it is our target variable (the variable we will be predicting).\n",
    "* pclass - Indicates the socio-economic status of the given passanger (1st = Upper, 2nd = Middle, 3rd = Lower).\n",
    "* sex - Male or Female.\n",
    "* Age - The age of the passenger.\n",
    "* sibsp - The number of siblings / spouses of the passanger that are on-board.\n",
    "* parch - The number of parents / children that are on-board.\n",
    "* ticket - Ticket number, which is the unique identifier of each passanger.\n",
    "* fare - How much the passanger has paid in total.\n",
    "* cabin - The cabin number of the passanger.\n",
    "* Embarked - Which port the passanger embarked from (C = Cherbourg, Q = Queenstown, S = Southampton)."
   ]
  },
  {
   "cell_type": "code",
   "execution_count": null,
   "id": "51509ac0-5643-4b0d-96b7-822120a1f14a",
   "metadata": {},
   "outputs": [],
   "source": [
    "# First, download the dataset, if you don't have it already\n",
    "import urllib.request\n",
    "urllib.request.urlretrieve('https://raw.githubusercontent.com/datasciencedojo/datasets/master/titanic.csv', 'data/titanic.csv')"
   ]
  },
  {
   "cell_type": "code",
   "execution_count": null,
   "id": "1038bb54-f665-48a6-8834-e22875167ca3",
   "metadata": {},
   "outputs": [],
   "source": [
    "# Write your code here"
   ]
  },
  {
   "cell_type": "code",
   "execution_count": null,
   "id": "fb68c8d5-2e23-43e7-bef5-0ce437394d8b",
   "metadata": {},
   "outputs": [],
   "source": [
    "# How many passengers survived?"
   ]
  },
  {
   "cell_type": "code",
   "execution_count": null,
   "id": "f19de705-40a2-40de-b82d-7ae1abf5c712",
   "metadata": {},
   "outputs": [],
   "source": [
    "# How many passengers from each socio-economic class?"
   ]
  },
  {
   "cell_type": "code",
   "execution_count": null,
   "id": "4f3cd359-f8de-4ae3-a60c-64cf68fd1e85",
   "metadata": {},
   "outputs": [],
   "source": [
    "# What was the total fares collected?"
   ]
  },
  {
   "cell_type": "code",
   "execution_count": null,
   "id": "88420435-5ef7-43ec-a68c-c2d125c1dc63",
   "metadata": {},
   "outputs": [],
   "source": [
    "# What are the names of the oldest and youngest passengers?"
   ]
  },
  {
   "cell_type": "markdown",
   "id": "8c9b1d15-5c6c-4e96-b425-3314cea73b8b",
   "metadata": {},
   "source": [
    "### The `json` module"
   ]
  },
  {
   "cell_type": "markdown",
   "id": "f93120aa-0a70-44d9-9fe6-1718edb3d553",
   "metadata": {},
   "source": [
    "Pronounced 'jason', the `json` module reads and writes JSON-formatted data, which looks like this:\n",
    "\n",
    "```json\n",
    "afl_matches = [\n",
    "    {\n",
    "        \"AwayTeam\": \"Western Bulldogs\",\n",
    "        \"AwayTeamScore\": 71,\n",
    "        \"DateUtc\": \"2022-03-16 08:10:00Z\",\n",
    "        \"Group\": null,\n",
    "        \"HomeTeam\": \"Melbourne\",\n",
    "        \"HomeTeamScore\": 97,\n",
    "        \"Location\": \"MCG\",\n",
    "        \"MatchNumber\": 1,\n",
    "        \"RoundNumber\": 1\n",
    "    },\n",
    "    {\n",
    "        \"AwayTeam\": \"Richmond\",\n",
    "        \"AwayTeamScore\": 76,\n",
    "        \"DateUtc\": \"2022-03-17 08:25:00Z\",\n",
    "        \"Group\": null,\n",
    "        \"HomeTeam\": \"Carlton\",\n",
    "        \"HomeTeamScore\": 101,\n",
    "        \"Location\": \"MCG\",\n",
    "        \"MatchNumber\": 2,\n",
    "        \"RoundNumber\": 1\n",
    "    }\n",
    "]\n",
    "```\n",
    "\n",
    "Yes, the structure looks very like Python `dictionary`'s and `list`'s. How convenient.\n",
    "\n",
    "JSON is *JavaScript Object Notation*, defined in [RFC 7159](https://datatracker.ietf.org/doc/html/rfc7159.html):\n",
    "\n",
    ">JavaScript Object Notation (JSON) is a lightweight, text-based,\n",
    "   **language-independent data interchange format**.  It was derived from\n",
    "   the ECMAScript Programming Language Standard.  JSON defines a small\n",
    "   set of formatting rules for the portable representation of structured\n",
    "   data.\n",
    "   \n",
    "*Do you like the AFL? More on that in a moment...*"
   ]
  },
  {
   "cell_type": "markdown",
   "id": "4c2bd7f4-73ed-4e5d-87b7-f13e23d33c74",
   "metadata": {},
   "source": [
    "Let's download some JSON-formatted data, if you don't have it already."
   ]
  },
  {
   "cell_type": "code",
   "execution_count": null,
   "id": "95a50144-c82f-4441-b6d8-ae4edc154f58",
   "metadata": {},
   "outputs": [],
   "source": [
    "import urllib.request\n",
    "urllib.request.urlretrieve('https://fixturedownload.com/feed/json/afl-2022', 'data/afl-2022.json')"
   ]
  },
  {
   "cell_type": "markdown",
   "id": "a6cb5cb6-9c3c-4431-ad48-600aeac40a27",
   "metadata": {},
   "source": [
    "Now, read the contents of the file, just as a plain string:"
   ]
  },
  {
   "cell_type": "code",
   "execution_count": null,
   "id": "8cb02080-6661-462a-866a-c5432950af4e",
   "metadata": {},
   "outputs": [],
   "source": [
    "with open('data/afl-2022.json', 'r') as fp:\n",
    "    for idx, line in enumerate(fp):\n",
    "        print(f'Line #{idx+1} is {len(line)} chars\\n\\n\\t{line[:150]}\\n\\t...')\n",
    "        if idx == 10:\n",
    "            break"
   ]
  },
  {
   "cell_type": "markdown",
   "id": "052d0d58-7ff0-463c-a8c3-1b04db7a2cbb",
   "metadata": {},
   "source": [
    "Well, that is interesting. There is only one line in this file. It is very long. And it does not look very easy to parse manually.\n",
    "\n",
    "Side note: I found a JSON parser that *geekskool* has written. [It is long](https://github.com/geekskool/python-json-parser/blob/59e8d445d22d775a59a5b635fe5000382e3025b9/jsonparse.py)."
   ]
  },
  {
   "cell_type": "markdown",
   "id": "3847318c-24ac-4316-9d6d-d69ca6f72b93",
   "metadata": {},
   "source": [
    "Let's use the `json` module:"
   ]
  },
  {
   "cell_type": "code",
   "execution_count": null,
   "id": "077ed440-5d3b-423f-b701-9b971ed95560",
   "metadata": {},
   "outputs": [],
   "source": [
    "import json\n",
    "with open('data/afl-2022.json', 'r') as fp:\n",
    "    afl = json.load(fp)\n",
    "    print(type(afl))"
   ]
  },
  {
   "cell_type": "markdown",
   "id": "4174e9d4-bb27-42d7-9757-40ffa45a9251",
   "metadata": {},
   "source": [
    "Great. The `json.load()` function gave me a native Python `list`. This is more workable than the horrible string we were given earlier.\n",
    "\n",
    "I can **dump** this as a \"pretty ***s**tring*\", using `json.dumps()`, to make it more readable. However, the output will be very long. I will print only the first three items of the structure."
   ]
  },
  {
   "cell_type": "code",
   "execution_count": null,
   "id": "7560dc2f-8eb1-479c-b7bd-ebf6fb41ee1e",
   "metadata": {},
   "outputs": [],
   "source": [
    "print(json.dumps(afl[0:3], indent=4, sort_keys=True))"
   ]
  },
  {
   "cell_type": "markdown",
   "id": "957d8ce9-525c-4b1b-acc0-b3c1e9522502",
   "metadata": {},
   "source": [
    "How many top-level records are there?"
   ]
  },
  {
   "cell_type": "code",
   "execution_count": null,
   "id": "2c151e8f-ecf0-4f26-8860-d4e2ee0fcb38",
   "metadata": {},
   "outputs": [],
   "source": [
    "print(len(afl))"
   ]
  },
  {
   "cell_type": "markdown",
   "id": "136b23a5-ea90-4aae-b827-331035851478",
   "metadata": {},
   "source": [
    "What does the JSON file contain? i.e., the general context. Previously, we saw data that contained publications."
   ]
  },
  {
   "cell_type": "code",
   "execution_count": null,
   "id": "eaa6798b-0d65-4409-8f7b-8840b4fa260a",
   "metadata": {},
   "outputs": [],
   "source": [
    "# Type your answer here"
   ]
  },
  {
   "cell_type": "markdown",
   "id": "39901ad6-1a99-4bfa-867a-6adb8bfadd70",
   "metadata": {},
   "source": [
    "**Count the number of times each team has played each other**"
   ]
  },
  {
   "cell_type": "code",
   "execution_count": null,
   "id": "54665063-cf24-43a7-935e-611988e7af92",
   "metadata": {},
   "outputs": [],
   "source": [
    "counts = {}\n",
    "for match in afl:\n",
    "    \n",
    "    # consider the two teams in alphabetical order\n",
    "    teams = ' vs '.join(sorted([match['HomeTeam'], match['AwayTeam']]))\n",
    "                    \n",
    "    if teams not in counts:\n",
    "        counts[teams] = 0\n",
    "    counts[teams] += 1\n",
    "                    \n",
    "for teams in counts:\n",
    "    print(f'{teams: <40}', counts[teams])"
   ]
  },
  {
   "cell_type": "markdown",
   "id": "9a35022a-27a8-4d13-8c73-b131ee231788",
   "metadata": {},
   "source": [
    "### ✍ Activity 3: Which match had the largest difference in the score?"
   ]
  },
  {
   "cell_type": "code",
   "execution_count": null,
   "id": "7f2701a6-2431-45eb-91aa-cadb5d8582a3",
   "metadata": {},
   "outputs": [],
   "source": [
    "# Write your code here"
   ]
  }
 ],
 "metadata": {
  "kernelspec": {
   "display_name": "Python 3 (ipykernel)",
   "language": "python",
   "name": "python3"
  },
  "language_info": {
   "codemirror_mode": {
    "name": "ipython",
    "version": 3
   },
   "file_extension": ".py",
   "mimetype": "text/x-python",
   "name": "python",
   "nbconvert_exporter": "python",
   "pygments_lexer": "ipython3",
   "version": "3.10.4"
  }
 },
 "nbformat": 4,
 "nbformat_minor": 5
}
