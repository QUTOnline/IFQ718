{
 "cells": [
  {
   "cell_type": "markdown",
   "id": "26ae79a2-9e44-4912-a22a-f1f34e294924",
   "metadata": {},
   "source": [
    "# 🛠 IFQ718 Module 04 Exercises-01\n",
    "\n",
    "## 🔍  Context: More string operations\n",
    "\n",
    "The `string` data type has been discussed many times in the unit, and for good reason. It is one of the core types that is shared with all other programming languages but also, with every day applications like Word, Excel, and others. In this module, we are going to explore advanced operations that can be performed on `string` objects, like search and replace.\n",
    "\n",
    "\n"
   ]
  },
  {
   "cell_type": "markdown",
   "id": "7289c62b-f99b-404d-a0a1-ecc8084ccc55",
   "metadata": {},
   "source": [
    "## Regular Expressions\n",
    "\n",
    "Regular expressions (REs, regexes, regex patterns) are statements of a highly specialized programming language that specify the rules for matching substrings of a query string.\n",
    "\n",
    "For example, you may want to check if a pattern exists within a string, like checking for a valid email address; i.e., `local-part` followed by `@` followed by `domain`. \n"
   ]
  },
  {
   "cell_type": "code",
   "execution_count": null,
   "id": "29a705b2-a6e4-4a20-85de-3f810cb1e1b0",
   "metadata": {},
   "outputs": [],
   "source": [
    "# Import the regular expressions module, `re`\n",
    "import re"
   ]
  },
  {
   "cell_type": "markdown",
   "id": "11e5bc38-1e3b-49f7-8e47-e7ca4bb48778",
   "metadata": {},
   "source": [
    "### Simple patterns: Checking for the existence of substrings\n",
    "\n",
    "A substring may be a single character or an entire paragraph. No matter the size, the idea is that you are looking for a string within a string.\n",
    "\n",
    "We have already used the Python `in` clause to check for the presence of character(s) in a string:\n",
    "    \n",
    "```python\n",
    "'A' in 'Apple'\n",
    "```\n",
    "\n",
    "This can be achieved using regular expressions, too. However, instead of a Boolean type being returned, using the `re.findall()` function will identify any non-overlapping matches."
   ]
  },
  {
   "cell_type": "markdown",
   "id": "0e82eb9d-475a-4a89-891e-1d1be0956997",
   "metadata": {},
   "source": [
    "**Single or multiple characters**"
   ]
  },
  {
   "cell_type": "code",
   "execution_count": null,
   "id": "746aa95c-4a7e-4a96-b1fc-96d11e5623cd",
   "metadata": {},
   "outputs": [],
   "source": [
    "print(re.findall('A', 'Apple'))"
   ]
  },
  {
   "cell_type": "code",
   "execution_count": null,
   "id": "312613ad-1d16-41d9-8e4c-4d69adfd5dd7",
   "metadata": {},
   "outputs": [],
   "source": [
    "print(re.findall('p', 'Apple'))"
   ]
  },
  {
   "cell_type": "code",
   "execution_count": null,
   "id": "7a5e7227-9572-475a-b10d-f95996bc7e9a",
   "metadata": {},
   "outputs": [],
   "source": [
    "print(re.findall('a', 'Apple'))"
   ]
  },
  {
   "cell_type": "markdown",
   "id": "e1e6d115-8757-4a85-b7ab-b5e5af78dff1",
   "metadata": {},
   "source": [
    "But what about matching multiple characters with `re`?"
   ]
  },
  {
   "cell_type": "code",
   "execution_count": null,
   "id": "fd9bd510-dc7e-4ded-bec4-3700b72779c5",
   "metadata": {},
   "outputs": [],
   "source": [
    "print(re.findall('pple', 'Apple'))"
   ]
  },
  {
   "cell_type": "code",
   "execution_count": null,
   "id": "01ae6dcf-0746-4e1c-8711-24c747655733",
   "metadata": {},
   "outputs": [],
   "source": [
    "print(re.findall('$', '$10.50'))"
   ]
  },
  {
   "cell_type": "markdown",
   "id": "3f78152b-b760-4a07-81c9-19ed5ab71ddf",
   "metadata": {},
   "source": [
    "This time we didn't find anything. That is because `$` is a regular expression metacharacter.\n",
    "\n",
    "Try again but by *escaping* the metacharacter so that it is considered literally:"
   ]
  },
  {
   "cell_type": "code",
   "execution_count": null,
   "id": "8eddacba-d93e-4ed3-a6d0-82bf311f592e",
   "metadata": {},
   "outputs": [],
   "source": [
    "print(re.findall('\\$', '$10.50'))"
   ]
  },
  {
   "cell_type": "markdown",
   "id": "677f63f9-d1e0-4638-87e0-fad87782a283",
   "metadata": {},
   "source": [
    "**Metacharacters: using square brackets `[` `]` and the carrot `^`**\n",
    "\n",
    "Most characters will match themselves, however there are some *metacharacters* that specify rules for how the regular expression pattern should be evaluated.\n",
    "\n",
    "Square brackets `[` `]` are used for matching a set of characters. \n",
    "* Not all the characters must be matched.\n",
    "* The set can be \n",
    "   * a list of explicit characters that could be matched `[abc]` or,\n",
    "   * a range of characters `[a-zA-Z]`.\n",
    "\n",
    "The carrot `^` is used for complementing the set of characters."
   ]
  },
  {
   "cell_type": "code",
   "execution_count": null,
   "id": "a4f5d7b9-8f69-464a-87df-35da29bec0dd",
   "metadata": {},
   "outputs": [],
   "source": [
    "print(re.findall('[xyz]', 'The quick brown cat jumps over the lazy dog')) # we changed `fox` to `cat`"
   ]
  },
  {
   "cell_type": "code",
   "execution_count": null,
   "id": "3110b291-c3be-487f-a9e0-f80355a4afd4",
   "metadata": {},
   "outputs": [],
   "source": [
    "print(re.findall('[a-d]', 'Data Carpentry'))"
   ]
  },
  {
   "cell_type": "code",
   "execution_count": null,
   "id": "d3243d0e-cc7f-4cac-8d1f-3dd4c90745d8",
   "metadata": {},
   "outputs": [],
   "source": [
    "print(re.findall('[a-dA-D]', 'Data Carpentry'))"
   ]
  },
  {
   "cell_type": "code",
   "execution_count": null,
   "id": "29b0398b-5a62-461e-b0a7-5a50c35481f3",
   "metadata": {},
   "outputs": [],
   "source": [
    "print(re.findall('[^aeiou]', 'Data Carpentry'))"
   ]
  },
  {
   "cell_type": "markdown",
   "id": "ad89d1b2-f97c-48b9-8f1a-f61866422f75",
   "metadata": {},
   "source": [
    "This leads to asking questions like, *does the string \"Data Carpentry\" contain letters a, b, c?*"
   ]
  },
  {
   "cell_type": "code",
   "execution_count": null,
   "id": "cb29733c-a541-487e-9cdc-8f96fbcbcc03",
   "metadata": {},
   "outputs": [],
   "source": [
    "if len(re.findall('[abc]', 'Data Carpentry')) > 0:\n",
    "    print('Yes, it does.')\n",
    "else:\n",
    "    print('No, it does not.')\n",
    "    \n",
    "# Try changing the set of characters to any that do not exist in the query string."
   ]
  },
  {
   "cell_type": "markdown",
   "id": "b184747f-b3eb-4108-8320-e2e266775897",
   "metadata": {},
   "source": [
    "**With much less restriction, the dot `.`**\n",
    "\n",
    "is for matching any character, except a new line."
   ]
  },
  {
   "cell_type": "code",
   "execution_count": null,
   "id": "40e51b70-99b2-4334-aabe-ee7e4bbe1aef",
   "metadata": {},
   "outputs": [],
   "source": [
    "print(re.findall('.', 'The quick brown fox jumps over the lazy dog'))"
   ]
  },
  {
   "cell_type": "markdown",
   "id": "5952617a-057d-4987-87cb-76f9c1e71c57",
   "metadata": {},
   "source": [
    "**Repeating matching patterns using braces notation `{n,m}`**\n",
    "\n",
    "When an expression is followed by a brace, the expression is repeated `n` times or `n` to `m` times:"
   ]
  },
  {
   "cell_type": "code",
   "execution_count": null,
   "id": "a3c09a09-26f8-48b3-9147-2e904a926339",
   "metadata": {},
   "outputs": [],
   "source": [
    "# To extract characters in pairs\n",
    "print(re.findall('.{2}', 'The quick brown fox jumps over the lazy dog'))"
   ]
  },
  {
   "cell_type": "code",
   "execution_count": null,
   "id": "20347a01-f37d-4c01-a407-ce220cf3dd49",
   "metadata": {},
   "outputs": [],
   "source": [
    "# Extract vowel repetition\n",
    "print(re.findall('[aeiou]{2}', 'the hippopotamus struggles to hula hoop'))"
   ]
  },
  {
   "cell_type": "markdown",
   "id": "1673df41-be96-47bb-80db-bbe21ae965a2",
   "metadata": {},
   "source": [
    "**Extracting words**\n",
    "\n",
    "This example introduces `\\w` and `+`.\n",
    "\n",
    "The metacharacter `\\w` is for matching Unicode characters that are used the words of many languages. It approximately maps to the equivalent of `[a-zA-Z0-9_]` (excluding whitespace, of course).\n",
    "\n",
    "The metacharacter `+`:\n",
    "* `+` for matching one or more of the preceding regular expression\n",
    "* It is similar to `{1,n}`, however, using `n` within the braces is not allowed.\n",
    "\n",
    "Not used here, but similar to `+`, are the following metacharacters:\n",
    "* `?` for matching zero or one of the preceding regular expression\n",
    "* `*` for matching zero or more repetitions of the preceding regular expression"
   ]
  },
  {
   "cell_type": "code",
   "execution_count": null,
   "id": "1a743c7c-7788-46fb-ae3b-553e417ae4c0",
   "metadata": {},
   "outputs": [],
   "source": [
    "print(re.findall('\\w+', 'the hippopotamus struggles to hula hoop'))"
   ]
  },
  {
   "cell_type": "markdown",
   "id": "6c2ad42c-fdc6-43ed-bee6-a74b05ea6e59",
   "metadata": {},
   "source": [
    "Furthermore, the following expression will achieve the same result for our string about [hippo](https://ell.stackexchange.com/a/49969):"
   ]
  },
  {
   "cell_type": "code",
   "execution_count": null,
   "id": "59c22d82-f745-4340-ac6d-b7777960a759",
   "metadata": {},
   "outputs": [],
   "source": [
    "print(re.findall('[a-zA-Z]+', 'the hippopotamus struggles to hula hoop'))"
   ]
  },
  {
   "cell_type": "markdown",
   "id": "b327cf57-b2d0-403b-8295-4d4da65fe9e6",
   "metadata": {},
   "source": [
    "**Extracting numbers**"
   ]
  },
  {
   "cell_type": "code",
   "execution_count": null,
   "id": "f12eb0d8-fb04-44ad-8576-8775ba966d8f",
   "metadata": {},
   "outputs": [],
   "source": [
    "print(re.findall('\\d+', 'Iceberg lettuce hit $10'))"
   ]
  },
  {
   "cell_type": "code",
   "execution_count": null,
   "id": "6a33f9ac-dacf-4f86-be7a-1e9ceb4f69eb",
   "metadata": {},
   "outputs": [],
   "source": [
    "print(re.findall('\\d+', 'And, no doubt, $10.50'))"
   ]
  },
  {
   "cell_type": "code",
   "execution_count": null,
   "id": "7f49c428-1781-41e8-92d4-38a0bb2a3b30",
   "metadata": {},
   "outputs": [],
   "source": [
    "print(re.findall('\\d+.\\d+', 'I wonder when the hip pocket will be out by $11.50 or $12.50'))"
   ]
  },
  {
   "cell_type": "markdown",
   "id": "a851f365-f19c-4c6a-9c1d-0039781a5a1e",
   "metadata": {},
   "source": [
    "### A summary of metacharacters\n",
    "\n",
    "|Meta character|Description|\n",
    "|:----:|----|\n",
    "|.|Period matches any single character except a line break.|\n",
    "|[ ]|Character class. Matches any character contained between the square brackets.|\n",
    "|[^ ]|Negated character class. Matches any character that is not contained between the square brackets|\n",
    "|*|Matches 0 or more repetitions of the preceding symbol.|\n",
    "|+|Matches 1 or more repetitions of the preceding symbol.|\n",
    "|?|Makes the preceding symbol optional.|\n",
    "|{n,m}|Braces. Matches at least \"n\" but not more than \"m\" repetitions of the preceding symbol.|\n",
    "|(xyz)|Character group. Matches the characters xyz in that exact order.|\n",
    "|&#124;|Alternation. Matches either the characters before or the characters after the symbol.|\n",
    "|&#92;|Escapes the next character. This allows you to match reserved characters <code>[ ] ( ) { } . * + ? ^ $ \\ &#124;</code>|\n",
    "|^|Matches the beginning of the input.|\n",
    "|$|Matches the end of the input.|\n",
    "\n",
    "From the excellent resource, [*Learn Regex The Easy Way*](https://github.com/ziishaned/learn-regex/blob/master/README.md)."
   ]
  },
  {
   "cell_type": "markdown",
   "id": "1a18eb1c-3e3c-4efa-8b77-62f204abeb11",
   "metadata": {},
   "source": [
    "### Splitting strings using regular expressions\n",
    "\n",
    "We have seen the `.split()` method that is operable on `string` objects. Now, we can use `.split()` from `re`, which is more advanced:"
   ]
  },
  {
   "cell_type": "code",
   "execution_count": null,
   "id": "7d0f8b28-87db-4c06-998d-eb24a5f22e16",
   "metadata": {},
   "outputs": [],
   "source": [
    "'The quick brown fox jumps over the lazy dog'.split(' ') # we have seen this already"
   ]
  },
  {
   "cell_type": "markdown",
   "id": "11e764b4-451f-461f-a50f-0fd7e795fb56",
   "metadata": {},
   "source": [
    "but, what happens if the sentence contains punctuation that should be removed as the split occurs?\n",
    "\n",
    "`\\s` matches any whitespace character, and is approximately equivalent to `[ \\t\\n\\r\\f\\v]`."
   ]
  },
  {
   "cell_type": "code",
   "execution_count": null,
   "id": "3c634fd1-1b1b-444c-a13c-969689042a90",
   "metadata": {},
   "outputs": [],
   "source": [
    "print(re.split('[\\s.?!]+', 'Hello, World! How are you doing? I hope you\\'re well.'))"
   ]
  },
  {
   "cell_type": "markdown",
   "id": "bf13c2dd-b6c9-4563-9355-f635aa2f7734",
   "metadata": {},
   "source": [
    "### Replacing strings using regular expressions\n",
    "\n",
    "... I want to replace all the vowels in a sentence with `-`. I could do this..."
   ]
  },
  {
   "cell_type": "code",
   "execution_count": null,
   "id": "85e29db6-260c-41ce-96ca-b3b4ae0edbe8",
   "metadata": {},
   "outputs": [],
   "source": [
    "sentence = \"The storm rolled out to sea as the people watched from upon the headland.\"\n",
    "new_sentence = \"\"\n",
    "\n",
    "for c in sentence:\n",
    "    if c in 'aeiou':\n",
    "        new_sentence += '-'\n",
    "    else:\n",
    "        new_sentence += c\n",
    "        \n",
    "print(''.join(new_sentence))"
   ]
  },
  {
   "cell_type": "markdown",
   "id": "29717cea-d998-40c7-8c46-6c9a368dd982",
   "metadata": {},
   "source": [
    "or, the eight lines can be reduced to one, using a regular expression and the `re.sub()` function:"
   ]
  },
  {
   "cell_type": "code",
   "execution_count": null,
   "id": "ed08ee38-263a-43bb-aa60-cfb51305b41a",
   "metadata": {},
   "outputs": [],
   "source": [
    "re.sub('[aeiou]', '-', sentence)"
   ]
  },
  {
   "cell_type": "markdown",
   "id": "1b316e72-4b7c-4a08-a26d-051498d3859f",
   "metadata": {},
   "source": [
    "### More advanced matching with multiple expressions and groups\n",
    "\n",
    "We may want to match particular components of a line, with each having their own regular expression pattern.\n",
    "\n",
    "Try this:"
   ]
  },
  {
   "cell_type": "code",
   "execution_count": null,
   "id": "ab508a8a-be53-4323-8713-d1a70a6b114f",
   "metadata": {},
   "outputs": [],
   "source": [
    "for sentence in ['Anna and John are friends', 'Kayla and Lura are also friends', 'Rima and Tanya are indeed, friends']:\n",
    "    \n",
    "    # notice `and` is included in the overall pattern\n",
    "    match = re.match('(\\w+) and (\\w+)', sentence) \n",
    "    \n",
    "    print(f'The first name is `{match.group(1)}`, and the second name is `{match.group(2)}`.')"
   ]
  },
  {
   "cell_type": "markdown",
   "id": "514cef17-29a7-4897-a9c5-541df5f6cb5c",
   "metadata": {},
   "source": [
    "### ✍ Activity 1:"
   ]
  },
  {
   "cell_type": "code",
   "execution_count": null,
   "id": "6adbced2-db71-4aa2-9537-88af16ac90ac",
   "metadata": {},
   "outputs": [],
   "source": [
    "words = ['rosebud', 'injury', 'wonders', 'sugarcoat', 'boatload', 'signature', 'libraries', 'engineering', 'drawstring', 'jotted', 'midwives', 'kiwi', 'mache', 'diuretics', 'washy', 'amply', 'yech', 'correction', 'limousines', 'cocoon', 'baddest', 'branched', 'imprisonment', 'uninterrupted', 'naw', 'highest', 'moneys', 'flaked', 'ordeal', 'flawed', 'quahog', 'unauthorized', 'contain', 'examine', 'resigning', 'disarming', 'stoney', 'sneakers', 'timing', 'marbles', 'strangle', 'sociology', 'prejudice', 'wretch', 'extensions', 'chicken', 'cob', 'publish', 'argentine', 'crass', 'accordingly', 'topaz', 'berate', 'untouched', 'nephew', 'brushed', 'responses', 'filmmaking', 'chandler', 'ultrasound', 'mare', 'privy', 'representations', 'castles', 'assemblies', 'trussed', 'punishes', 'nuance', 'revolutionary', 'juggernaut', 'suffers', 'urinate', 'tong', 'porterhouse', 'carnival', 'prevents', 'prevail', 'upholstery', 'diaper', 'saxophone', 'innkeeper', 'ivories', 'dorky', 'shifter', 'chili', 'fifteenth', 'disarray', 'husbands', 'haw', 'crier', 'forest', 'dimpled', 'tattoos', 'unusual', 'sings', 'espressos', 'medicare', 'strategy', 'furs']"
   ]
  },
  {
   "cell_type": "markdown",
   "id": "2ea599b8-9815-45ec-a2e5-85f799673d3d",
   "metadata": {},
   "source": [
    "**Filter all words that have more than 3 vowels**"
   ]
  },
  {
   "cell_type": "code",
   "execution_count": null,
   "id": "46b53889-3a5c-43e4-8190-c9bac9eeebe6",
   "metadata": {},
   "outputs": [],
   "source": [
    "# write your code here"
   ]
  },
  {
   "cell_type": "markdown",
   "id": "b66e5a54-9c2b-47ba-b036-8833ba176dfa",
   "metadata": {},
   "source": [
    "**Find all words that follow the [I before E except after C](https://en.wikipedia.org/wiki/I_before_E_except_after_C) rule**"
   ]
  },
  {
   "cell_type": "code",
   "execution_count": null,
   "id": "96120e1f-e502-4ee0-88f1-b84a473cb58f",
   "metadata": {},
   "outputs": [],
   "source": [
    "# write your code here"
   ]
  },
  {
   "cell_type": "markdown",
   "id": "1c25ef49-f480-492f-8d07-cf23a7356bc5",
   "metadata": {},
   "source": [
    "**Find all words ending in `er`**"
   ]
  },
  {
   "cell_type": "code",
   "execution_count": null,
   "id": "e9737afc-4a1b-491e-b9de-e3cbb2990e28",
   "metadata": {},
   "outputs": [],
   "source": [
    "# write your code here"
   ]
  },
  {
   "cell_type": "markdown",
   "id": "c708150f-ba81-44e9-be18-55d39ec061c0",
   "metadata": {},
   "source": [
    "### ✍ Activity 2:"
   ]
  },
  {
   "cell_type": "markdown",
   "id": "868ddb3a-f620-48b3-8cd8-13ac8f983204",
   "metadata": {},
   "source": [
    "Repeat Activity 1 but using this list of words:\n",
    "\n",
    "Note: this time, the words are contiguously stored in a string"
   ]
  },
  {
   "cell_type": "code",
   "execution_count": null,
   "id": "810106a9-a82d-4b9b-a0af-a4bfd35cb6f0",
   "metadata": {},
   "outputs": [],
   "source": [
    "# Run this cell if you don't have the `popular-words.txt` file already\n",
    "import urllib.request\n",
    "urllib.request.urlretrieve('https://raw.githubusercontent.com/dolph/dictionary/master/popular.txt', 'data/popular-words.txt')"
   ]
  },
  {
   "cell_type": "code",
   "execution_count": null,
   "id": "9e1aebe1-a887-42b4-ac80-029de650f2bf",
   "metadata": {},
   "outputs": [],
   "source": [
    "words = \"\"\n",
    "\n",
    "with open('data/popular-words.txt', 'r') as fp:\n",
    "    words = ' '.join([\n",
    "        word.strip()\n",
    "        for word in fp\n",
    "    ])\n",
    "    \n",
    "print(words[0:500])\n",
    "print('...')\n",
    "print(words[-500:])"
   ]
  },
  {
   "cell_type": "markdown",
   "id": "0b207cfb-7537-421e-bbc0-607cbca7ada2",
   "metadata": {},
   "source": [
    "**Filter all words that have more than 3 vowels**"
   ]
  },
  {
   "cell_type": "code",
   "execution_count": null,
   "id": "11486a92-e77c-4e23-b862-1a76722baf68",
   "metadata": {},
   "outputs": [],
   "source": [
    "# write your code here"
   ]
  },
  {
   "cell_type": "markdown",
   "id": "01eca3f6-3818-4aa2-af96-1d01b915f586",
   "metadata": {},
   "source": [
    "**Find all words that follow the [I before E except after C](https://en.wikipedia.org/wiki/I_before_E_except_after_C) rule**"
   ]
  },
  {
   "cell_type": "code",
   "execution_count": null,
   "id": "fc663d91-9aaf-4fcb-8633-47ba8470c215",
   "metadata": {},
   "outputs": [],
   "source": [
    "# write your code here"
   ]
  },
  {
   "cell_type": "markdown",
   "id": "f199e4d4-1d02-4a7d-b395-5160806197d6",
   "metadata": {},
   "source": [
    "**Find all words ending in `er`**"
   ]
  },
  {
   "cell_type": "code",
   "execution_count": null,
   "id": "95d9b1dc-4109-42b9-9f86-fa9e55fb8732",
   "metadata": {},
   "outputs": [],
   "source": [
    "# write your code here"
   ]
  },
  {
   "cell_type": "markdown",
   "id": "b422493a-5e36-48e6-ac98-be6f52ff32d3",
   "metadata": {},
   "source": [
    "### ✍ Activity 3:"
   ]
  },
  {
   "cell_type": "markdown",
   "id": "e0c6a73e-10ee-4bf3-9755-28c02a1cea6b",
   "metadata": {},
   "source": [
    "**Replace all occurrences of `3` with `three` for the given sentence.**"
   ]
  },
  {
   "cell_type": "code",
   "execution_count": null,
   "id": "8393524b-76ec-46e4-88b2-2c8f8b902416",
   "metadata": {},
   "outputs": [],
   "source": [
    "sentence = \"They sang 3 songs during the 3 meals\"\n",
    "\n",
    "# write your code here"
   ]
  },
  {
   "cell_type": "markdown",
   "id": "08cd2767-0873-4d1b-83a2-d44a48cbceec",
   "metadata": {},
   "source": [
    "**For the list `words`, filter to keep all words starting with `act` and ending with at most one more character or `es`.**"
   ]
  },
  {
   "cell_type": "code",
   "execution_count": null,
   "id": "8ea17091-c4a3-4c28-bcfa-dd7e1d665144",
   "metadata": {},
   "outputs": [],
   "source": [
    "words = [\n",
    "    'act', 'acted', 'actin', 'acting', 'action', 'actionable', 'actions', 'activate', 'activated', 'activating', \n",
    "    'activation', 'activators', 'active', 'actively', 'activists', 'activities', 'activity', 'actor', 'actors', \n",
    "    'actress', 'actresses', 'acts', 'actual', 'actuality', 'actualization', 'actually', 'actuarial'\n",
    "]\n",
    "\n",
    "# write your code here"
   ]
  },
  {
   "cell_type": "markdown",
   "id": "dfb20b55-1192-4d6e-89f7-cc29662c4197",
   "metadata": {},
   "source": [
    "### ✍ Activity 4:"
   ]
  },
  {
   "cell_type": "markdown",
   "id": "318c65c9-7137-409d-957d-91640524e0da",
   "metadata": {},
   "source": [
    "Professor David Lovell loves cryptic crosswords. Use your cruciverbal skills or your regular expression powers to help him finish this off.\n",
    "\n",
    "**Word finding with regular expressions**\n",
    "\n",
    "<img src=\"crossword.png\" />"
   ]
  },
  {
   "cell_type": "code",
   "execution_count": null,
   "id": "9e82b130-18ef-4f97-afe1-2a3b4554d99b",
   "metadata": {},
   "outputs": [],
   "source": [
    "# write your code here"
   ]
  }
 ],
 "metadata": {
  "kernelspec": {
   "display_name": "Python 3 (ipykernel)",
   "language": "python",
   "name": "python3"
  },
  "language_info": {
   "codemirror_mode": {
    "name": "ipython",
    "version": 3
   },
   "file_extension": ".py",
   "mimetype": "text/x-python",
   "name": "python",
   "nbconvert_exporter": "python",
   "pygments_lexer": "ipython3",
   "version": "3.10.4"
  }
 },
 "nbformat": 4,
 "nbformat_minor": 5
}
