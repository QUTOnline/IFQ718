{
 "cells": [
  {
   "cell_type": "markdown",
   "id": "6b9a8c80-3ff6-44c1-8ac5-494fb2194abc",
   "metadata": {},
   "source": [
    "# 🛠 IFQ718 Module 05 Exercises 01"
   ]
  },
  {
   "cell_type": "markdown",
   "id": "785d9e23-97a4-4243-be73-54340a97a430",
   "metadata": {
    "tags": []
   },
   "source": [
    "## 🔍  Context: Bash\n",
    "\n",
    "In this notebook, we will get familiar with the command line (CLI). \n",
    "\n",
    "It is important that you learn how to inteact with the system using a Bash shell as in data science you will often not have access to a graphical user interface (eg: you may be remotely connecting to a high performance cluster over SSH). Text editors, tools like Excel and file explorers tend to be our go-to tools for interacting and manipulating data, but it can be combersome using those tools as your datasets may be extremely large and they may not handle large input. In todays class, you will learn some basic bash commands. These skills are applicable in areas such as: scripting, interacting with off-site computers over the internet, Unix systems and more.\n",
    "\n",
    "Importantly, the Born Again Shell (Bash) is used in Linux environments. If you are reading this notebook from the QUT Jupyter Lab service then you are inheritently using a Linux system via your web browser, i.e., the server running Jupyter Lab is running Linux as its operating system. If you download this notebook to your Windows PC then you will experience issues with the commands, as they do not exist in Windows.\n",
    "\n",
    "\n",
    "### ✍ Activity 1: Figure out what is in `./data`?\n",
    "\n",
    "* Use commands (e.g., `ls`, `cd`, `find`) to figure out what files are in the `./data` folder\n",
    "    * Remember `man` to look up information on commands\n",
    "* Figure out what the `file` command does and use it to inspect the files in `./data`\n",
    "* Using `wc` and `find`, print the number of lines in each of the files in `./data`"
   ]
  },
  {
   "cell_type": "markdown",
   "id": "204d24fc-82a8-4c71-b0bc-1484d1079056",
   "metadata": {},
   "source": [
    "**Changing directory**\n",
    "\n",
    "The `cd` (change directory) command will move you to a different directory in the filesystem.\n",
    "\n",
    "The `~` (tilde) symbol is a short-cut for your home directory (ie: on a true Linux system, the `~`may actually indicate `/home/jake/`)."
   ]
  },
  {
   "cell_type": "markdown",
   "id": "ec318356-acf9-4a33-931c-c53a3c694f73",
   "metadata": {},
   "source": [
    "**Listing the contents of a directory**\n",
    "\n",
    "The `ls` (list segments) command will list the contents of the current working directory.\n",
    "\n",
    "A flag can alter what the command does. The `ls` command supports many flags. Let’s specify the flags `-l` (long format), `-a` (all items) and `-h` (human-readable file sizes). To find out more detail about the flags, type `ls --help`."
   ]
  },
  {
   "cell_type": "markdown",
   "id": "22ad3fa4-4910-4c6b-a748-57f32e44ebec",
   "metadata": {},
   "source": [
    "**Counting the lines or characters in a file**\n",
    "\n",
    "The `wc` (word count) command will count how many characters there are in a file.\n",
    "\n",
    "With the additional `-l` flag, it will provide a count of how many lines exist in the file."
   ]
  },
  {
   "cell_type": "code",
   "execution_count": null,
   "id": "9e476018-f832-4a9f-b4ef-e6a1717ad05a",
   "metadata": {},
   "outputs": [],
   "source": [
    "# Write your bash commands here\n",
    "# Be sure to prefix them with an exclamation mark !"
   ]
  },
  {
   "cell_type": "markdown",
   "id": "c15d6200-fc3a-4c13-8dee-2f2651478f95",
   "metadata": {
    "tags": []
   },
   "source": [
    "### ✍ Activity 2: Inspecting files\n",
    "\n",
    "1. Use `cat` to print one of the files in `./data` to the terminal with line numbers\n",
    "\n",
    "1. Use `head -c32 ./data/lorem/lorem.csv; echo` to print out the first 32 characters\n",
    "    * What does the `echo` on the end do?\n",
    "    * Run this command in a terminal: what differences do you see in the output?\n",
    "    \n",
    "1. Now use `od -c` to print out the first 64 bytes of `./data/lorem/lorem.csv`\n",
    "    * What are the first three characters and why don't they print?\n",
    "    * Use `xxd` to see those characters in hexadecimal\n",
    "    * Try [Unicode Lookup](https://unicodelookup.com/) to make sense of them\n",
    "    \n",
    "1. For comparison, print out the  first 64 bytes of `./data/lorem/lorem.txt`\n",
    "    * Make sure you can interpret the output.\n",
    "    * Was this file created on a Unix system, a Mac, or Windows? Why\n"
   ]
  },
  {
   "cell_type": "code",
   "execution_count": null,
   "id": "13706da7-666c-44f5-8927-02eada2fef3f",
   "metadata": {},
   "outputs": [],
   "source": [
    "# Write your bash commands here\n",
    "# Be sure to prefix them with an exclamation mark !"
   ]
  },
  {
   "cell_type": "markdown",
   "id": "a695cb2b-3fb7-4d76-b12e-0e4624880eae",
   "metadata": {},
   "source": [
    "### ✍ Activity 3: selecting rows and columns of files\n",
    "\n",
    "* Often we are interested in specific rows and column of files\n",
    "    * `head`, `tail` help select specific rows\n",
    "        * `sed` and `awk` can help too, and with much, much more\n",
    "    * `cut` helps us select specific columns"
   ]
  },
  {
   "cell_type": "code",
   "execution_count": null,
   "id": "af71e22a-9b51-4a70-a84f-3a7276b9f945",
   "metadata": {},
   "outputs": [],
   "source": [
    "# Write your bash commands here\n",
    "# Be sure to prefix them with an exclamation mark !"
   ]
  },
  {
   "cell_type": "markdown",
   "id": "e720c553-1130-4190-a811-b6461db01b72",
   "metadata": {},
   "source": [
    "### ✍ Activity 4: select specific rows\n",
    "\n",
    "1. Pipe the output of `cat -n ./data/RowCol/RowCol.txt` throught a combination of `head` and `tail` (with appropriate command line switches) to select rows 6-8, inclusive\n",
    "    * See if you can figure out how to get `bash` to do some arithmetic in this\n",
    "        * See [Doing math in Bash](https://learning.oreilly.com/library/view/bash-quick-start/9781789538830/b98b6d2c-1c78-4f5f-be8d-1d3b792e3db2.xhtml)\n",
    "    * Visit [StackOverflow](https://stackoverflow.com/questions/83329/how-can-i-extract-a-predetermined-range-of-lines-from-a-text-file-on-unix) and try a different approach using the stream editor `sed`\n",
    "        * The [GNU `sed` manual](https://www.gnu.org/software/sed/manual/sed.html) is great\n",
    "    * Try [StackExchange](https://unix.stackexchange.com/questions/89640/how-to-run-awk-for-some-number-of-lines) to see how to use the powerful `awk` language\n",
    "        * The [GNU `gawk` manual](https://www.gnu.org/software/gawk/manual/gawk.html) is an excellent reference\n",
    "        * Here's [How The 'awk' Command Made Me A 10x Engineer](https://www.youtube.com/watch?v=FbSpuZVb164)... a very nice intro"
   ]
  },
  {
   "cell_type": "code",
   "execution_count": null,
   "id": "4ee1ce0d-ce7e-473a-9175-38944b87c87b",
   "metadata": {},
   "outputs": [],
   "source": [
    "# Write your bash commands here\n",
    "# Be sure to prefix them with an exclamation mark !"
   ]
  },
  {
   "cell_type": "markdown",
   "id": "75dfd423-3d9b-4867-a5d0-278a6d701f67",
   "metadata": {
    "tags": []
   },
   "source": [
    "### ✍ Activity 5: select specific columns\n",
    "\n",
    "1. Use `cut` to extract the column headed `C2` from `data/RowCol/RowCol.txt` and `data/RowCol/RowCol.csv`\n",
    "    * Note that `TAB` is the default field delimiter\n",
    "2. Use `awk` to extract the column headed `C2` from `data/RowCol/RowCol.txt` and `data/RowCol/RowCol.csv`\n"
   ]
  },
  {
   "cell_type": "code",
   "execution_count": null,
   "id": "5baa6930-3844-4c51-b1cc-95264a97fcc1",
   "metadata": {},
   "outputs": [],
   "source": [
    "# Write your bash commands here\n",
    "# Be sure to prefix them with an exclamation mark !"
   ]
  },
  {
   "cell_type": "markdown",
   "id": "94b9d44e-3d12-49a0-ac71-f31bea6b8b3d",
   "metadata": {},
   "source": [
    "### ✍ Activity 6: select specific rows and columns\n",
    "\n",
    "* This time, we are interested in the elements of rows R4-R7 and columns C1, C4, C5 and C6 of `data/RowCol/RowCol.txt` and `data/RowCol/RowCol.csv`\n",
    "    * The desired output is (tab separated)\n",
    "        * We can translate commas to tabs using `tr ',' '\\t` \n",
    "\n",
    "```\n",
    "R4C1\tR4C4\tR4C5\tR4C6\n",
    "R5C1\tR5C4\tR5C5\tR5C6\n",
    "R6C1\tR6C4\tR6C5\tR6C6\n",
    "R7C1\tR7C4\tR7C5\tR7C6\n",
    "```\n",
    "1. Use `cut` and other tools to extract these elements\n",
    "1. Bonus challenge for a pick of the box, present the output in descending order of rows \n"
   ]
  },
  {
   "cell_type": "code",
   "execution_count": null,
   "id": "bd04d1bf-febd-490f-9c3d-1d99d83b3943",
   "metadata": {},
   "outputs": [],
   "source": [
    "# Write your bash commands here\n",
    "# Be sure to prefix them with an exclamation mark !"
   ]
  }
 ],
 "metadata": {
  "kernelspec": {
   "display_name": "Python 3 (ipykernel)",
   "language": "python",
   "name": "python3"
  },
  "language_info": {
   "codemirror_mode": {
    "name": "ipython",
    "version": 3
   },
   "file_extension": ".py",
   "mimetype": "text/x-python",
   "name": "python",
   "nbconvert_exporter": "python",
   "pygments_lexer": "ipython3",
   "version": "3.10.4"
  }
 },
 "nbformat": 4,
 "nbformat_minor": 5
}
