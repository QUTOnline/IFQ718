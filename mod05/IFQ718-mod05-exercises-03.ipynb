{
 "cells": [
  {
   "cell_type": "markdown",
   "id": "6b9a8c80-3ff6-44c1-8ac5-494fb2194abc",
   "metadata": {},
   "source": [
    "# 🛠 IFQ718 Module 05 Exercises 03"
   ]
  },
  {
   "cell_type": "markdown",
   "id": "785d9e23-97a4-4243-be73-54340a97a430",
   "metadata": {
    "tags": []
   },
   "source": [
    "## 🔍  Context: Restricting rows and columns\n",
    "\n",
    "Now that we have explored importing and exporting data using Pandas, let's look at manipulating the structure of the DataFrame by restricting rows and columns."
   ]
  },
  {
   "cell_type": "code",
   "execution_count": null,
   "id": "31d23866-88a7-4d0e-aa75-12ed18dad1ad",
   "metadata": {},
   "outputs": [],
   "source": [
    "import pandas as pd"
   ]
  },
  {
   "cell_type": "markdown",
   "id": "23d1ca23-93c6-4223-ad30-99af4f14e0da",
   "metadata": {},
   "source": [
    "### ✍ Activity 1: Import the miles per gallon (MPG) dataset\n",
    "\n",
    "Use the following URL: https://raw.githubusercontent.com/mwaskom/seaborn-data/master/mpg.csv"
   ]
  },
  {
   "cell_type": "code",
   "execution_count": null,
   "id": "4bc64439-ed2d-494b-940b-34ea16e5922e",
   "metadata": {},
   "outputs": [],
   "source": [
    "# Write your code here"
   ]
  },
  {
   "cell_type": "markdown",
   "id": "cd6c2b0a-4e3c-421c-bb2a-a17054b16a44",
   "metadata": {},
   "source": [
    "### Restricting columns"
   ]
  },
  {
   "cell_type": "markdown",
   "id": "5036ce1a-2d1a-49ab-a3c0-aa4d51c664b9",
   "metadata": {},
   "source": [
    "Particular columns of a DataFrame can be selected by specifying their names using square bracket notation.\n",
    "\n",
    "```python\n",
    "print(df['column name'])\n",
    "```\n",
    "\n",
    "Multiple columns can be selected using a nested list, within the square brackets.\n",
    "\n",
    "```python\n",
    "print(df[['column name', 'some other column']])\n",
    "```"
   ]
  },
  {
   "cell_type": "markdown",
   "id": "09c72582-8b8f-4fba-bb19-9eee0c6fdb17",
   "metadata": {},
   "source": [
    "Let's use the penguins dataset as an example:\n"
   ]
  },
  {
   "cell_type": "code",
   "execution_count": null,
   "id": "fe0f33f8-de39-400d-ad8b-52cc6f4da29b",
   "metadata": {},
   "outputs": [],
   "source": [
    "df_penguins = pd.read_csv('https://raw.githubusercontent.com/mwaskom/seaborn-data/master/penguins.csv')"
   ]
  },
  {
   "cell_type": "code",
   "execution_count": null,
   "id": "90adfa6a-ff70-40c5-b80f-4d2aff446780",
   "metadata": {},
   "outputs": [],
   "source": [
    "# take ten random records then display as a Markdown table\n",
    "print(df_penguins.sample(n=10).to_markdown(index=False))"
   ]
  },
  {
   "cell_type": "code",
   "execution_count": null,
   "id": "1d1de070-2156-4b4e-8e3e-25396fcf9097",
   "metadata": {},
   "outputs": [],
   "source": [
    "# select only the `species` column\n",
    "print(df_penguins['species'])"
   ]
  },
  {
   "cell_type": "code",
   "execution_count": null,
   "id": "a9cda4a2-5fc6-4c4b-8d59-1072454d211a",
   "metadata": {},
   "outputs": [],
   "source": [
    "# select only the `species` and `sex` columns\n",
    "print(df_penguins[['species', 'sex']])"
   ]
  },
  {
   "cell_type": "markdown",
   "id": "7bb706bc-9e94-49b0-904c-a224bf792eff",
   "metadata": {},
   "source": [
    "### ✍ Activity 2: extract the `name` and `origin` columns from the MPG dataset"
   ]
  },
  {
   "cell_type": "code",
   "execution_count": null,
   "id": "dddae204-126e-4628-bd3e-2da1e27970a1",
   "metadata": {},
   "outputs": [],
   "source": [
    "# Write your code here"
   ]
  },
  {
   "cell_type": "markdown",
   "id": "a051c63f-3d9c-478c-b95b-3e139d593ab9",
   "metadata": {},
   "source": [
    "### Restricting rows\n",
    "\n",
    "Now that subsetting DataFrame's by column is known, let's look at restricting in the other direction... by rows.\n",
    "\n",
    "We can use expressions that evaluate to True or False to achieve this:\n",
    "\n",
    "```python\n",
    "adults = df[df['age'] >= 18]\n",
    "```"
   ]
  },
  {
   "cell_type": "code",
   "execution_count": null,
   "id": "fa14207b-5fde-43e6-93a7-a38a9d0294bc",
   "metadata": {},
   "outputs": [],
   "source": [
    "df_penguins[df_penguins['species'] == 'Adelie']"
   ]
  },
  {
   "cell_type": "markdown",
   "id": "7da7fad1-7903-4f1e-9059-6a5c65ac0a2a",
   "metadata": {},
   "source": [
    "We can also filter by multiple columns, using the *and* `&` and *or* `|` operators:\n",
    "\n",
    "Be sure to wrap each expression in its own set of parentheses!"
   ]
  },
  {
   "cell_type": "code",
   "execution_count": null,
   "id": "1e4e2b73-95b5-41f4-9dc5-2b57d830f74c",
   "metadata": {},
   "outputs": [],
   "source": [
    "df_penguins[(df_penguins['species'] == 'Adelie') & (df['sex'] == 'FEMALE')]"
   ]
  },
  {
   "cell_type": "markdown",
   "id": "f10573cf-2c8c-40e3-b390-012496fedffd",
   "metadata": {},
   "source": [
    "### ✍ Activity 3: what does the follow code snippet do?\n",
    "\n",
    "Try writing your response to this question using plain English that is structured Python-like code. This technique is called writing *pseudocode*."
   ]
  },
  {
   "cell_type": "code",
   "execution_count": null,
   "id": "dfcd1ec8-d5fd-40fb-8d50-75410c846402",
   "metadata": {},
   "outputs": [],
   "source": [
    "df_penguins[((df_penguins['species'] == 'Adelie') & (df['sex'] == 'FEMALE')) | ((df_penguins['island'] == 'Dream') & (df_penguins['sex'] == 'MALE'))]"
   ]
  },
  {
   "cell_type": "code",
   "execution_count": null,
   "id": "716faad0-0d42-42d2-8c17-c3e2e7e6cff2",
   "metadata": {},
   "outputs": [],
   "source": [
    "# Write your pseudocode here"
   ]
  },
  {
   "cell_type": "markdown",
   "id": "74c3c32f-5534-4138-986d-030a3e1703e9",
   "metadata": {},
   "source": [
    "### ✍ Activity 4: for the MPG dataset, restrict the `origin` of the vehicle to only `japan` or `europe`"
   ]
  },
  {
   "cell_type": "code",
   "execution_count": null,
   "id": "9c2e4cf9-b407-4f76-92e1-8401ae1065d2",
   "metadata": {},
   "outputs": [],
   "source": [
    "# Write your pseudocode here"
   ]
  },
  {
   "cell_type": "markdown",
   "id": "60bd4016-474b-480d-976f-ef206cbb4434",
   "metadata": {},
   "source": [
    "### ✍ Activity 5: restricting rows using `.isin()`\n",
    "\n",
    "The example code snippet, below, uses the `isin` function to filter rows. Rewrite using boolean logic, as per the previous activity."
   ]
  },
  {
   "cell_type": "code",
   "execution_count": null,
   "id": "1cd7a894-4ee4-4813-8cb3-9aa56f3e1428",
   "metadata": {},
   "outputs": [],
   "source": [
    "df_penguins[df_penguins['species'].isin(['Adelie', 'Chinstrap'])]"
   ]
  },
  {
   "cell_type": "code",
   "execution_count": null,
   "id": "62aec3e5-3dfa-403f-865e-42423a9445bc",
   "metadata": {},
   "outputs": [],
   "source": [
    "# Write your code here"
   ]
  },
  {
   "cell_type": "markdown",
   "id": "59108915-0844-465e-aa1d-1f884f6e2e5d",
   "metadata": {},
   "source": [
    "### ✍ Activity 6: repeat activity 4 but using `isin`"
   ]
  },
  {
   "cell_type": "code",
   "execution_count": null,
   "id": "c4940e74-5cf9-477a-8ee1-d0a2ad151463",
   "metadata": {},
   "outputs": [],
   "source": [
    "# Write your pseudocode here"
   ]
  },
  {
   "cell_type": "markdown",
   "id": "5752768a-f01f-490c-ac65-0726d0bbad90",
   "metadata": {},
   "source": [
    "### ✍ Activity 7: for the penguins dataset, remove rows where the `sex` field is NaN\n",
    "\n",
    "using the `.notna()` function on the `sex` column"
   ]
  },
  {
   "cell_type": "code",
   "execution_count": null,
   "id": "0ef23561-fad0-4d50-bbf8-4169965256ab",
   "metadata": {},
   "outputs": [],
   "source": [
    "# Write your code here"
   ]
  },
  {
   "cell_type": "markdown",
   "id": "c5fccd73-6ce1-447d-ab69-73a85197dc8c",
   "metadata": {},
   "source": [
    "### ✍ Activity 8: for the MPG dataset, keep rows where the `horsepower` column is NaN. Remove all others\n",
    "\n",
    "hint: use `.isna()`"
   ]
  },
  {
   "cell_type": "code",
   "execution_count": null,
   "id": "55806eb1-cfb5-4b8e-a8a5-4925fb10891e",
   "metadata": {},
   "outputs": [],
   "source": [
    "# Write your code here"
   ]
  },
  {
   "cell_type": "markdown",
   "id": "861ca6f2-fee6-4f18-a39a-6c19dc232386",
   "metadata": {},
   "source": [
    "### ✍ Activity 9: Restricting rows and columns\n",
    "\n",
    "Slicing a DataFrame by rows and columns is not achieved via the square bracket notation. \n",
    "\n",
    "You must use the `.loc` operator:"
   ]
  },
  {
   "cell_type": "code",
   "execution_count": null,
   "id": "1356c0c0-43bc-435e-94c4-5cfbeb7b5775",
   "metadata": {},
   "outputs": [],
   "source": [
    "df_penguins.loc[df_penguins['body_mass_g'] <= 3000, ['species', 'sex', 'body_mass_g']]"
   ]
  },
  {
   "cell_type": "markdown",
   "id": "a9da8aa9-8d6e-44f7-8673-61ffcfa77d48",
   "metadata": {},
   "source": [
    "Generate a DataFrame from the MPG dataset, with:\n",
    "* only the columns `horsepower` and `name`\n",
    "* if the `origin` is `usa`"
   ]
  },
  {
   "cell_type": "code",
   "execution_count": null,
   "id": "21c069be-4384-46cf-957a-2b8d2aa549f4",
   "metadata": {},
   "outputs": [],
   "source": [
    "# Write your code here"
   ]
  }
 ],
 "metadata": {
  "kernelspec": {
   "display_name": "Python 3 (ipykernel)",
   "language": "python",
   "name": "python3"
  },
  "language_info": {
   "codemirror_mode": {
    "name": "ipython",
    "version": 3
   },
   "file_extension": ".py",
   "mimetype": "text/x-python",
   "name": "python",
   "nbconvert_exporter": "python",
   "pygments_lexer": "ipython3",
   "version": "3.10.4"
  }
 },
 "nbformat": 4,
 "nbformat_minor": 5
}
