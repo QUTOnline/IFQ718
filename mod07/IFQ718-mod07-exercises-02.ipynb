{
 "cells": [
  {
   "cell_type": "markdown",
   "id": "6b9a8c80-3ff6-44c1-8ac5-494fb2194abc",
   "metadata": {},
   "source": [
    "# 🛠 IFQ718 Module 07 Exercises 02\n",
    "\n",
    "## 🔍  Context: Combining frames\n",
    "\n",
    "This notebook will use the Sakila dataset, as provided by MySQL under the [New BSD licence](https://dev.mysql.com/doc/sakila/en/sakila-license.html)."
   ]
  },
  {
   "cell_type": "code",
   "execution_count": null,
   "id": "31d23866-88a7-4d0e-aa75-12ed18dad1ad",
   "metadata": {},
   "outputs": [],
   "source": [
    "import pandas as pd"
   ]
  },
  {
   "cell_type": "markdown",
   "id": "192a6c42-72ac-454e-9272-416e0c7ac347",
   "metadata": {},
   "source": [
    "### ✍ Activity 1: load the data\n",
    "\n",
    "The Sakila dataset is spread across many CSV files, all available in `data/sakila-csv`. We will only work with a few of them:\n",
    "* `film.csv`\n",
    "* `inventory.csv`\n",
    "* `customer.csv`\n",
    "* `rental.csv`\n",
    "\n",
    "Load each CSV file as a separate DataFrame."
   ]
  },
  {
   "cell_type": "code",
   "execution_count": null,
   "id": "40d765a8-e544-4c62-bb4f-f0dd67642a2b",
   "metadata": {},
   "outputs": [],
   "source": [
    "# Write your code here\n",
    "df_film = \n",
    "df_inventory = \n",
    "df_customer = \n",
    "df_rental = "
   ]
  },
  {
   "cell_type": "raw",
   "id": "1e8d370f-a7b1-4c90-b88c-e2b79faf3ec3",
   "metadata": {},
   "source": [
    "Write about each frame here:\n",
    " 1. \n",
    " 2. \n",
    " 3.  \n",
    " 4. "
   ]
  },
  {
   "cell_type": "markdown",
   "id": "3dbc0cd4-da77-4561-b84c-1e5f9cb1b07b",
   "metadata": {},
   "source": [
    "### ✍ Activity 2: merge the inventory and films frames together\n",
    "\n",
    "You may have noticed that the frames extensively use identifier fields. \n",
    "\n",
    "For example, the `inventory` frame contains `film_id`, which is a column of integers. \n",
    "Each number in this column refers to a record in the `film` frame. \n",
    "\n",
    "Your activity, here, is to join the frames where the two film IDs match.\n",
    "\n",
    "Read the Pandas reference [here](https://pandas.pydata.org/docs/reference/api/pandas.DataFrame.merge.html), for merging frames.\n",
    "\n",
    "Produce a frame that has the following columns: `inventory_id`, `film_id`, `title`, `description`"
   ]
  },
  {
   "cell_type": "code",
   "execution_count": null,
   "id": "e1c752e3-fb40-4a3b-9b01-1ba358841f53",
   "metadata": {},
   "outputs": [],
   "source": [
    "# Write your code here"
   ]
  },
  {
   "cell_type": "markdown",
   "id": "3007a317-f091-4840-8f40-d3727a997356",
   "metadata": {},
   "source": [
    "### ✍ Activity 3: using your frame from activity 2, merge the rental frame\n",
    "\n",
    "Your previous frame should contain `inventory_id`. You may have noticed that the `rental` frame also contains this column.\n",
    "\n",
    "The `inventory_id` column in the `rental` frame keeps a record of which exact copy of a film was rented to a particular customer. i.e., *customer John rented copy #5 of the movie Sharks*.\n",
    "\n",
    "Your new frame should have the following columns: `inventory_id`, `film_id`, `title`, `description`, `customer_id`"
   ]
  },
  {
   "cell_type": "code",
   "execution_count": null,
   "id": "40bf1d65-e8d5-4b13-8628-a273c489907d",
   "metadata": {},
   "outputs": [],
   "source": [
    "# Write your code here"
   ]
  },
  {
   "cell_type": "markdown",
   "id": "3d0932ed-d6d6-4ee6-b925-e45ab84c792f",
   "metadata": {},
   "source": [
    "### ✍ Activity 4: using your frame from activity 3, merge the customer frame\n",
    "\n",
    "Your previous frame should contain `customer_id`. You may have noticed that the `customer` frame also contains this column.\n",
    "\n",
    "The `customer_id` column in the `rental` frame keeps a record of which customer rented a particular copy of a film. i.e., *customer John rented copy #5 of the movie Sharks*.\n",
    "\n",
    "Your new frame should have the following columns: `inventory_id`, `film_id`, `title`, `description`, `first_name`, `last_name`"
   ]
  },
  {
   "cell_type": "code",
   "execution_count": null,
   "id": "c8bad48f-8171-4db2-9ccb-30d43e24d227",
   "metadata": {},
   "outputs": [],
   "source": [
    "# Write your code here"
   ]
  },
  {
   "cell_type": "markdown",
   "id": "33234341-7300-408f-9671-fc91d2c0ca61",
   "metadata": {},
   "source": [
    "### ✍ Activity 5: merge the `first_name` and `last_name` columns by concatenating them with a space\n",
    "\n",
    "Remove the old customer name columns."
   ]
  },
  {
   "cell_type": "code",
   "execution_count": null,
   "id": "21b72256-052f-4339-b171-c4d0d0ae88a6",
   "metadata": {},
   "outputs": [],
   "source": [
    "# Write your code here"
   ]
  },
  {
   "cell_type": "markdown",
   "id": "663db6b6-6db9-447a-94db-f307182782c9",
   "metadata": {},
   "source": [
    "### ✍ Activity 6: how many films has each customer rented?"
   ]
  },
  {
   "cell_type": "code",
   "execution_count": null,
   "id": "46c5597a-98e4-468f-bb4b-160bdf1bf97d",
   "metadata": {},
   "outputs": [],
   "source": [
    "# Write your code here"
   ]
  },
  {
   "cell_type": "markdown",
   "id": "f8e8ca2e-1537-4949-b44d-ae0630b70841",
   "metadata": {},
   "source": [
    "## Extra reading\n",
    "\n",
    "Users who are familiar with SQL but new to pandas might be interested in [a comparison with SQL](https://pandas.pydata.org/docs/getting_started/comparison/comparison_with_sql.html#compare-with-sql-join)."
   ]
  }
 ],
 "metadata": {
  "kernelspec": {
   "display_name": "Python 3 (ipykernel)",
   "language": "python",
   "name": "python3"
  },
  "language_info": {
   "codemirror_mode": {
    "name": "ipython",
    "version": 3
   },
   "file_extension": ".py",
   "mimetype": "text/x-python",
   "name": "python",
   "nbconvert_exporter": "python",
   "pygments_lexer": "ipython3",
   "version": "3.10.4"
  }
 },
 "nbformat": 4,
 "nbformat_minor": 5
}
