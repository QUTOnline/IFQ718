{
 "cells": [
  {
   "cell_type": "markdown",
   "id": "6b9a8c80-3ff6-44c1-8ac5-494fb2194abc",
   "metadata": {},
   "source": [
    "# 🛠 IFQ718 Module 07 Exercises 01\n",
    "\n",
    "## 🔍  Context: Transposing, reshaping and sorting DataFrames\n",
    "\n"
   ]
  },
  {
   "cell_type": "code",
   "execution_count": null,
   "id": "31d23866-88a7-4d0e-aa75-12ed18dad1ad",
   "metadata": {},
   "outputs": [],
   "source": [
    "import pandas as pd"
   ]
  },
  {
   "cell_type": "code",
   "execution_count": null,
   "id": "bc004ff0-7200-4082-8e11-b8f3793e2cf1",
   "metadata": {},
   "outputs": [],
   "source": [
    "df = pd.read_csv('data/penguins.csv')"
   ]
  },
  {
   "cell_type": "markdown",
   "id": "1681a1ef-245e-4fa6-ad54-0407f1ba7766",
   "metadata": {},
   "source": [
    "## Transposing a DataFrame\n",
    "\n",
    "Tranposing a DataFrame is the operation that switches rows and columns, by reflecting over the main diagonal.\n",
    "\n",
    "### ✍ Activity 1: transpose a DataFrame\n",
    "\n",
    "You can transpose using `.T` or `.transpose()`. Give it go:"
   ]
  },
  {
   "cell_type": "code",
   "execution_count": null,
   "id": "62f1f66e-efac-471e-8a42-2b13ec3610f6",
   "metadata": {},
   "outputs": [],
   "source": [
    "# Write your code here"
   ]
  },
  {
   "cell_type": "markdown",
   "id": "0c106b5d-43c9-46a6-8fea-ba3981412b26",
   "metadata": {},
   "source": [
    "### ✍ Activity 2: check on the dtypes before and after the transpose"
   ]
  },
  {
   "cell_type": "code",
   "execution_count": null,
   "id": "488d0f39-845b-4842-b61b-17657cf99576",
   "metadata": {},
   "outputs": [],
   "source": [
    "# Write your code here"
   ]
  },
  {
   "cell_type": "raw",
   "id": "9fc5adba-f3e5-4c76-b810-1cbf8e308d6e",
   "metadata": {},
   "source": [
    "Write your observations here"
   ]
  },
  {
   "cell_type": "markdown",
   "id": "9fe7df03-d3ad-4410-9aae-b7d2a6a160b8",
   "metadata": {},
   "source": [
    "## Melting a DataFrame\n",
    "\n",
    "The structure of tabular data is an in-depth topic, with database normalisation being one subtopic of significance. \n",
    "\n",
    "Normalisation is the process of structuring or restructuring tabular data into different forms. Consider the penguins dataset, where properties of penguin observations are stored as columns. We *melt* a dataframe into a different form, where columns become variable-value pairs, reducing the number of columns but increasing the number of rows:"
   ]
  },
  {
   "cell_type": "code",
   "execution_count": null,
   "id": "58abe285-1929-421e-a9aa-b2c9065a38d6",
   "metadata": {},
   "outputs": [],
   "source": [
    "df"
   ]
  },
  {
   "cell_type": "markdown",
   "id": "23ecf2ab-c8ee-43f0-bed3-cad4bd383877",
   "metadata": {},
   "source": [
    "As you would already know, the original DataFrame has 344 rows and 7 columns. Now try:"
   ]
  },
  {
   "cell_type": "code",
   "execution_count": null,
   "id": "63b64db2-0e55-4c1b-9203-bde4b491be19",
   "metadata": {},
   "outputs": [],
   "source": [
    "df.melt(id_vars=[\"species\", \"island\"], var_name=\"variable\")"
   ]
  },
  {
   "cell_type": "markdown",
   "id": "868c4cf0-58e5-4712-879d-cc49e925f59f",
   "metadata": {},
   "source": [
    "### ✍ Activity 3: what has changed about the structure of the DataFrame?"
   ]
  },
  {
   "cell_type": "raw",
   "id": "0a19483c-eb63-4c67-af4a-a0e2ae0a9cb0",
   "metadata": {},
   "source": [
    "Write your observations here"
   ]
  },
  {
   "cell_type": "markdown",
   "id": "3187985d-e4ff-4c48-87bd-0a8f2508bc0a",
   "metadata": {},
   "source": [
    "### ✍ Activity 4: think about how we would *unmelt* this new frame back to the original\n",
    "\n",
    "Have we lost any critical data? Take note of the index"
   ]
  },
  {
   "cell_type": "raw",
   "id": "2261c323-25dc-40fd-94c4-ea6573611594",
   "metadata": {},
   "source": [
    "Write your observations here"
   ]
  },
  {
   "cell_type": "markdown",
   "id": "b53e10f0-e1ec-4964-8a78-05335be7e002",
   "metadata": {},
   "source": [
    "### ✍ Activity 5: write code to melt the original DataFrame, without losing the ability to reverse the *melt*"
   ]
  },
  {
   "cell_type": "code",
   "execution_count": null,
   "id": "7b86dbcb-7ace-4276-8790-246a0b75f1dc",
   "metadata": {},
   "outputs": [],
   "source": [
    "# Write your code here"
   ]
  },
  {
   "cell_type": "markdown",
   "id": "88e10753-58c0-4cf3-bfdf-12e5465b350d",
   "metadata": {},
   "source": [
    "### ✍ Activity 6: *\"unmelt\"* the DataFrame using the `.pivot()` function\n",
    "\n",
    "You should refer to the Pandas documentation for this, [here](https://pandas.pydata.org/docs/reference/api/pandas.DataFrame.pivot.html)."
   ]
  },
  {
   "cell_type": "code",
   "execution_count": null,
   "id": "d569fcda-8ff4-4f99-b6ff-656a1a54d184",
   "metadata": {},
   "outputs": [],
   "source": [
    "# Write your code here\n",
    "df"
   ]
  },
  {
   "cell_type": "markdown",
   "id": "4b2d9ece-5f6a-4ade-bc89-3f1b401311d4",
   "metadata": {},
   "source": [
    "## Sorting \n",
    "\n",
    "The `.sort_values()` function will sort a DataFrame by the specified columns."
   ]
  },
  {
   "cell_type": "markdown",
   "id": "1a9ad337-d13b-4397-8247-24b0d77413ef",
   "metadata": {},
   "source": [
    "### ✍ Activity 7: read the Pandas documentation manual for [`.sort_values()`](https://pandas.pydata.org/docs/reference/api/pandas.DataFrame.sort_values.html)\n",
    "\n",
    "Read [here](https://pandas.pydata.org/docs/reference/api/pandas.DataFrame.sort_values.html).\n",
    "\n",
    "Then, sort the penguins dataset by bill depth then body mass."
   ]
  },
  {
   "cell_type": "code",
   "execution_count": null,
   "id": "e42af36f-0125-4c0a-ad11-91028a6721c2",
   "metadata": {},
   "outputs": [],
   "source": [
    "# Write your code here"
   ]
  },
  {
   "cell_type": "raw",
   "id": "91c03dfe-8352-4646-97da-be16be50f22a",
   "metadata": {},
   "source": [
    "Write your observations here. How are NaN's handled, by default?"
   ]
  }
 ],
 "metadata": {
  "kernelspec": {
   "display_name": "Python 3 (ipykernel)",
   "language": "python",
   "name": "python3"
  },
  "language_info": {
   "codemirror_mode": {
    "name": "ipython",
    "version": 3
   },
   "file_extension": ".py",
   "mimetype": "text/x-python",
   "name": "python",
   "nbconvert_exporter": "python",
   "pygments_lexer": "ipython3",
   "version": "3.10.4"
  }
 },
 "nbformat": 4,
 "nbformat_minor": 5
}
