{
 "cells": [
  {
   "cell_type": "markdown",
   "id": "6b9a8c80-3ff6-44c1-8ac5-494fb2194abc",
   "metadata": {},
   "source": [
    "# 🛠 IFQ718 Module 08 Exercises 01\n",
    "\n",
    "## 🔍  Context: Data Carpentry Pipelines and Burgers 🍔\n",
    "\n",
    "The goal of this notebook is to capture, wrangle and manipulate \"burger data\", using any technology that you have learnt in this unit. \n",
    "\n",
    "Use your experience with literate programming, via Jupyter Notebooks, to prepare a live document that provides insights into the data. \n",
    "\n",
    "To generate the burger files, please run the code cell below. \n",
    "\n",
    "Your task is to parse the burger files and answer some questions."
   ]
  },
  {
   "cell_type": "code",
   "execution_count": null,
   "id": "31d23866-88a7-4d0e-aa75-12ed18dad1ad",
   "metadata": {},
   "outputs": [],
   "source": [
    "# Do not modify this cell\n",
    "# Run this cell before moving onto the activities\n",
    "\n",
    "import os, random, json, csv\n",
    "import pandas as pd\n",
    "\n",
    "def burger_to_string(burger):\n",
    "    \n",
    "    salads = '\\t'.join(burger['salads'])\n",
    "    sauces = ', '.join(burger['sauces'])\n",
    "    \n",
    "    ingredients = [\n",
    "        f\"Bun: {burger['bun']}\",\n",
    "        f\"Protein: {burger['protein']}\",\n",
    "        f\"Cheese: {burger['cheese']}\",\n",
    "        f\"Salads: {salads}\",\n",
    "        f\"Sauces: {sauces}\",\n",
    "        f\"Toasted: {burger['bun_toasted']}\",\n",
    "    ]\n",
    "    \n",
    "    random.shuffle(ingredients)\n",
    "    \n",
    "    return f\"Burger {burger['id']:0>5}\\n\" + '\\n'.join(ingredients)\n",
    "\n",
    "def make_burgers(\n",
    "    num_burgers=100, \n",
    "    formats=['txt', 'json'], \n",
    "    out_dir='burgers', \n",
    "    proteins=['beef', 'wagyu', 'pork', 'fish', 'egg', 'bacon', 'vege'],\n",
    "    cheeses=['cheddar', 'swiss', 'brie', 'gouda', 'colby', 'pepper'],\n",
    "    salads=['tomato', 'beetroot', 'lettuce', 'onion', 'pickle', 'pineapple', 'avocado'],\n",
    "    sauces=['ketchup', 'bbq', 'ranch', 'aioli', 'mustard', 'mayo', 'chipotle'],\n",
    "    buns=['plain', 'sesame', 'brioche', 'english', 'ciabatta']\n",
    "):\n",
    "    \n",
    "    if not os.path.exists(out_dir):\n",
    "        os.mkdir(out_dir)\n",
    "    \n",
    "    for burger_id in range(num_burgers):\n",
    "        burger_ext = random.choice(formats)\n",
    "        burger_fp = os.path.join(out_dir, f'burger_{burger_id:0>5}.{burger_ext}')\n",
    "        \n",
    "        num_sauces = random.randint(1, 3)\n",
    "        num_salads = random.randint(1, len(salads))\n",
    "        \n",
    "        burger = {\n",
    "            'id' : burger_id,\n",
    "            'bun' : random.choice(buns),\n",
    "            'protein' : random.choice(proteins),\n",
    "            'cheese'  : random.choice(cheeses),\n",
    "            'salads' : random.sample(salads, num_salads),\n",
    "            'sauces' : random.sample(sauces, num_sauces),\n",
    "            'bun_toasted' : random.choice([True, False])\n",
    "        }\n",
    "        \n",
    "        if burger_ext == 'txt':\n",
    "            burger_output = burger_to_string(burger)\n",
    "            \n",
    "        elif burger_ext == 'json':\n",
    "            burger_output = json.dumps(burger)\n",
    "\n",
    "        with open(burger_fp, 'w') as fp:\n",
    "            fp.write(f'{burger_output}')\n",
    "            \n",
    "make_burgers()"
   ]
  },
  {
   "cell_type": "markdown",
   "id": "192a6c42-72ac-454e-9272-416e0c7ac347",
   "metadata": {},
   "source": [
    "### ✍ Activity 1: \n",
    "\n",
    "**Below are a set of questions for your consideration**\n",
    "\n",
    "For each question, you are required to write the necessary code in order to find the answer. Write a paragraph discussing your findings.\n",
    "\n",
    "If you need to prepare frames that can help with answering multiple questions, please do this in the Preparation section, below. \n",
    "\n",
    "You may add and remove markdown and code cells as you please."
   ]
  },
  {
   "cell_type": "markdown",
   "id": "5466d4a7-121f-44a0-b7ac-caee971aa617",
   "metadata": {},
   "source": [
    "#### Preparations"
   ]
  },
  {
   "cell_type": "code",
   "execution_count": null,
   "id": "c5230551-48c0-42a2-a689-5a443a939de1",
   "metadata": {},
   "outputs": [],
   "source": [
    "# Write your preparations here"
   ]
  },
  {
   "cell_type": "markdown",
   "id": "66abe2d3-f32c-4959-aded-e8b354c6492e",
   "metadata": {},
   "source": [
    "#### What were the three most popular ingregients?"
   ]
  },
  {
   "cell_type": "code",
   "execution_count": null,
   "id": "1b00bbaa-ec99-4d41-8479-88f31bee8c77",
   "metadata": {},
   "outputs": [],
   "source": [
    "# Write your code here"
   ]
  },
  {
   "cell_type": "raw",
   "id": "8d7cfb5b-40d0-48fd-8623-7d713d720669",
   "metadata": {},
   "source": [
    "Write your discussion here"
   ]
  },
  {
   "cell_type": "markdown",
   "id": "cdecf64c-a495-49a2-86df-d7f45409b558",
   "metadata": {},
   "source": [
    "#### Which bun and sauce combination was most popular?"
   ]
  },
  {
   "cell_type": "code",
   "execution_count": null,
   "id": "e9d1cd30-dc17-4cb8-a09b-1da1a65812fc",
   "metadata": {},
   "outputs": [],
   "source": [
    "# Write your code here"
   ]
  },
  {
   "cell_type": "raw",
   "id": "11e88e84-882e-44d7-8040-c812ed1cfa33",
   "metadata": {},
   "source": [
    "Write your discussion here"
   ]
  },
  {
   "cell_type": "markdown",
   "id": "44b9a1ee-6f86-476c-bcd3-9197a2cc6e74",
   "metadata": {},
   "source": [
    "#### Create a pivot table that describes the number of sauces and salads used per bun type"
   ]
  },
  {
   "cell_type": "code",
   "execution_count": null,
   "id": "0e18e67a-8607-4183-b742-6c4ed23089a1",
   "metadata": {},
   "outputs": [],
   "source": [
    "# Write your code here"
   ]
  },
  {
   "cell_type": "raw",
   "id": "7e801594-cd7d-49b4-a3e8-ce3cbf9e83e7",
   "metadata": {},
   "source": [
    "Write your discussion here"
   ]
  },
  {
   "cell_type": "markdown",
   "id": "aeab1e89-7b8d-4526-a2a9-230c980a7685",
   "metadata": {},
   "source": [
    "### ✍ Activity 2:\n",
    "\n",
    "**Below are a set of questions for your consideration**\n",
    "\n",
    "For each question, you are required to write the necessary code in order to find the answer. Write a paragraph discussing your findings.\n",
    "\n",
    "If you need to prepare frames that can help with answering multiple questions, please do this in the Preparation section, below. \n",
    "\n",
    "You may add and remove markdown and code cells as you please."
   ]
  },
  {
   "cell_type": "code",
   "execution_count": null,
   "id": "cdca0c89-0811-47c9-a05c-0f25744f7623",
   "metadata": {
    "tags": []
   },
   "outputs": [],
   "source": [
    "df_financials = pd.DataFrame([\n",
    "    ['ingredient' : 'beef',        'cost' : 1.00,  'price' : 2.40],\n",
    "    ['ingredient' : 'wagyu',       'cost' : 1.80,  'price' : 4.00],\n",
    "    ['ingredient' : 'pork',        'cost' : 1.30,  'price' : 2.60],\n",
    "    ['ingredient' : 'fish',        'cost' : 0.90,  'price' : 1.50],\n",
    "    ['ingredient' : 'egg',         'cost' : 0.25,  'price' : 0.45],\n",
    "    ['ingredient' : 'bacon',       'cost' : 0.60,  'price' : 1.00],\n",
    "    ['ingredient' : 'vege',        'cost' : 2.00,  'price' : 2.60],\n",
    "    ['ingredient' : 'cheddar',     'cost' : 0.50,  'price' : 0.80],\n",
    "    ['ingredient' : 'swiss',       'cost' : 0.50,  'price' : 0.75],\n",
    "    ['ingredient' : 'brie',        'cost' : 0.60,  'price' : 0.95],\n",
    "    ['ingredient' : 'gouda',       'cost' : 0.60,  'price' : 0.95],\n",
    "    ['ingredient' : 'colby',       'cost' : 0.30,  'price' : 0.65],\n",
    "    ['ingredient' : 'pepper',      'cost' : 0.50,  'price' : 0.70],\n",
    "    ['ingredient' : 'tomato',      'cost' : 0.40,  'price' : 0.80],\n",
    "    ['ingredient' : 'beetroot',    'cost' : 0.30,  'price' : 0.60],\n",
    "    ['ingredient' : 'lettuce',     'cost' : 0.25,  'price' : 0.45],\n",
    "    ['ingredient' : 'onion',       'cost' : 0.15,  'price' : 0.35],\n",
    "    ['ingredient' : 'pickle',      'cost' : 0.10,  'price' : 0.15],\n",
    "    ['ingredient' : 'pineapple',   'cost' : 0.40,  'price' : 0.50],\n",
    "    ['ingredient' : 'avocado',     'cost' : 0.80,  'price' : 1.80],\n",
    "    ['ingredient' : 'ketchup',     'cost' : 0.10,  'price' : 0.12],\n",
    "    ['ingredient' : 'bbq',         'cost' : 0.09,  'price' : 0.13],\n",
    "    ['ingredient' : 'ranch',       'cost' : 0.13,  'price' : 0.16],\n",
    "    ['ingredient' : 'aioli',       'cost' : 0.13,  'price' : 0.17],\n",
    "    ['ingredient' : 'mustard',     'cost' : 0.08,  'price' : 0.12],\n",
    "    ['ingredient' : 'mayo',        'cost' : 0.09,  'price' : 0.13],\n",
    "    ['ingredient' : 'chipotle',    'cost' : 0.10,  'price' : 0.13],\n",
    "    ['ingredient' : 'plain',       'cost' : 0.60,  'price' : 1.50],\n",
    "    ['ingredient' : 'sesame',      'cost' : 0.70,  'price' : 1.50],\n",
    "    ['ingredient' : 'brioche',     'cost' : 1.00,  'price' : 1.50],\n",
    "    ['ingredient' : 'english',     'cost' : 0.80,  'price' : 1.50],\n",
    "    ['ingredient' : 'ciabatta',    'cost' : 0.90,  'price' : 1.50]\n",
    "])"
   ]
  },
  {
   "cell_type": "markdown",
   "id": "00cc6390-6292-48eb-a2f4-48dda9904b44",
   "metadata": {
    "tags": []
   },
   "source": [
    "### Preparations"
   ]
  },
  {
   "cell_type": "code",
   "execution_count": null,
   "id": "f62989d6-e9e4-4274-b8c5-fe8c4d8af1ac",
   "metadata": {},
   "outputs": [],
   "source": [
    "# Write your preparations here"
   ]
  },
  {
   "cell_type": "markdown",
   "id": "4d031f6c-4ad0-4ee0-95e4-1ee7c3d79325",
   "metadata": {},
   "source": [
    "### What was the cost of each burger?"
   ]
  },
  {
   "cell_type": "code",
   "execution_count": null,
   "id": "af071175-b5f6-425f-974b-537ef6a27c04",
   "metadata": {},
   "outputs": [],
   "source": [
    "# Write your code here"
   ]
  },
  {
   "cell_type": "raw",
   "id": "57138bcf-f67a-4279-b766-f713f35b3451",
   "metadata": {},
   "source": [
    "Write your discussion here"
   ]
  },
  {
   "cell_type": "markdown",
   "id": "dc007982-eb8f-4fef-abc2-ed834fca3ae1",
   "metadata": {},
   "source": [
    "### How much profit was made per burger?"
   ]
  },
  {
   "cell_type": "code",
   "execution_count": null,
   "id": "b9410399-6ad5-450c-944c-78722bbb0337",
   "metadata": {},
   "outputs": [],
   "source": [
    "# Write your code here"
   ]
  },
  {
   "cell_type": "raw",
   "id": "62fc2017-e338-48c1-b11c-1d07f11fadde",
   "metadata": {},
   "source": [
    "Write your discussion here"
   ]
  },
  {
   "cell_type": "markdown",
   "id": "f2381b9b-d022-4d9e-8c3e-279ba5da5d32",
   "metadata": {},
   "source": [
    "### What was the profit overall?"
   ]
  },
  {
   "cell_type": "code",
   "execution_count": null,
   "id": "53019b4a-fd56-4cd1-9ff1-0296ada7c411",
   "metadata": {},
   "outputs": [],
   "source": [
    "# Write your code here"
   ]
  },
  {
   "cell_type": "raw",
   "id": "7bff5efe-fa02-4c76-9c95-61c8b81dc366",
   "metadata": {},
   "source": [
    "Write your discussion here"
   ]
  },
  {
   "cell_type": "markdown",
   "id": "04f9c115-c7b9-4ae8-aea0-fd479d4f3aa7",
   "metadata": {},
   "source": [
    "### Provide a summary of the profit margin for each protein\n",
    "\n",
    "Including the minimum, maximum, mean and median profits"
   ]
  },
  {
   "cell_type": "code",
   "execution_count": null,
   "id": "787f4ce7-85f2-4eff-afce-0b8ea5452ba4",
   "metadata": {},
   "outputs": [],
   "source": [
    "# Write your code here"
   ]
  },
  {
   "cell_type": "raw",
   "id": "75322ccb-22cf-48be-b877-8091477a7923",
   "metadata": {},
   "source": [
    "Write your discussion here"
   ]
  }
 ],
 "metadata": {
  "kernelspec": {
   "display_name": "Python 3 (ipykernel)",
   "language": "python",
   "name": "python3"
  },
  "language_info": {
   "codemirror_mode": {
    "name": "ipython",
    "version": 3
   },
   "file_extension": ".py",
   "mimetype": "text/x-python",
   "name": "python",
   "nbconvert_exporter": "python",
   "pygments_lexer": "ipython3",
   "version": "3.10.4"
  }
 },
 "nbformat": 4,
 "nbformat_minor": 5
}
